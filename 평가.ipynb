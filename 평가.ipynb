{
  "nbformat": 4,
  "nbformat_minor": 0,
  "metadata": {
    "colab": {
      "provenance": [],
      "collapsed_sections": [
        "htKZSJMfFq4K",
        "T-WswBKPrPtu"
      ],
      "mount_file_id": "1T-aTWRbYvTzDWK8Nux_7YeUFYkVHdsh8",
      "authorship_tag": "ABX9TyNDJevALkUWhqpo42slsDoL",
      "include_colab_link": true
    },
    "kernelspec": {
      "name": "python3",
      "display_name": "Python 3"
    },
    "language_info": {
      "name": "python"
    }
  },
  "cells": [
    {
      "cell_type": "markdown",
      "metadata": {
        "id": "view-in-github",
        "colab_type": "text"
      },
      "source": [
        "<a href=\"https://colab.research.google.com/github/GoodJinMo/kfq_ML_2023/blob/main/%ED%8F%89%EA%B0%80.ipynb\" target=\"_parent\"><img src=\"https://colab.research.google.com/assets/colab-badge.svg\" alt=\"Open In Colab\"/></a>"
      ]
    },
    {
      "cell_type": "code",
      "source": [
        "import pandas as pd\n",
        "import numpy as np"
      ],
      "metadata": {
        "id": "Mt-ThGd8F8DO"
      },
      "execution_count": 11,
      "outputs": []
    },
    {
      "cell_type": "markdown",
      "source": [
        "![화면 캡처 2023-06-15 123328.png](data:image/png;base64,iVBORw0KGgoAAAANSUhEUgAAAZwAAAC5CAYAAAAcV4kIAAAAAXNSR0IArs4c6QAAAARnQU1BAACxjwv8YQUAAAAJcEhZcwAAEnQAABJ0Ad5mH3gAAFrsSURBVHhe7b0JwCVHWa9fs6+ZLZnJZCazZEEgIZEEQkgCVyIgKGvgRlEBERcUIypeFLyX3PuPXiOgoAgoKhECKohAZBEj8gfFEEIgCQkJISHLTGbJzCSTWTL7dut5q97+6nRXV9f5tvmWer7pOd1Vv3qrurq63q7qPn2mHLOYQqFQKBRGmKn+s1AoFAqFEaU4nEKhUCiMCsXhFAqFQmFUKA6nUCgUCqNCcTiFQqFQGBWKwykUCoXCqFAcTqFQKBRGheJwChVHy1eyCoXCCFIcTmEA62+K0ykUCiNFcTiFiqlTpxj+CoVCYSQoDqfQw5TibwqFwghRHE6hUCgURoXicAqFQqEwKhSHUygUCoVRoTicQqFQKIwKxeEUCoVCYVQoDqdQKBQKo0JxOIVCoVAYFYrDKRQKhcKoUBxOoTAJKG8sKgyGY7bhHD161G+1g46liyyHs2ffQfOlG+8zt9292YdMLnY+vr+csIURgXY1nG2rbo913o/HX6HQReg09L2KU6c23UTduYjDCdZB2l1Nl+Vw7nnwUfNvX7/XfPTz3zF79x/yoZODR3fsMdt37PVbhcLwc/jIEXPosF0OHRnyy1M5wcMrUrqBo0ft/3YpFLrQVkI7PHLkaMNhQOVQgnY2ZcoU2SZOU8TaXKfDOXT4qLlvw3YzZ9YMM2PaVPOP13/XfOf7D5v9Bw97xcTmhHmzzanLF5Z3jBVGBE7PqbZxcXIDL0+tn+Nss6imTj0+TI6zCdOhI2ywDNUhTnakQx6jdSjtxJYNx0F3N8329zgSykuYOiFgD4iTdRt+2IcTpl3llKnNTrPT4Tz8yG7z/Qe22Y53ljlx0Vzz/990n/nb624xm7ft9oqJzcwZ08yM6dP8VqEwzNgzl9GNXCHKiWtHOcGVo4TZeMIVGyQLcZoGx6WdAG/9Vg1pZdvG4WjUNuly0XwK45vwGKrTk2OLM8HJWP+AQyGM0baOUNAyrcaFkW67NAOfRBFfhWPfLuqUFHE4xIUg1rAjNjHr3MfYu/+gOWXpCdLA77pvqxN0QFrdUVn3OwEaXihMFLRJ6zmkSxucvJyU0+3VpIJcTnzOFfmHLU5uZ4ht+eTElvPTXnkePirbOBjSaqeAs5ErVaunTAOdwcD552wMlFnzUb370QrnEAHbhcEhI4BaJzxc1I+LHq8Y0j5YcBD2E6noKZ/9o41RTCwQrHoJk23iBtLhbHSdkY04KxuGfU3LZ9XKdahUR34jxWZCFT2w8TFz4OBhM916u/0HDst6DpwM+6yezMVQgDs5/IYn3E7FFQrHm0b79CchHJGrPdu+fZguehUpnbk9uWRKzeo4zwgjnikKwhj9kEacgv0D1t2oBnsuTPLy68A2NsSePf9YFwdlNZKGjsPnpTa0oyEOHengyFE7wjp82JXb2i2MTQaOfhPp7G0D49O1AQns6X8ZxUgbtAG0BQYbRBKm6SWtz4lt4kKm8YCBGgQrIK226Sm2QR4jEYbEIJlYcDSAo/jcV79ntm7fY85YtUTCdj1+wKxdscg86fSlZu7smTadm++Lgd2Ddni2f/8hs2D+bHPQnkBMU7FDmi8NX5+E0DDigZ2jXLIu+4/WbU8m9PgURobBtC1tu1zRhW0UtGPWeWw5t2ykOABOPBvMyYnDwXloe5erQymMcxqhQ+IcI02lt//QyhWzz5fzhW3y0TiiSUeYtCObB9ti039On2bPSavTufhjvvwEStkpi09HVrq/Ybtkv8L6k3IVhhVpGxY5xkHdA3ESG2j0GKAV/Kc7VvbY+7bo/nP9OGGC1bKtafXYS5u3coKlfattb4NtgmgL0uZs25HtabY89grqGDJ1GGqcBq1G9x04ZHbs2mfmz50l93Jkp20cGl1nx3EsZKLTA2RGA964ZaeZb9OdtGie2Jo9a7o1TPlcHrqDodOiHNgH3Y8wLKx44v2moPo6UlQbh53wQB1PtExdUJfUre4naai3sM4mIhwrGvhw7GeqrqXdS7xrTzlIEvufOgPaJs4AtH1xuNQpEcJxDNdlRbJ2bZs4PR8wIXpvC5vTprsOQToXKa93Jmx4mH+fYS/qKruk087F2hfnYcOwoWnZlvZl8xNniWEP+ap9PQ66f1W+9pNV3TdCNd2AJcyGW4V+keNuP8O61W3Q9shR0GNFGPUuo2KOkZVynFlHw/HG+WBP7RJ+RO7/4WRcOHqQfLFhtzVf1ze5iykdPOhFCjrW5aLmMA7HZyKJXXrZC2mUrNh/OA4cCWHI3M66dQyCXjGBqxYbZoflBw4dtk5mhs30mJluTxjyeXzvAXPg4BGzeOGcHjv6qTtJPoAGKLhWpBKelBCsVogd+4+K0X053mjHMtAwBvY//ATtnKiHsG70gE9UhrKPYf2xrm25wsZhmzgZNdh15JwwYZahHdBtjom2ecopn3abcByDu2HvwkDs2k/VMl2mJ3zVfq1tbNJOtc1LB2LjCaO8tN+e44+M/bKf0iHZdbRAOnV4xAleK9gw7GinxAMy7r6t23bmbV6UwdvsOR6sW61Mv1jYH2JJz/5WDtjve7WfhSha720Qz0K9az3LprQX11aUqr354y/H0P5pu7Epq4s5woB4wrXdEoxWikQaf5xB2rWPQyP9mf3U9uHawMAFlLNFQewahZJMB+w57DYVgKNQeFRablJavUviEnESaYVowabbBswj1Yx+CGeHOGFwNmzrScuXSwmncAetg5IKsSZ0R7QiXcW5slaVhJY/u80Sg3z5B9UITPSuIsh7pCEfLbOuS9ldUFWPbl8GtgEtdW7lgqSxC3URorZipOJGE8qh9dCFNt7BoPUo63ZF2oCF9iR1b/+oP2kz/LPrcpJaWViv4XEAtrX8HD8cBzblClJC3dNhYtb+56VyfqDXE9C1cVcO1mXb/qmzkDbvd5+Tm/S0UymvVov9ZFvS2GCXh+brF/7YH5L5PDROOiobFrZDVth/yiNXpWh8mVz9aOauXNQF2mnobBhmpL1KWcWc5B+mK8TRvg04PiHuWLq6BemzbJ1qtcoxs8cH5EhYHe1Q8GnESVhcG/DHyR9rcTJeR6Q7mk6j4eTlSuE3+LB/YsOmxw5Q1srZqM5uT6UhuBPNnXzkwac2TP3kH+t8/wZjOBKJozBWz1SZqwBXQF8kl9aChjXyJi+m1RaeMEfWYc/eg3LiosOhsX+koMDkoyeS7hDG2FHRkR/27acrk8tPEUdmK1orUNFtLdNooWWTq0HdH486Pi2v7Av7JaE+rf0n8TZtmB4tdSb1z7pdQOrep9HOrl/UVhfaMMlTy6F5Vh2Q/asfi5GAPKge1+jZB1cmd9HiboCLs7CfjeNvN3VfpLPmk7KzsG9+/0hFWvIhjLywxzqjBT45zqRzTshty5W/ZunTatuV46qRdtvZ56QeuODQcGnz9k/qWv5ceuxhC4gnrTPpRleABrDBeYVt7FA+veolTo+blMmukM6Ngtz5ONDJOFvUK+vaubmZEWe70A51B6423baGga5R39St1Kl8ypFxFwVWL+1BjrfdRit23PGT40u7scePT3USovHtgfbBNvYI02McngfY1+Mux9UuLh+n0TaoaBltGlcojMnJcsQVDoOsu05q4ESaYUc6JNx/0DoY7z15Yu2wdRKy8/aPTvOxXfvkipxCkcfc2TOk4bnCGfdFUrHldmbxgjlSAUxFzJszkyKZffudE9MTFfjg6bjdew/INh3GI4/tkYcbnALzzoESxyJlsOHY9Gbk020fM3vt6MopekGj+sGiNuRg2D8OAuvsE3VKGag3wikni5zgHA/q3i5ixy7SADAWFJX01JHUq0WOkx99klaCRcONZgdhuqiT70JKH8g0fQMNs5lRp5RPGx+fYoc68Pul5R4JyBvzeuIonFAs1A8aoBzOMbjjo8cDxEHZMDeC4c+hbRLkPLJgg4sx7bCxwbHmU+2SjrqRTxuudlQvBOVCI/YkrctLymPtMgKREtl/6kiAfRMnanW6n+QTarApbY3srQAHKeexDXBlc3b4pFx8uv9cm5VP0ZK91ZOfjZerbDHq5FI3Pl2hHW1DHGc97tSitg9ipa+w29pOiOL8R0MbJw1RMiDwAml7Pp20F8z59GywioZj6I6zG9kSp+3Ylccdb4Vtb0XSgJrW9qFI27WfU/YfOHSM6S6cAU+PgexoYBjxEbvNKATHwPdxYNbMGdIgp1k9Dob0c6xjedzqrF2zZOFcq5kueuzrSY5pN0Liqs85Ma6Y6PxCDScUo509+w6ILUZXe/cdMquWL5Qd1yLKSWP/eGJOK4SKI5w04Rc3yZNtZKwDDowwOUE97LOE232iTKpNgU09aOG2/PPlcuW2B88fKuy7jsSG0bHZdcpB2TkOrBOmsK0NC1vUqzQ4NEEZXQMaqAe0csUteTvUBtvkHZYb2CRew4E49knLH0RV6cS52QiiNA/t8LmgYJ0yy5WvzVf+AjuDQfMGqWtrT/edvFzn6/bHHX93EsmnLQ8nltY3f5wwus1NeOlMA/SEonMlpjpGdoN0UgaLHk/Nh6Vqj1ar7Z2yko51wZcViNM6dbZc/myr0+B8Ig/nUAYuECmflqW6mtVw+0d5sCNYHUq29BO71J9kSv52QcUm68CH2tB9kXs6lMeWz4W7bS2nOKUW6m1uvKL1zv/sTVXPLaBHo22LOiOJ1JW3JXVjt+X48xeYlHB03o6eYxwTtFDp/Yqel9K+SRuEqy3sSjA27bmgx1TbYMjAPrhjT7vlWGLjCOuIKBTGpFFYZEc50WyBCaKTwMCCebOkEDNnTJfOXUYk1hCdJs7GVcQxcUqnLF0gHTZTbZSbd7BhnQaHE2L/KCr2cHiADWzyRByjDuzOmjnNLDphjtm4ZZe5+/6t5oENj5pHd+6VnULLvSXszZk1U2zICWT/yJPyzLZxOC7qhbiwIZM3C/lIhxTgTlZ/gmHM4j9aUdPoOOFJR57YIh89OHrw9YR36+4/yc+GcbCkrD5My+0amVsnjEbFFrbIUxqDTYNGbPlCs04ZJExC3P4D/1dlshva4IFwyqjltMkljE/XPTmwpdvS2dF2SCN6h8arA6CNScO2+bl8rWLApKBlTIEE29hhoZFrmXWfqQ800tYthNN2Q/NabmfL1SefUk4rlMVuS9n9nxzjYAGpc/sPR6WI2paB44N9hTyAtJRbouzCNuVmUUjv7Lh1LWPIocOH5cKNNkeuYTzpqjLaP+IGrNt49ivIj7KSB/A/29IxWVTGNseTcwyN1rmUES3ltNtSDp9IHFiA1GFPm5sYaJth36VNJFAt9UD/i1zOVZ+M44Id+jQN5BiyLWEe6o5obLm25i5qsOvasW8DdkFLW8YuT6QB63os6F8BPUn4jz8J85qw33QxDvJCI2XzbQCm0p4o2HSfMVNTmhG4SrCdsm9schJgDANWplfYfMdm/tyZ0nkTjhNxjmi6pNcviTrnRkFdJXEvB0cjO22XQ/akY0qNx68pB1eD3OuRk8jG43we27lPKlFPOuIU9eiEcQK7zs1pcUzsK0gD8DXEScymq2w3xaaOFJ2ehFoX2EQfogdFGon9owySh0VtYJ94KYOvYspIPHUq9gNtmB5Ii14dGBrQoshxseUD4sSGbFlsfmTpyun2A6S8dl0bEnG6vyDhbNqFNJIv+bPubYDUoYQ5Z+Iau423/2SfbBjDdJ3ukzxctMRLh+VtU27CZAnyCLFRsmg8+WubCtNgU+tW0WOjn5SV8ojG/qMsQP6EaW1IPBv2g7Ssk478ZH+JF6GLd3bdNrYoh9S3ygJ9WOdi20MdklbtExe2DbZdUldW6kD3h/zcfpGX1fp0dGisUxYdcag9QdIQ5rftinZaHGOFsmmptYNRBo4FeYpJWUitx6OeZ1XfCCcAsh9+X9g3dyEUHFsbRrgstl7thxwbkqCT4+7rtWrTiDxy3vr0mg95ciy0Dt3/to+3x5m0xAFJtP7lgTCrlwGHD9MyYccdQ7fNcSXOyySN6igPn7RJvscl/S4iL55it6fKfRQrkg7BFkp20BvHyehjzJLALpqZhu3as1+0WnjWD3BPx3f23F/B+cioxtrmqk/e02P1WkhtnJjAQfGdHTp7nA3OiKxWnbLInHwSr9XB6cyWMHbMNV5XeeQtnZX9pJI4SbDHPu3cvU+efnNxzkmRnrKg3W33g3Jut6MnRnauQK5CDxw8JPepGK3hOO95YKu5d13t1T6Uwf5hWyre/lEj2JZ19tfXLUids/DHPtg0Em4XNNSvHAe7UE6QtE4m9qQD82nFjk0jx8Ea4VjyWemwJzoXBpRNOiwbjyOg7rDhjt2AE9d9con9h7WhZcYctoDjQ1mIw8FgRy4OJJbkboRMmdgfdTR6IqgdykKZSAvkwaJI/r4y3Jo75tiUzpky23U9QdgHReqBurcL9tFRDimnLQd/8s8u7A966g89oCcPstd10rJU54r9DNPwIev2X6Wxf5SNP9m24bouiNxrfRrqTWzbz2nT3AWZlMXCxRYya9KeP7R7N91GAHqOB1akvKSxYne8fN5kbf/japd1bXfoKBdlwT6IVj7dFCH7RJiOIOW4+nrjuJAf6bHNJ+l0kWNjP50Ndw6Pd6r98thNQY6330cZAdt12W//p9shUu/2+Glb5ljxp8cdtbZ3FmwI9pNjSJha5FiII7AB2OH4I6+ytCtyXpPGrpOHO4Zuf0Rm46SsAZI3f3xi0MIUmoIDYrv64qdrcE7IOkgHJCegg8JRACmQ1SBj+guWLJpbVTCNjZ1Cv3P3fnEQOm2l1iicbNlN8tHia2XjELh/QwMWp2fTcr8Hp8AIiPQ4NldpR+R7PmiJxylwL4kTDijPY7v2yigMPbY5SciXMmKbsnMfinQL5jmHRnXg8LCJw3pw43az7MT5YnfT1p3mh05bZk6YO8t17hbKhB05wNZA+MkOkg/7qftIuBxEG04ckYShqduoQwg6PmmE7Is2QCJk3YuIY13t0OhYJ2/qQU4Cu84nzgAHCzPtRYKWSfbL/rmbjq5M6IH90TzQa17YDNsP6zgRPkHzlHYRlI08OEbS2G0c9n1WVkd5XJlYOKFoa+Qf2iFO0vl1KQ8JLewLtrXOJNz+07LIvlg4rrpOOOmwKeveJrj/HYQRp3UMcoztKu2GEhCq5QJn05WDuicdecjDLCS04W4/p8i9Ua0fLqDC/aY+Oc+4t8qxwqZCHsSRMXr27ajff9WRhqOlnZIcX7u4Y+jCq3XCbdGk3DZfTU8S95873qDx5CU2PdQHdYNdrsBRs5/axkDrcDzCflFJMl1F/fv2RD2xj3pRF9Ytx0nqlj/qz9eDHA9vT+sTVFMdQ7susaSzWmpP2p/Vkc4GCVxIu/PD5aXHWo87cWjpcxXV6rkz0B4cpNV9krZu7dDO6H+BYznl2n++5dgLn/1D5t4HHzErT14oHSyNmo73pMXzJCE3/XlSjSkzrLMDdO6UUalOHirA4jyn79CsngKS+bbHHpdRD8XkBJg3x+XDAWAH9CGBExfNk4cPyJtpNOxiT3eECsMJsE7WOBOcDpXElQP5s0287KgNf2jzY3Iv6czVJ0mlUiY0PA3HfvPbN/wcAfsuJ4LVUPGcBOs3PWbu+sHD5kRbVg7cpm27zNlnLjdPPmO5HAj0lA0tkK8NdgfarrPISW511JDaptakAdnAqrFRWI+WHygvBxvIi/l6kHifF2CPvxnTp0t51D4aiWHTbmODtFI+G419jpd8D0rK7R5qILwqK4EBbGunwx/2dD+IIw/ZZ2tP6tLaEp39kxTWHDryJS3llfysnj8+pW4ZifPHrvo0aov9pKOW/ZFyB3Vr13UftVwS4etDOjibt9QRwTa97i+g1xOMIMog/7Bp02j5JF/d9nligbQ4B+DE4wTmpERz0E8z68h7r233j2zfLSPpufaiaqe9SOJii/3bx4M3tpz7Dxx09W3T45Bot5w72KAOqY95c2ZJnnN4iMba5RO9/SdthtmGWbbdcx+WkRAlJZ8T5s2R8nLM5Vyyf9jTT/KlHjBEbekxYl+kbrXt28XV3gCisenD6XoqVOsdsEc5paLtp9Qh6+MY9rtqW+yK/Y96kvZpg6Ve7TrtgrqnHRGv541CWq0PqWfS23j0Yshua/smG1Lqp+ZHWupXps58vNjzZbSrVVsH2hvtijTTuAiwGi0vYXJsWOy62EBHuf0nueBssUmYlOHin/3AsR+54HSzYfNO29DsaIITxHbYDNfPsB3ziqUnSMd/qnVGfDmT96jNs45nvz0BzrIdLgXiIQGcFRV09wNbzT0PbLMd8clmve3gn/qkleYR25Fzs5+n3L5778Mykrjk/LVm6ZL5lNU27ulmvj3B9OSVx6ztSfmk00+2jmSWPFLNDmPvG7etk0bLTyVstp0+dXfAnqBPWLvUnLp8kdnw8A7rOPba/B4xZ1lnsMM6JX5A7cw1J5mv3/qgefo5q8zpp54o5eZVPZx8j+3ca3X7zTPOXS3b6+xI5pa7NpjTV50koykqCod2xz2bpFKZdrvgnNVSP4wItBG4xuIOuKJh4A6CO7h6AOQktmmxyzbhDWyQHGjS27TaqUkaDrBNr3mIg7fhHEMZoXikkVroICgTjYqGoI2IcIVtOjM0C6yzVy3l18ZIGfSigv23/6QMhFMmvaohnTU3gLRP31gt2GObq3LKrfuCHUXKZv9pfVE+9k8asNWRnjxkT+wnpjlZpKxso6F+vMmeerYfrJNG61LykLK4cMqKLXfBgONxhtBoGupGy4ZzwFkw0saJsG9cxD362G556wa29MKEdXcVyVOgB+Ria/fj++yFzQlyLDkP5s2dbR6XqWuXZsH8OXKRhPNYvHCe7BYOhuOtdUd5KK+bIbAdhy0LebLv5LF0yQI5NuH+nGDtUoHUDE6Kry6wT5QfKMtsG85FGfZIT144La14LLn27I4D+cmKRdYDwnZQX6cMbGkYeVOH2NBjQd7s746de0Qz157PxElb9e2O/SettlXKRRztk3pmP9kmHxa0um/Uv55PorF/mi/bOHoIy96G7pO0PY4jegrj0+m+hrqUXY0TvV+vazVc8yOWfg+0fejxp340NfmDlNXaQCP17j+1fKSjLrCpx4Q6kafRrH3J1xKWa8rFP/OBY1OmuCys7QH8Ooa54jn5xPlm6/bHzSy7TiY4jZf+6Fnmljs3SkEusB05B+eL/3m3HLTzz1ppfvSZTzBrVy4237l7s/nS1+8xD9iOXOYtLRc8ZZW57PlPkR3nio4TiBEUzoYOnSu8WbYhc4/pptvXmxXLFphzn7hCThacw0nW4fCJM7r1ro2SzwFr+xP/couMoGDNisWiYSREA6FSXvjsJ5mnP2W1WWdHLDwocb91hIsXzpX9Y/Qz255cc2ZPl7qgTLOsM3zE7jd549CYXsMWT+HR2PnDkS6yTldOek4+y6Py3aBDUv5lS04w3/3BZmnkZ6zmhaeMxJwToz6oP+pBpjws5E1joR5pJto5uoMdXD3Y/eFYyIb9oDyis2HEkYc2OtXSufFJXto5icb+uabuGgjLdnuhsHjBXMmfcurUJmhefGKLzoB1jhtm1BZh1Bd5+N2wYd7Z2W2bTQVal3dvOhqyOAyLOkviiaM8/LlIV2/UDyeQlNXniS1ODOLcRYCrc6170QeF4Vhy8UE41Pdby0ZaRlc7rIPBKezYbS9ecDa2Pnh9E+mkTVgteelUBvY5vsC+4UR2Pr5X7OOoeFCG80mvRrc9ssvcv36rXACc9YSV5uGtO6SuT7DbitYDdc8b3YGRDGWkvNIe7B+6ebZz5pit27DN3LfuYZvfXHPf+i22XS8yTzv3DLOEGYY9B2zne8hs3PKYtTHFbLKfTzpzpTllmb2w2/yovVDbIyMyRl04PkpwyQVPtBeDJ0idbHt0l61zd9/TdUZTbZlniRNevHC+tbPYtR3roKkPNDtt/THVx3lO/bKfGx9+1J5f88y27TvNQ5selfNouS2na6O75f4rTnDBCfOkbOwzjgSHQjwXAMuXLpZjzrE/fdXJUjc4f/aLcxrnOpMLA6ulnWBDzxkc2qoVJ1l7e80cW/5Htu8Sm3SuK5YvseeG2z8uKAg7cJCRJ22H/mCGWb9xm1m5/EQ5/pR7uh2xytT9/Lm2jnZKmdgn8qEuH3hoi1l24kJ7HJ4g+W/eYvtNiX/cLLXhq1cute1sjxzXs5+4Ro4tjyvTycOjO2y92zqnDjZsfsTc9f31Zs2qZVK2B9Y/bNvn42bNqSebFScvMQ/avKiX09ecYpbb48GFvXPGe818O+LlYkfbkHM+7n4npwp1wHFkg5EM+7dn7365QKHcHB/2xzmho3KxYh3O+/0paRlYqxGP4ITk4NhyWHo1nCxPPmOZedJpy8w373hI7n8M4DqTp511qrn0wjPNmatPtAU7LBVPx//dex6WR6C5X8JCx/x9O3Kik99mO/Jv3PagTLkxmiHs23eutyMsN7rBWaW4+Klrzcufd478vg/f7aHR0QnTmeIkOMF5QIHGzgnHQeQhhk1bdspj4ZyoWx/dbRbZtBttfjRUTg6uLmlEpyxdKAeb9Iy0ZlvntdB2Jp++/jYJO3PNUnslOVumM55py3L/Q4/YhmkPpG2cS088QU5KKYN1buFcvK0aOYBAfVPvNAAa9sAoxR0F8kFDHQP3TcR52fSuo7Qd57GjZqY9RuixTxo2OAacQNh9aNN2e6Issgqcnrtq1SkRHqzQDppjjX3KTTyf7Adg1zlKrLi3j9NRygliR9FVWW069od1pon0ikvTyf/2Hw2fhi1Ca5eThVWgkWOPKShS2mJ4R2XrhnS2jOwr9SCdj/0jjbtQ4KRwWqAsU6e4fWDfWUcr2zYt+0+HhpPhgoaOlyt94nTfKSf5bbWdyizb8RB/zNqic+I44JSAjp8pLNoRaWba8lP/lPeBh7bZC7HZ4gC22g6cx/9n2LZ2yLYxnI+0CfuPc9FVlnUmtn5pD9QheZCePOmAdtmOZN6c2WL7ngc229H8I+bhbTukHIK1sWblSfYcONHcfd8m6VT27NvvI91372Qa2trFGdWR88DG0ymRlnoMESdq855l94MyUz9yj8Oi0zbUwWx7LtFJbd/xuBzTHGhDKHE+dJK0A+qRc2Wv3QfKjkPDuXMk1Zk/bjvJhbbzpz1SPu4Nc8z32GO7wjoKwNlRjxxDHABlZ8aHCwOsoD1t9cniFNjeZfNZc+oyyZdO+qTFC8z6TdvME884VaY873lgo9lnjzfHhNsGtCU6eKY1ccLYWb5siVm9Yqltu8bc/YMNUi9nnblaykI8juOcJ58mdU27Y//m233bZB00+z3b1jEOfq4tN/0NjlXrnKeBOf937Noj/dXWR3eIYzhgHcQ8W3+Uba5tJ9ts+CpbBtoSbYj6oQ75uYpHH9tlnnn+k6WOcGQbcW73rDNnrF0hdXaqTXf3vevtfs02j1on/dRzzvQOhxpqEA2skdZw4qlXrLS1JE998ko7ejhFdui792w2L3rOWea6f7/DfO++LeJUli89QW7ic5Oek3SbHW3sto4gr3yeoMGuXbnEPP+SJ1nvvsA6HHcVR2eJfQ4I21yZvug5Z5tpsxaY79y306cceU5ePMssXzJ7VPPsh4ufskTKtmef6yAKhcL4hj7n/DNmm298+y4ZDa21oz9GNfTZOkpklMJF2SE7Wp0/d46M8tDIKH7PPnFEW7Y9ZhbaUSgXQIyOuChZYp2sc4bOFheyUy7+6WCEMwxOphevTSTh6hdHwhUFVzQ8+swIIn5R00feiasipr8uf+F5cs/mP2++z6w9dYm55p++YUc9+yQLrt7e+LPPNoemLzXXXr/epxp5fviMheaHz1w4qnn2w1te9QRz7b+tN1u2u9cKFQqF8Q19zs8/d7758tduNY/ZUdPaVcvNf33zuzLqfPGPPVOmzJgmw6kwiuPzBDsaZCTEFCYwfbpv/wGr2yczAbv37JVPRpk4nIVWt2TxCWLfjf2lI+/qzHM0itXR4WckwdFw8xNnA1seiTmbDEOK5JvW7tq939x8x4Pmtrs3miedvszcde9ms3HLjmp0Q1mYtisUCoWJzl33rDf/ceMd5r4HN8k9L6bkVq9cZp3QLeZbt90j/SFT4CADhKnu3tnmLY+arY/wK9AH5d7XD+7fZD5+3VfMf3z9OzLKufPuB83O3Xtkmm/dhq3m/nWbcDipzlk7+nQH7vA6dTRJvDYpzNF41Ml0OBoHc/tHzV0/2GLuX/+I/Djcrd/b4OMUd2OsUCgUJjo4h4e3bjcPrNtsvn7zd+VhjkV2ZHP0yDEZzax7aIu9EN8n94kY4TBS0fvDt991v7nl9nutQ9li49xTzquss2J0s/rUZXIP5577HjLf/d79ch9nysU//b5aL53TaStem5Ukzxlkk+VclKaWG8BP+aEV1kPvNg8/ssuG9GrOO2uVufCZzyxTagFlSq1QmFjQ55y1eIP50N9/0QXYbpAHDZaeuMg8sn2n3LvhQZ2Vp5xkDh/hKzDz5QED7uXwgAj3bHhYAEfE1Br3dHiSjvs+PGbPgwt79x4wW+xICPyUGtDh5nTiXqcjmWQSFaREORpPnyOZgaUJT77c/9A286j11m2aQmGycMVlp5sv/ckl5sNvO1+2r3r9k2X7vW86V7ZHC/InX8pTGCVqXSWPrTNi4d7NwYMHzb79+80PHthgHlz/sLn1uz8QB/N9O2q543sPyAiHp9V4aGDHzt3y9BpTbY/t2G3Wb9hqRzcbzIbN2+SBARY/pZbT4VpNlpOBHFGWIccwOZkBePzWPfas3wtqkJNdoTCC0PHGltFkwTz3vbLCZCK3H4UcrY+3fW4wwokxIEzaE7w2KczReNTJsHSSY1M1CV0l6dAVCseR0XA6V17zPfP8377BvO7qW3xImk9ddaGU65zTF/iQwvijn34vR+s1gTTicFTUK4yjgpQoR+MZlJNJaTM0lSRDWygcB978/juk82dRxtqUUxkJjWdy+72cPtLHt/gP73DSol5UkBLlaDzqYKTD70JtprQZmkqSoS0UxhDfW7fbrxlz2bNPkVEFowu9BxPec2E7XEI0bSwO2u7h6EhG49SO8u5fO0c0itrRhe0QbGjcaN8vKuSQ00f6+Az/4d5z0iFy5IiyDDmG1clAhkYkquvQFgpjkCevOUE+Nz7ifhZEedmzTvFrRqa16MDraBhO4o0v7x0hheljqM1wJENZzj1jod9qggO56OwlfsvBtjod4nV/gPWVJw28G65wvMjpI318lv9QQe49HFnayNF41Mn05WhSqCahqyQduh760RYKIwujBh0FAM7mM1/bLOuAE/jn/9osU25veu/t5pdevFbCNYxFHRQjIXUujJbq8W2ozV17DldpsH/7fTtlXWH675VX3iQOCgcS6j9w3f2iOXvtgioeCCeetIXjSU6/5zU50oio/R5O0lqOxjMoJ5PSZmgqSYa2oh9toXB8wEnEbuS/7zOuMwcdJeBY1FFp2LLFs6r1v/78wNs0vnV38ALPCJrmY18a+I4YeYaOL+RHfvgk+cQZahl0VEWYxofO8477d3U6vsJIker3fL8o/bjfbEUFcVHvPZwWkSNH4ylOplAYNsKHBhjB1GEUEUNHDuHC02ejCQ6kXgaWwljH94vD4GRCrMPpEuUZEobVyUCGRiSq69AKOdpcW4XC2GP3PvezAa9+/mr5VPRLneqgLn/OSvmES89b6tfi6MgjtMn0HPeDQs5c6V7oqHpGRuETddy/IU0Yr49SE64jqcLxwvZ7w+xkQm3LPZw+jKmT6cvRpFBNQldJOnQ95Gj7sVcojE24twLhdBaLcueDvMrJ3cCvx7Wh02+hzfBBA3ViTJvxlBrTZOpUwqk9fYiAeE2j96hI2zZaK4wkvt9TR5PEa7NoagOHo5EZxgblZFLaDE0lydBW5GgjmpS8UBjj0JnXb8DTkeu9H6bVbrxz4AcRuS/0lVu3+a043F+p28SG3n8J7+0o5Bc+xg04Q03DwwWhg2EKUEdnhVEm2edF+shW0topF7/qT3Os2PR5MkeONkNTSUYp7yD4vLNXmQsvuqS8vDOgvLyzUJhYyMs7F603H/q7f/EhyjD3ud5/tEypBQzrSAYyNCJRXYdWyNG2aKLBNU2hUChMeKKdYQsZWvUdgf+IO5yIsB00XTrVJHSVpEPXQ442otGgRtJoYKFQKExwcvu9jD4y4TsGHI6KWoS9oNGljQxNJcnQVuRoI5pIkKM1olAoFAo5fWSm//CvtkmLHGh0aSNDU0kytBU52hZNNFmLtlAoFAqWjD5SfUcf/mPKxT/1ng51rrEORJJjSxlCvtHg/vI+7+zV5sKLnlUeGvD8wk+sNc97+lKzd/8Rc/f63iePCuOPGdOnmmWLZ5qN2/b7kMJkZMkJM83OrfeZK99xjd3K6COznIvS1LY4nByjOYXzn1n2lEHm3ZpscHkXh9PLn7zxHHPuGeW3TgqFicatd9xrrnjre/xWC0N0NErgcHIMZmgqSY49ZZB5tyYbet7F4fRy9S+fbZ7+xEXS7vid88L4Zor9mzZtijl85KgPKUxGpk6ZYr59+93mzW9/nw8JGCYnE2Idzrs7lBmGKslwF7BFEw0e3rzd93CeXRyO57UvWG1e82OrzMFDR8xd9w58abAwPpk5Y5pZvnSuWb+pTI9OZubPm2H+84YbzIf+7gsuYAScjMNpE9/DQdBhsJJkaAXVpbQtmmhwNLCFHG2OplAoFCYQ0uXZ/7KcjfaPg9PWHE5T0KCSZGgrcnQRjQY1kkYDW8jRBhpd7UpSKBQKk4bcTrGlA/VB1uG0CEIqSYa2Ikcb0USCHK0REXK0NU2XvFAoFCYVtT4ySUTXSJ76xc9K3EiVIEfbookma9FGydHWNLXNXqKBhUKhMIFJdoo1ItpGUG9A0+FUcQOiNKrr0kY00aTRwBZytDVNbbOXZGRhgvKHv/875ryzl5nr/+UzPmSADRvWSRyfhYmBHu9wiR37yUM//V6LtieoRWNxDqeKbxc2ydFF7EWCHNHAFnK0gUZXW5MkIwuTgIsvudS89S1v8FuFic7lr3qdufXOrbJ87vqb5dhPbqfTRaSP1KAqOKKp4V5tkyF05GgjmkiQozUiQo62pknKa9rCpGblqjXmN958pVz9FiYXp566xvzRuz5oPnvdx31IwRHpIxtBjYAEqXs4FTkGWzTRZC3aKDnamqa22Usy0tMVX5iovO4XrjCf/PiHy/TZJGX9+gf82mQm0kc2ghoBCXq1LQ6nV9RORBNNGg1sIUdb09Q2e0lGenI0hckAV7pXX1VGOZONzZs3mtWrT/Nbk5FI/9cTpBs1TZR2bc3h5BiMGIsEOaKBLeRoA42utiZJRnpyNIXJxAt+4jL5LPP5k4dbb7nJ/Nm7rzK/+Ctv9iGTGO0Sq26xnz6yW2sdjopSwogmEuRojYiQo61pkvKaNkqOpjCZeduV7zTve+/VfqswEWHqVJ9Qe/1rXiIPDpx3/oU+dhLS0yX200f2p03cw2kxFLXdoo2So61papu9JCM9ORrF6+RhisJkhJvIr7z8tebDH4q80LAwIQifUmPhmE9utH/M6fcGr404nIih3jSeaGALOdqaprbZSzLSk6NRvA4nk5ukMKHhAYJPffJas23rwz6kUJio5HR42jEOQhtseocThCiRIEc0sIUcbaDR1dYkyUhPjkaxuuJkCi1c8aa3mb/5y3f7rUJhMpLbOarOa2ubir+H42kRJSIi5GhrmqS8po2So1G8Th1NodCCPkBQKEwufB+Z1UEGutZkAxFuhNMh6iZHW9PUNntJRnpyNIrXZY1mVJAUFSYQv/f2d8oS4/1/9Ykyxz/BSB3vyUs//V5NG01W03im9m7HRXFytDVNbbOXZKQnR6N4XXEyhUKhMERqfWRt0xEN7KF2DyeHHG2g0dXWJMlIT45GsbpRcjJXvf7J5sNvO99ccdnpPqRQKBQmCrU+srY5QDQwgkyp5Qm7jdY0SXlNGyVHo3hd1n0Zr02So3GsPGmOedmzTjGfv/oi8943nWue89STfEyhUCiMR4L+T1cb3WFrRIQBnR/hxMgxWNPUNntJRnpyNIrXDdtoJkfTyye/utF8+dvbzLadB82smVPNk9ecYP7na55o/v7KC8xbf+aHzMmLZ3lloVAojGVq/V+0K6xpksS1Uy6+/B1BSK6hgGSSQdhL4rVZSYaW93lnrzEXXnKpufb69T4kDdNrF529xOzac9gsmDfdhxrzvXW7zbfv2WE+8q9pO085bYF5zxXn+K2xC/79vvU7/FZhvDJj2jSzZNEss+XRvT6kMBmZM3u6ueHGb5g/++DHW7rDrM7W0631DifHaKDplPdprxOrzZLn2uzWnXeWdTjP6t/h3Hjndhn5XP6clebstQsq50P4ldd8T9ZjjBeHA/v3H/ZrhfHKlKlTzPRpU8yhQ0d9SGEyMtW2g6/deIu58uoP+hBl+PrSAY7hcP4okaIWlbSdk3F/hQs/0gxT3pXkmB3hrB20w8GxMJ2G07n0vKXidLoczprlc8zfvOV8Wd934PCY6wim2YY5Y+Y0c+TwUbP78YM+tDBemWadzbw5M8yuciwnNTNnTDOf/tz15kMf+6zdyupsPX1qvTxyD4cYXYJVv9lLMtKTo1G8bjTvy1SSDG0GJy+ZJQ8PfOh3zpeHCXA2TLPdt2mPV8TZf3DAweBsGEWMpWXP3kPmqHU2e/cd8qUsFAoTh5x+r58+0utqD3LVHov2MbXNXpKRnhyN4nXj2MnwZNrqk+fI+umnzJOHB3iIgPs3H/vSQ+aVV97UeQ+nUCgUxh799JFel+jLBx6LVkFE5EhGenI0itVlORnIEWVoRKK6Dm0GfP/mU1ddKE+m8Xg08MTaP//XZvPqP/iWedN7by+OplAojDP66SO9LtmXawTfw2kVwYCwnRyN4nVauCRemxRmaCpJh66HPO2yxbNkyuzAwaPm1nt3mDe//w7zM1fdbN73mfvNlscOeFWhUMjlfX/+HvOqn3yZ3yqMLn32kZ0DhmZk9z2cKDkaxes6CwcqSIkyNJUkQ1vRj9bBfRmmzF78thvN7/zlneaO+3f5mOPDTTd93Zy8dF7rCUs4J/RosvhFzzPLbJliy4Jf+jmvGnk0zxjz//fbpJzHkxOf+kQpx0Thd3/nN6UthsuFFxzfpzBp//Uycc4MFT3v1q17wIc0IW/qZGzSZx+ZHDB4TYsgfg8nSo5G8boJ6GRCmC7715u2yOttvvQnl1QLDw0c7y99XveZT/q148tjX/h3s3XbHlkOPeMis/eNb6q2d/31R7xqdCD/0XRybVCGsVCOkeZ1P/9LZos9zrrcdPMdPub48fYr/6Aqz2c//yXz0hc/f1icTgjn3vF2rsOH7x+TfblGRCN7GLiH00qeIYfVZTkZyBFlaCpJhlZQXUqba8uY9/z6udX9G4WHBt7xK2f7rdHnHe/6U/OGX36d3yooe3/1CjPj5m+YWZ+/zoeMHR697fvm8f+v/Kz1aHLhhReLA/r0p/7RhwwO7ODA1qw5zYc0+fg//rN5xzv/1G+NdXz/N0xOJtRGptRgEMa0cEm8NinM0FSSDG1Fji7XluPnXrjaLF04U+7h/N+Pft88/7dvMB+47n7Zxgld9uxTvHJ0oeFzdTna02f9olNZfDLdxWdsemvuB98nU04h4VRdPS7Fvl/9dTP3L7p/Ojplf/rtt1VxLFo+PhVGMKGGNIBu9nX/JAvhOtLR9CyE19F6gnr+Gj5eYOopnNZKTTUxWlBdfaqY9h3aSU1ppVj34EA6RiahzfroJ4zXOJ1SA/aFi70HH7xfwnSko9PZuu91u/V7V5oHy+hNxdm+r3PAkIys0dQGDkcjc4x5XdZoRgUpUYamkmRoK3K0OZo4Z6xwjeyudbvMV297RNY/87XNsg3nPWGRfB4PuJr6/av+16BPwtFixjdvlE+m2HKv8Ol8Dz39gmpq7sDLXtFwUm3sfcMV8hk6hzpd9pc89xLz+B+8o4qf/q2bzbSNG3yss304SL//5f/dnPC2/yFxjGTYZiGuPq0YKx8Ohnqiflgn/+1fvqGyP+ufP53cn7HG777lN6tprW9+67vmw3/719FpLcLovFX7W7/9u5WODvq/vvbVKo7psWc8/SkS1w8PPbTOrFnrRiY4h+dc+twem+GUGw7hNa99fRV/8zdvkvAQzrsP/tWHzdq1p4umPo3IxeCllz6vMar66LXXyP4BToa8NR8c4ohfPCYHDP30kWmtn1Lrw9BkcDKppAFbO55E27v/iF87PtDwObnHMkdWntrXVBLTYVM3PtSThnU6ZB1FdLH76j828/+XO7nrdNlnNCH3orxjgJjTCOMPvOyyyrHmgDPCiSmzP/UJCYO5tuPhPtjhc58q28CobdZnx940IY4kdqXO9JKiHXCs8968aaPEKUxdsQAXU0wdK4Sj7efeJVrK+MZf+40qXTjtpVNu7/mTd8j2Aw/cby54xoWyDlf8+m/5tf541U+/2nz1K1/2W86xAvnhWJid0P0EHBEOaXTp6CN7yNe2TKmFWCNZTgZyRBmaSpKhFVTXpU1oekwkdAG8M43v3Zy1ZkH1swR8sk34335xnYQdL15+2eXyGbt6HCscXbnKr+Ux4+abZDQRTimxwLT1D8pnF3TWdNqxqagu+zOsI2D0UwfHGYLj0rQLf/5nfWgeOCim3BRGMIQB96DmfuC9PWXDeeIkxxr1hwbCzpzRgjqir3zl331oL7Rf4tCEbVjXGdGoDbWzYcPASDMGjkr1OnrC6d144w0yuqmDg8HRAKMbRjz1qb1+Yb+YctP9YLSDbWDUVnfU5Il+5OnpBDvoQyv+wy3pezjqaJJ4bVKYoakkGdqKHF3CXiOqRdcC37Xhezc8Fq1Tanx+6F8eND/Y8Li5+ClLJOx4wlXgm654g9+aGDDC0OmkcDnw4pd7RTeMWujIY6OiodqX+y3WCWi6nX/7dz4mD/LBgTFNpuUL8w6n83Rhqm48QCdLJ8pVvjqicBRTh3id2iJdOEWs6cOla9QRPqXG0g/Y1jSUZSj3VnDGOq3GaOclLx04vvUy6jJy9NPv9aFVRxPQvIejTqZXV0MFKVGGppJkaCtytAlNI6oR0DeManhAQBde2MmLPPk8Xg8OKFy9cfU04nPAI8jUTRv9mh0RrVjZ1/RUCjpuvbeidNk/YuOnbtrktxw4hfAeDul3XvsJvzU4uG/EtBrTaawrjAjD6bbxBlNndLY6+s6B6SU6XBzT5z57nVm+3J1Twzlyv+iiS3qmuRTKe9ppvb/oy5QgTpCRyGB5xSt/UvJjH7DPeQrcT2KUM7boo49UJ1NzNIq7hzPRnQz0RHVoM+G7Nvpqmze+/PRq4bFo4JPt4/0roFyZMZUwHjh0wYXSYeujy3TmTCEp3Bvh6r/+kEDuQwMhOmpgmkzpsq/TXeFN+rrTgpk3/pdfM40ptaMrVphpgRONsf+VPyX5MApjXeHR7nr+rI+nhwbCjp0LobYpNeJiD73QOeO0GPWEDGWqS6e5wlELzoDzRm/m545oTrEXJV1TYHqPhtkHRnsK95Ooj/ACkXKM/gVjH31kh5NxOFvu1TZJnDBNhqaSZGgF1XVpE5oeEz0bHeRojPn5H1/T82NrbTzzrOM/tcYDBG0n9lgCJ8D9FTppuf/x2p+SkUgI00fcswjvY/AF08HAAwT1EU3KPuVjiowpM43DCYT3cOrx9Sk1fQiBuLYvgHKfiak9RjThAwKx/BnxhA8pjGW4+OGKXu9PQNuUGtqf/O8vrbRc/euUGfeDcDoax6KOYbAwisIZqj0cGk/RqXNgFFSPi4GefUKX+gIoMw84pnC0hzPFbniviYcWdL9Hlj76yD6cjFscUy5+5R9EUqSMKBmaSpJjTxli3o2oweV93lNOMxc+63nJ38PR38DhPWq82kap/zZODvyswcf+59Nlnd8o4ScBxhoL5s80e/YdMkeO9FOnkwN1LOG9lrFM+T2cArjfw/mi+dBHP+NDOkg6GKVd07yHk+ygMzSVJENbkaNNaBpRjYAE/Wh7wdFsfGSf2b6r9zdieFya8K7HpgsTA53+Gy/OplDoi0GOZmK4ezhJUYahSpKhrcjRdmh6ojq0PeRou+3wJc/XXX2L+cZd23seGsDZ8BMF//Ed9+RaYeKAc6k/Ts30n35PplCYEAyjk3E4Xctj0ZBhqJJkaAXVdWkTmh4TPRsd5GhzNL3w4s76QwO68BPThYmFjmL0/gkL95xG+0WkhcKwM0JOJtTWHE5T0KCSZGgrcnQJe42oFl2UHG1Ek2GeH2DTF3fyM9KMbMKlTKlNTLjpH34HJnwrQaEw7uh0MhDpI1tp1wZTagljlSRDW5GjTWgaUY2ABDnaiCYSlIIfYIP7N++Rn5Fmei1c+CG2QqFQGJ/00yEmtEFU+5RaJQrUneRoOzQ9UR3aHnK0LZposkZAAx4agJ2P9z40UCgUxi58n0YfOU4t/b5JIGY39Vg0hK/4aVtGF+0Mu/u/pLYR5TaaDqcS9agTqK5Lm9D0mOjZ6CBH26KJBkcDW/nBxj3idHh3Gj9VED44wHLO6Qu8snC80XebLbr8pT33X8JFv9zJJ9v69FmI2gF+UmC8/TTAaBK+ip8vLtY7UhYgvh6uX+Jse51/DnT2sXR8hyd8ZQzfUYPwDc0s4bvfuqCMvNU5TM/Cd21S5eetBfU0urR9z2dkyO33OvrInqim1jmcKrwpaCdHl7DXiGrRRcnRRjQa1EgaDeyEhwL4CYJZM6eaVz9/VXloYAzDk2S80n/HJz9b3XsJfyaAJfzyKF+65MuVKfiCKG8CiDmmgpEvbdKJ6xcn+TJkvVMNqYfjdNb4L0LW3yqQQkcNOS+8xBHwEk/eX0Yeg/k5D5wp+xa+BVvhC5vhG6frpEY4g/m5hZEj0UdqlET3bDSYOnnvy7RGFCYYjEJwLOE39rvgjdCHLnhm5wgm9wfdJhu87p83Cqiz6Rc6b96MgQPA6fBWgZzXu6Dh7c51Z1ZHR044GbQ4Bj7p5HV0lQu/qfOsZz/HbzUJ3zgdgxGWOtrYcvxI9JGNqBZdD8nHopWG5Qgdmp6oDm0POdoWTTRZizZKt4a3CDz/t29oXXLfMlAYWcLX+/fDXtsJhe9xi8ErZXhNTeyt05OZj//Dx3reETZYHn54s3zyssuc34TBcdR/9CxEp+9wLNqhq/Phk21ekaOjjJypvFWr1iRfuBl7AejYJdFHNqIaARF6NS0Op1fUTkLTY6Jno4McbYsmGhwNbKEfreOdv3K2+dKfXGI+f/VF5q0/80MSpm+P5uWeheOLvsl5MG8B0N/NaXvfmcL0W/iyzoKR0cl557tXNQ0GndrSN0MzUmKKTMMHC3a6Rg6hJmeEhpNjf2MjI0Zc4QtAYzClpw4utvTzo3KDo6Pf64nq0ArtmprD6TIE7caaUS26KDnaiEaDGkmjgS30ox2A7+Hoz0hzH+e5T1sqzuYV/21FuYczRuBH03AIg0VetHnzN5L3adxPFqTf/jyZwCnwE8tMhYXQKYcdaWrqivs/TKOFNrCpI57BoCOZ+qL3Suo/6KZLjpPDOfFy0XpaRmUpx5V6aECXfn7KYdjQLlG6xZ6NBN0a63ByjCU0jahGQIIcbUQTCXK0RkToRxsn/B7Oq//gW/Jlzx89f6nZ4R+T1vjC+Ia3VZf7NEOn/tBA/SZ72FHzdFfqKTGeQAv1OaMAnFeYf+5Sd5xt6NNvPCSg+9o2vReWPXfJmd4bEo0uMad/bCRKkPVqmxZDPVEd2h5ytC2aaLIWbZQcba6t3u/h8Ouf67fsM7PtSKcwsWA6jlHMePrNmfFI2Ml3vY6fjjzUD2YU0Paods7DCUMlLHvooHThQYJ6WM703qCpujzt/1J9YI5G6dVGeseEoZ60PRsd5GhbNNHgaGALOdqapkvu4Xs4/AQB38Nheg1OXTbXnHnqfFnfu/+IfBaOH0dWrx2W3/vnXWltj0nzY2r8UmjBwYgg55HkfsGm3tMZKkzncaM/7NB1IbzfJ9XGP12dnsZndIxtWrvpHU6LABpRLbooOdqIRoMaSaOBLeRoA42udiUJ4B4Nv3vD/ZuXPesUWV+6cKYsBw4eNV/4xsNeWThe6KPQw/EUGQ8QxKbWeErt4EXP8lsF4Op8OKeAsBW7LzRYuJ/0jnfFp+wIJ76LthESDwnU71fpMv4cWW6n2NKB1oL9PZwaNVEkIEGONqKJBDlaIyLkaANNsDoY9Hdv6gv3dP74E/eaO+7f5ZWF4wnfp5n9qU/4rcHDAwT10RLTbDyU0M93fCYDfC/l05/6R781dLDFfZ3hAof4u2+Jv7qGcOK70O/u9LPEvhw69uinY4zoWpMfM1MufsX/HgjuETTUCXK0LZpo8AjnnUziIs97yunmwv/2wuQvfg4n5Rc/Rw5GN0uee4m8TWC44fU2PFQw3n58bTR+8ZMret4SsGaIoxKeEtPvzQwn+shyHe6pdN1DGk4oB9N4oTPiIQi+yzTSDkp+8fOzXzAfuvaffEgOkfO/tUtwEVPkf35i+rLA4aR74ho52hZNNHiE804maUbmOBy+a6OPRefAQwb8aFuM4nBGFt4YwBdAeR3NcIGzOfCyV4zLnycYDYdDp8l3TIbiKNTZhK/IKQwfzuF83jqcT/mQNlrO+WiwC1QnE+IdTj8dSI42omlNNoJ5d8rbBTkO56rXP1nu2+TCAwZtbx8oDqcwmoyGwymMfdIOp+U8jwa7wJiTGUAei87pPNDo0kZEEwlytEZEyNEGmmA1Tqcgm7Z7OG1L+UG2QqEw9on0j63d5jHrZFhSzmYgoR3hXNkw4WgJ7qGfpDn2lEHknUzSf95uhPPj5R5OQBnhTBzKCKcAAyOcyD2c1tPcRXSNZmLUHE5OR9KiiQbn2FMGkXcyydDyHm2Hc+ap88xf/JZ70unQoaO2Uz8q62OJGTOmmsPW2Rw72k/dFsYiU6ZOMdOt06GtFSYvU207+NrXv2mu/L/BS2qjp7cLHIyTCfEOJ6cDiWhak+XYU/rMu1Oem3daN9oOZ8VJs81H3vY0Wd+0ZY/ZsWvsTb+tOHme2bZ9X+mkJgBcPCxdMkfaWmHywij3azd8xfzFX/+DDwlxfeRQncwAPBZ92dsTKSJRrer+Mu6mpkkmGea8jx1zDudHfuK4TKmt37TbbN+xX9bHEqtXnGAe3rbXHDxU3qAw3mEqZfnSudLWCpOX+fNmmP/8jy/XptTcPZk0g+tzE6+2qRmMBLVqo+Roa5raZi/JyBoZWn6ITpdCoVCYVLj+UR8AiOM0bumipvWr6VfbRIOjgS3kaGua2mYvycgaGdriZAqFwqQn9ZSZ9qE5fWRNW9uE5mPREZEjGthCjjbQ6GprkmRkQKchR3EyhUKh0EJmPyrUtLVNx0CgG+FERdAaESFHW9Mk5TVtkgxdX6OZHE1hpPi1X/4p8+EPlZ8CKBRGF/q93L4v0OpqI2kzcGq7qBERIUdb09Q2e0lG1sjQ9u1kdBnfvOSFzzDnnb2sZ9mwYZ2PHT1wHPVyEHY80bqJ1cf1//IZiT+ekP9EcbYr3vV/zFNtXceWs597nleNPE949Ysb+S/60ud97ODBBrbm3HW7D2lC3mv/xy/7rbHMIPrIYHWAmqZG+h5OlBxtTVPb7CUZWSNDO0mdTJ0/etcHza13bpWF9Ze84ILj4nR+481XVuVgef9fDf2tzUPl4ksuNVdf9Tt+6/iBYzneDngk2fSW/2Nus8ecZevr3mj2nPeMavvOL9/qVaMD+WveD/7pNWbtb75+WJxOyNJrPziqjnR0qPWRtU1HNDBK8x5OKzkGA42utiZJRgZ0GnIUJ9PKC37iMnP5q15n/v36z/mQyc1LX/4q+WREM9b43L9+07zuF67wW4WRYMfzXywOaNH1n/UhgwM7OLB9Z53rQ5rc+7HPmwf/+K/81nih1kfWNh3RwBYGtH6E00aO0ZomKa9pk2ToBjWayaEf7fhh06bR+U5RDnT24VRbqvNnJKC6P/z93pEJ26GdXH7xV95s3vfe7rc8h9OC9ek2Roxh3jolF+5LvXw6ysTun737KvP1G74i4TrS0fRaP3XQ6ZRbPf/xNBWn01H6ydSTrocwXVWftqpP1aWmtFLMeHiTXzM99mI2GblonI6MwvIybbbyHW+3NjdKmI502C/Kq9q6XdKFU26aB8voT8UF/Z6uNrrBaGALTW3E4agoZbSmqW32koyskaEdlJMZbu34Y+ND68yKFav91vGFjvLb376xZ8rvrW95g4/thY73U5+8ttI+7WkXVZ02nTmEdnLvwZx3/oXmokuek+yk6dwvuPDZlf1XXv7ayjEA05Th1CX7tOGhB32sKzvl1XhGmTqVx9Qi041M7xFXn2pkVAqh82K/cVCMgFgn/89df3Nln3oK9eOBpR/5SxklMBLIgc573ne+1TM99sTLu38src7MLZvMoeUrZJ3OPZxy2/i7vy821TngNB574cuq+Lm3fUvCQxjFkO7Q8pWiqU8ZMhoibvEXPu1DHIu+eJ3Z8no3oqUc7I/mg0Nkf0eeoN+LdoEa2IiIkNb2cQ+npqlt9pKMrJGhLU5mSNCpakc12nAVX78KP/XUNeb33v5OrxjoXG+95Sb5DNm8eaM4BgUt6elwP/nxD2fbiUFayqcOLAQb69c/0FNnrFOP6NkPnIXmCWFZgLgw/sdf9EpJnwsOCiemMCVKGFz7t+8Xh0VdKFe86W3ms9d93G+NDzb83h/6tTyWffgDPWnoyLk3xP2TXNBqR0+HTnruNynbXvsGs+PHX25OvsZdjMy0bXDvU91bQCDU9gNOC2epUA7yZkqOcpAn+6Ns+7lfMYv/dZR+IbTRDfbTN+ZrM+7hBIZ0tTVJMjKg05DjeDgZiUrEjxMYMWgnryOE40H9oYGwAw8dURvPe8FLxLGgCR3DnbffIp+hDdHYEcbWYKqkC0YodN51vnPrzWKrbh+2bX3Y3HzT12T0U+fUVWv9mgPHpWlf/5qX+NA8cFDsu8JxJAxuvOGrDWfOMcdJjidS9z/q6FQWo49w6mnerd80M7bEf9hQwVGpnqkvRhDkjQPY88MDzkTZc+7Tqik3HAUPGTDSGQqPvegVUlYdOS36t8+ZHT/m2gTlwAmG+0WeTNGNHtrv5fR9fWi1H7dLyz2cmrFgtUlNmyRDFxSumwx7FQmtRkmeLZpxRjjVw43osQSjAzrIcDqoDa7giZfpshdcIOkUOndNHy7hqKILtEw3xkZFOt1VX5iOy4Hptyt/79erdNd8tL+HNsiHfWSaTJ1tmHd4jHUZa8d6JNApp3DpGnWEU2Ys/aBP24E4gkHeW8HBMaLRaTWcD6MppV5GXUaH3H6vjz4y0o8HDkcNeUFts5dkZI0MrRasVrg4amuI2ioqoSmMCIwO6CzD6aAucAx0qNoBL1u+QkYgsemwfnnble8UxxByyikrk9NfK1etaTyEQVnCezik/4u/+aTfGhzcN2Jajek01pXVq0/rmW6bqMzaOFDHB1a6e5A60hkOGN2E01zKvNu/Xd3jUeSJsz+9RkYig4URDfkxncYUmkJesXKMDfroIzv6cj+l5iN1NapNRtbI0HYUrBe1NURtFZXQFEaFsLMMb8TX0QcD6nClzwjkV3/xch/iSNlqA8fHfaLw/gcODudWt6fbOt0V3qSPfbdHp/6gPqWGU+uaAtMpRabTWFd4yq6eP+vh9nhD71+EN8pX/tHb/ZobIdBJM9UUMpSpLp3mCvMM7/FA7ojmkD2eXVNgjGjIb9lH/tLseMFLfaiRvOrlwLGG26NLH31kVl/ubLk3DegSJRkZ0GnI0VkwJdOe0KGVqA5ND7m6wmDgiSy9L8NC59kGN+JVx8JVvk6ZYYcr/TCe0cpgIJ/6iIbpKRxCaF+fJsPhMUUW3itjP8J7OPX4+pSa7gdxbY4SZ4hjZT/DEWEsf5y42hyvMIII77dsfOvv+xgHT4PhdDSehZvrgwUnxrRV2z0e4H6OxuHsvv/Jf5fwOvoAA7rUF0B1ZBM+IEBe2A3LwRN8g31AYXD00UdqP57sy9XWgGbKxS97WyRFykidDG2Wg1GGSVtFDc7eeeecYS78kZeU38MJKL+H0406lvBey1ik/B5OAdzv4fybueYj/+hDOsjqy9s17fdwkmRoszygoraGqK2iEpoG/WgLhXb0wYOx7mwKhb7I6su1D01p6vdwkmQYzCqYoraGqK2iEpoG/WgLhSY4l/qXRrlHo9+TKRTGNVl9ufahKY3idC2PRSuZBjsLpmTaEzq0EtWh6aFfbaHQjo5i9P4JC985qn/5s1AYN2g/nuzLidOli6a2xeFkGMwqnJJhryKh1SjJs0XTYKS0hckOX2INvwNzPN7kUCgMGen2uvq9fvrGdm1/93AG5WSGqK2iEpoGQ9TmJi0UCoUJS6RvbCVDa6O67+FMNidTBQVxhUkDL/8Mp8naln6/7xKz2/YdI6Wury+D+c5RoZCm0REmyNBWErfSfg9ntJ0MSFSHpodh0PYEtWgKw4K+V4xv5NPZ1jtQfdMznTnbbR1y1yv826jnGbPPd2/CaTJ9CCAMY8n9vovuM98fqtvglTqp8tf14cKbGgrt8L4yvsty+hWvqb7XUl/CnxCox+nbDPjS51DfoTb26affy9BWkqa21+Gok+nL0eSQ0GpUVbgchqjVoCo4oikMOzzFxfvT9AuMdOZhJxq+B4wvUPKCytg7zhQ6fTre3Ct9eWdakB9fPq0/aRZCHBoeBsj92YM6f/OX75b0sfs7fImUL3W2lSF0jvWFL3wW2jn9139OvkR6//s+Wr2TjHeV8cVM3Q5/QiB8jxnp9BdB+aIpr505ft/4Hytk9JEiUV1cO3VwTmaI2ioqoWkwRG0jqBFQGEHoVHEw/bw/7ao//PPGO87q4HR4G0DKMSn135zBWfFetzo6ciIOx4SzoCyEpRxUDMr2w+dd4Lea8Mbp1A/jhS84rS/1/Sk4eDXNwVNW9nyTvx9IhwPSXwTltTO8AWDykdFHVpIOndD5WDRUFmUrTUJbRSU0DYaobQQ1AhLkaAq5hK/Wz4VHj3mlS9f9EqarvviFT/mtwYMzwanwTjXt0Mlb7r/YshAGOsrIgfLzUwdt4NTGyg/jTRTC1/4PBf15An3LM45s4pPRR1aSDO2AWLZaHE6vKE2HVqI6ND0Mg7YnqEUTpR9tIRd9i/JgvoHPu9G6po8YQTD91i84lvA3bfQx59TIIXwUOgfer8bv1sRGRkwF8v621OPU+pMMbctwvC17osFLMB9/+kV+a3CEvwgK8lbp27/ttyYiHf1e1TVWK3Zpo11TczhdhkISWo3KGmYpQ9RqUBUc0bTSj7bQL/xgGfcq6oQv8GSJ3cRnCo57ILE4Zemy5T0/C5ADDoDpLu3sdRqtvuDsYj/ExpJzX0dHRozw6un5iYOU41LHllr6maKcDPCwAD/lrC/eHAz1t0XDoZNPqUY8kwrpGrV/7OojuzXW4eQag4S2ikpoGgxR2whqBCToR1sYCeoPDbR9Sx+nwAgm52penwoLlzo4ChxA+JAC94LCsuQs/fzYmT79huPVX0GN7W+s/DlLYWik3hY96ai6xpz+sRLLVpqh3sOpohKaBkPUNoIaAQlytDmawmjDTfvY783U0RFFuCg4LDpn7vl0OQumu+qdOkvOwwlDoV7+0EHpgqOuhxWGxlB+EXRCUHV7Of1fjkbp1Q7uHo5EdWh6GAZtT1CLJkqOtqbpkhf6gimvrh8a64KOmCmo2AMETNmFv0PTBvdDeDItdc8EcCzc2wk7dF14tLvfJ9UKowejkq4fQRsMM7ZsbvwC6MSh1v9FydEo7dr8eziVjYSmwRC1GlQFRzSt5GgDja52JSn0jd5nGOoN7tf+/K+Z9733ar81AE+B8YudKXBUOKWuL2wygkHX5pTaHqWu0zZC4iEBHiKIxRVHNjzwRNlw/gw18PPP/BDb5CO3U+zoQH1U+h5OFZXQNBiithHUCEiQo61puuSFYQGHwO/yDwUcF9Nh9QcEch653rx5Y+vN/9ARMpJC19b58xBB+GRbGzzpFhshpZaukVchD54o0+/QDAc8iMCTb/w89OSg1kcmSegaZo6ZKRe/9H/0qoPIfIZB2xM83HnXNMkkLvK8c55gLrz05eUXPwOG8oufdOpMadGxDieMXHi8ebi/BKmPLNcZ7V/zpBw4uNAZ8cQe390ZioOa6L/4yc1/frJ5OG7883qbgyevGOWfex4d5Bc/v/qv5poP/4MPySHRgTaiegMGHE4VnjDWQ64OWrQ9wcNgr4eaJpmkGVkcTpOh/sQ0o4b602FDAWfDiGO4ndhkYKI7HB5t1qfNhgLOhseh7/3Y8E7RjRXyHU5Hn9sT3a6dKnGDmjLLIaLVoCo4omklRxtodLU1STKyMMxwRT5czgb0UeZCoQ7TX8PxtBnvUpuozqabjg60J7pnowV5LDolUHKMKRFtI6gRkCBHW9Mk5TVtoVAoFAIS/WOj+0xoKwY0Uy5+yW+3qLuMhOSYGAZ7PdQ0yST95/2KFz3bvOF1rzB79g1u+qhfpk4zZunCWbL+yGP7zIbNj8v6WGKoU2qFscNEn1Ir5DEwpfb3PiRCo/vM6U/jmprDyTGktGh7gofBXg81TTLJ0PL+qZddat70S6/wW6PL3feuM/v2H/Bbln52ZdgZyPzkZUvMo9t3mcOHD/uQscRxraR8ZPr6+DN9+jRz4pJFZsvWR32IMh7q8TiWMSvrcdIWbTnnzJljfnDfA+aP3vXnPiygZzdy9qlb4x1OPxUU0TaChmivQaDplOfmndZd9PSzzU9f9qNmy7btPmRkmTlzunnSme77Kp+47svm05//D1nPI3efoUXbEzwM9qLUtNGkI5x3MskI5Z3lZIYp70bUKOTdmtxFTJH/2xhk3h155tGHdjSPoVJJhjPvDl1P9HDmCzwW/ZI3Z6SISBpB/WXcTU2TTDJCeWeZHea8+7oCHqK2EZRrbwj5RpMOwV4Sr00mGaG8J7qTgWiwCxwRJwOJPPPoQzthnAwktI2okcs78S41RLoE9AS1aKLkaGua2mYvycgaOVofTyPrklaCpMiToZU8/dKJ2hqkthHUCEiQq4NAq6uNpNHAFvrUdh7HZGSNTG32ccy0V+latD1RHVohR6O0aKPBLmCKLG3OJpqwhZq2tumIBrbQhzbrGKqtlEbJ0FaSDO2AWLbSJLSNqEZAhByNEtHa1ZZX2wQi6Anu2eggR1vT1DZ7SUbWyNH6eGlgfrMVFSRFngxtVsNW1NYgtY2gRkCCIWijyWqaJIPQ6rGM4jXtgoA+tFnHsQ97KV3DTEJbkaNRIloN6gl2AWknA42ELajOa2ubA0QDI7QaaKLHL3kM1VZKo2RoK0mGdkAsW2k6tD1RHVohR6O0aIMg73ASoio4omklRxtodLU1STIyoNOQx8ZLA3Or7aggKfJkaLMatqK2hqDtCWrRRBmCtrbpiAa2MAht8lhqRDSyRh/arGOptlIaJaFtRDUCIuRolIg2EuRwgXlOppE4QqBrTdYaESFXZ+k8ftCHvRxtJcnQZmmUhFajJLpno4UcjdKijQbXv4fTEDUCEuRoa5qkvKZNkqPzGmlkLqQdr80iQ5vVsJUMexURrQZVwRFNK7la1XltbdMRDWxhEFo9jtEkGhGNrNGHVo9j8liqrZRGSWgbUY2ACDkapUUbTe4CR3zKrIeaJkkf2tE8hkolydAOiGUrTULbiGrR9ZCjUSJaDWqYGAh0I5wekW5UAQlytDVNbbOXZGSNHK2PlwbmN1tRQVLkydBmNWxFbQ1S2whqBCQYjDZYbSSLBrbQp7bzOCYja2Rqs49jpr1K16LtierQCjkapUUbDXYB5b5MjAxtJcnQDohlK01C24hqBETI0SgRbSTIEY9wr7ZpiYyTo61papu9JCNr5Gh9vDQwv9mKCpIiT4Y2q2EramuQ2kZQIyDBELTRZDVNkkFo9VhG8Zp2QUAf2qzj2Ie9lK5hJqGtyNEoEa0G9QS7gHJfJkaGtpJkaAfEspWmQ9sT1aEVcjRKizaavEUb0DulliRtyBFodLU1STIyoNOQx8ZLA3Or7aggKfJkaLMatqK2hqDtCWrRRBmCtrbpiAa2MAht8lhqRDSyRh/arGOptlIaJaFtRDUCIuRolIg2EuRwgXlOppE4QqBrTdYaESFXZ+k8ftCHvRxtJcnQZmmUhFajJLpnI0GOBlrsRYOjgTUGNLWn1Or0Z0xIymvaJDk6r5FG5kLa8dosMrRZDVvJsFcR0WpQFRzRtJKrVZ3X1jYHiAZGaDUQwev0OEaTaEQ0skYfWj2OyWOptlIaJaFtRDUCIuRolBZtNLkLLPdlYmRoK0mGdkAsW2kS2kZUi66HRqIEEV1r8mhgjaYm4nBUlDJW09Q2e0lG1sjR+nhpYH6zFRUkRZ4MbVbDVtTWILWNoEZAgsFog9VGstaICLk6sLrO45iMrJGpzT6OmfYqXYu2J6pDK+RolBZtNNgFlPsyMTK0lSRDOyCWrTQJbSOqERAhR6NEtJEgR2tEQFrjHU5a5Khpapu9JCNr5Gh9vDQwv9mKCpIiT4Y2q2EramuQ2kZQIyDBELTRZDVNkkFo9VhG8Zp2QUAf2qzj2Ie9lK5hJqGtyNEoEa0GNUx0ORmIJoxQy6S2OUA0MEKrgSZ6/JLHUG2lNEqGtpJkaAfEspWmQ9sT1aEVcjRKizaavEXbQ47GkXEPJzCkq61JkpEBnYY8Nl4amFttRwVJkSdDm9WwFbU1BG1PUIsmyhC0tU1HNLCFQWiTx1IjopE1+tBmHUu1ldIoCW0jqhEQIUejRLSRIIcLVEcTpzVxhEDXmqw1IkKuztJ5/KAPeznaSpKhzdIoCa1GSXTPRoIcDbTYiwZHA2vkaBSvs8ew5R5OzViw2qSmTZKj8xppZC6kHa/NIkOb1bCVDHsVEa0GVcERTSu5WtV5bW1zgGhghFYDEbxOj2M0iUZEI2v0odXjmDyWaiulURLaRlQjIEKORmnRRpO7wHJfJkaGtpJkaAfEspUmoW1Eteh6aCRKENG1Jo8G1sjRKFYnx9CtGmPM/wM0tZAdbmBHLwAAAABJRU5ErkJggg==)"
      ],
      "metadata": {
        "id": "sdIrnFpFHWFo"
      }
    },
    {
      "cell_type": "code",
      "source": [
        "#titanic\n",
        "'''df=pd.read_csv('titanic.csv')\n",
        "data=df[['Pclass','Sex','SibSp','Parch','Fare']]\n",
        "label=df['Survived']\n",
        "data['Sex']=pd.get_dummies(data['Sex'])['female'].values\n",
        "x_train,x_test, y_train, y_test = train_test_split(data, label)\n",
        "model=LogisticRegression()\n",
        "model.fit(x_train,y_train)\n",
        "pred=model.predict(x_test)'''"
      ],
      "metadata": {
        "id": "29JFrVAnw63s"
      },
      "execution_count": null,
      "outputs": []
    },
    {
      "cell_type": "markdown",
      "source": [
        "# 정확도(Accuracy)\n",
        "\n",
        "---\n",
        "(TN+TP) / (TP+TN+FP+FT)\n"
      ],
      "metadata": {
        "id": "htKZSJMfFq4K"
      }
    },
    {
      "cell_type": "code",
      "source": [
        "from sklearn.base import BaseEstimator\n",
        "from sklearn.model_selection import train_test_split\n",
        "from sklearn.metrics import accuracy_score\n",
        "from sklearn.datasets import load_digits\n",
        "from sklearn.linear_model import LogisticRegression"
      ],
      "metadata": {
        "id": "mQYj12zKFwZ5"
      },
      "execution_count": 25,
      "outputs": []
    },
    {
      "cell_type": "code",
      "source": [
        "df=pd.read_csv(\"titanic.csv\")\n",
        "df.info()"
      ],
      "metadata": {
        "id": "Zg1L_tFafCr9",
        "colab": {
          "base_uri": "https://localhost:8080/"
        },
        "outputId": "1884df2a-3cb9-40f9-92c1-2d7bcc9bdca7"
      },
      "execution_count": 26,
      "outputs": [
        {
          "output_type": "stream",
          "name": "stdout",
          "text": [
            "<class 'pandas.core.frame.DataFrame'>\n",
            "RangeIndex: 891 entries, 0 to 890\n",
            "Data columns (total 12 columns):\n",
            " #   Column       Non-Null Count  Dtype  \n",
            "---  ------       --------------  -----  \n",
            " 0   PassengerId  891 non-null    int64  \n",
            " 1   Survived     891 non-null    int64  \n",
            " 2   Pclass       891 non-null    int64  \n",
            " 3   Name         891 non-null    object \n",
            " 4   Sex          891 non-null    object \n",
            " 5   Age          714 non-null    float64\n",
            " 6   SibSp        891 non-null    int64  \n",
            " 7   Parch        891 non-null    int64  \n",
            " 8   Ticket       891 non-null    object \n",
            " 9   Fare         891 non-null    float64\n",
            " 10  Cabin        204 non-null    object \n",
            " 11  Embarked     889 non-null    object \n",
            "dtypes: float64(2), int64(5), object(5)\n",
            "memory usage: 83.7+ KB\n"
          ]
        }
      ]
    },
    {
      "cell_type": "code",
      "source": [
        "class MyDummyClassifier(BaseEstimator):\n",
        "    def fit(self,x,y=None):\n",
        "        pass\n",
        "    def predict(self,x):\n",
        "        pred = np.zeros((x.shape[0],1))\n",
        "        for i in range(x.shape[0]):\n",
        "            if x['Sex'].iloc[i]==0:\n",
        "                pred[i]=0\n",
        "            else:\n",
        "                pred[i]=1\n",
        "        return pred\n"
      ],
      "metadata": {
        "id": "pEWnn4wJcgdB"
      },
      "execution_count": 27,
      "outputs": []
    },
    {
      "cell_type": "code",
      "source": [
        "data=df[['Pclass','Sex','SibSp','Parch','Fare']]\n",
        "label=df['Survived']"
      ],
      "metadata": {
        "id": "aXb59DfqdWi9"
      },
      "execution_count": 28,
      "outputs": []
    },
    {
      "cell_type": "code",
      "source": [
        "data['Sex']=pd.get_dummies(data['Sex'])['female'].values"
      ],
      "metadata": {
        "colab": {
          "base_uri": "https://localhost:8080/"
        },
        "id": "AIbOoCAXf7-F",
        "outputId": "dc1e87c1-76b1-4a75-dead-dceea6a34d93"
      },
      "execution_count": 29,
      "outputs": [
        {
          "output_type": "stream",
          "name": "stderr",
          "text": [
            "<ipython-input-29-16ae76377c22>:1: SettingWithCopyWarning: \n",
            "A value is trying to be set on a copy of a slice from a DataFrame.\n",
            "Try using .loc[row_indexer,col_indexer] = value instead\n",
            "\n",
            "See the caveats in the documentation: https://pandas.pydata.org/pandas-docs/stable/user_guide/indexing.html#returning-a-view-versus-a-copy\n",
            "  data['Sex']=pd.get_dummies(data['Sex'])['female'].values\n"
          ]
        }
      ]
    },
    {
      "cell_type": "code",
      "source": [
        "x_train,x_test, y_train, y_test = train_test_split(data, label)\n",
        "model=MyDummyClassifier()\n",
        "model.fit(x_train,y_train)\n",
        "pred=model.predict(x_test)\n",
        "print(\"score:\",accuracy_score(y_test,pred))\n"
      ],
      "metadata": {
        "colab": {
          "base_uri": "https://localhost:8080/"
        },
        "id": "jjlHqz8wgs-B",
        "outputId": "d741a859-fd23-45aa-e453-100186f74e4f"
      },
      "execution_count": 30,
      "outputs": [
        {
          "output_type": "stream",
          "name": "stdout",
          "text": [
            "score: 0.7892376681614349\n"
          ]
        }
      ]
    },
    {
      "cell_type": "code",
      "source": [
        "digits=load_digits()\n",
        "np.unique(digits.target,return_counts=True)"
      ],
      "metadata": {
        "colab": {
          "base_uri": "https://localhost:8080/"
        },
        "id": "foMYfR7li7wP",
        "outputId": "75f9c0cd-a1b5-4161-bc05-22d372b5fbe0"
      },
      "execution_count": 31,
      "outputs": [
        {
          "output_type": "execute_result",
          "data": {
            "text/plain": [
              "(array([0, 1, 2, 3, 4, 5, 6, 7, 8, 9]),\n",
              " array([178, 182, 177, 183, 181, 182, 181, 179, 174, 180]))"
            ]
          },
          "metadata": {},
          "execution_count": 31
        }
      ]
    },
    {
      "cell_type": "code",
      "source": [
        "data=digits.data\n",
        "label=(digits.target==7).astype(int)\n",
        "np.unique(label,return_counts=True)"
      ],
      "metadata": {
        "colab": {
          "base_uri": "https://localhost:8080/"
        },
        "id": "FHohH0Vhjmke",
        "outputId": "7d3ed546-7647-4a8b-c91d-a806bf16a93e"
      },
      "execution_count": 32,
      "outputs": [
        {
          "output_type": "execute_result",
          "data": {
            "text/plain": [
              "(array([0, 1]), array([1618,  179]))"
            ]
          },
          "metadata": {},
          "execution_count": 32
        }
      ]
    },
    {
      "cell_type": "code",
      "source": [
        "class MySecondClassifier(BaseEstimator):\n",
        "    def fit(self,x,y=None):\n",
        "        pass\n",
        "    def predict(self,x):\n",
        "        return np.zeros((len(x),1),dtype=bool)\n"
      ],
      "metadata": {
        "id": "PQ02z5gOj4op"
      },
      "execution_count": 33,
      "outputs": []
    },
    {
      "cell_type": "code",
      "source": [
        "x_train,x_test, y_train, y_test = train_test_split(data,label)\n",
        "model= MySecondClassifier()\n",
        "model.fit(x_train,y_train)\n",
        "pred = model.predict(x_test)\n",
        "print(\"score:\",accuracy_score(y_test,pred))\n"
      ],
      "metadata": {
        "colab": {
          "base_uri": "https://localhost:8080/"
        },
        "id": "9CkVsEMOksTo",
        "outputId": "508b19e2-7607-43b4-93c3-7c37d96cd86d"
      },
      "execution_count": 34,
      "outputs": [
        {
          "output_type": "stream",
          "name": "stdout",
          "text": [
            "score: 0.8911111111111111\n"
          ]
        }
      ]
    },
    {
      "cell_type": "code",
      "source": [
        "model= LogisticRegression()\n",
        "model.fit(x_train,y_train)\n",
        "pred = model.predict(x_test)\n",
        "print(\"score:\",accuracy_score(y_test,pred))\n"
      ],
      "metadata": {
        "colab": {
          "base_uri": "https://localhost:8080/"
        },
        "id": "Ntccq143qE_z",
        "outputId": "284ebdbe-bf11-4744-e828-6ed0cc856276"
      },
      "execution_count": 35,
      "outputs": [
        {
          "output_type": "stream",
          "name": "stdout",
          "text": [
            "score: 0.9977777777777778\n"
          ]
        },
        {
          "output_type": "stream",
          "name": "stderr",
          "text": [
            "/usr/local/lib/python3.10/dist-packages/sklearn/linear_model/_logistic.py:458: ConvergenceWarning: lbfgs failed to converge (status=1):\n",
            "STOP: TOTAL NO. of ITERATIONS REACHED LIMIT.\n",
            "\n",
            "Increase the number of iterations (max_iter) or scale the data as shown in:\n",
            "    https://scikit-learn.org/stable/modules/preprocessing.html\n",
            "Please also refer to the documentation for alternative solver options:\n",
            "    https://scikit-learn.org/stable/modules/linear_model.html#logistic-regression\n",
            "  n_iter_i = _check_optimize_result(\n"
          ]
        }
      ]
    },
    {
      "cell_type": "markdown",
      "source": [
        "# 오차행렬(Confusion Matrix)\n",
        "\n",
        "---"
      ],
      "metadata": {
        "id": "T-WswBKPrPtu"
      }
    },
    {
      "cell_type": "code",
      "source": [
        "from sklearn.metrics import confusion_matrix\n"
      ],
      "metadata": {
        "id": "SIcCVRUerczg"
      },
      "execution_count": 36,
      "outputs": []
    },
    {
      "cell_type": "code",
      "source": [
        "x_train,x_test, y_train, y_test = train_test_split(data,label)\n",
        "model= MySecondClassifier()\n",
        "model.fit(x_train,y_train)\n",
        "pred = model.predict(x_test)\n",
        "\n",
        "confusion_matrix(y_test,pred)"
      ],
      "metadata": {
        "colab": {
          "base_uri": "https://localhost:8080/"
        },
        "id": "9YtdVpZgr_pY",
        "outputId": "0e577847-d08c-405b-af96-573be9fc9afa"
      },
      "execution_count": 37,
      "outputs": [
        {
          "output_type": "execute_result",
          "data": {
            "text/plain": [
              "array([[407,   0],\n",
              "       [ 43,   0]])"
            ]
          },
          "metadata": {},
          "execution_count": 37
        }
      ]
    },
    {
      "cell_type": "code",
      "source": [
        "model= LogisticRegression()\n",
        "model.fit(x_train,y_train)\n",
        "pred = model.predict(x_test)\n",
        "\n",
        "confusion_matrix(y_test,pred)"
      ],
      "metadata": {
        "colab": {
          "base_uri": "https://localhost:8080/"
        },
        "id": "9qLibNlZsiGG",
        "outputId": "5d95f0cf-28ff-49c0-ea80-2da3db5478f4"
      },
      "execution_count": 38,
      "outputs": [
        {
          "output_type": "stream",
          "name": "stderr",
          "text": [
            "/usr/local/lib/python3.10/dist-packages/sklearn/linear_model/_logistic.py:458: ConvergenceWarning: lbfgs failed to converge (status=1):\n",
            "STOP: TOTAL NO. of ITERATIONS REACHED LIMIT.\n",
            "\n",
            "Increase the number of iterations (max_iter) or scale the data as shown in:\n",
            "    https://scikit-learn.org/stable/modules/preprocessing.html\n",
            "Please also refer to the documentation for alternative solver options:\n",
            "    https://scikit-learn.org/stable/modules/linear_model.html#logistic-regression\n",
            "  n_iter_i = _check_optimize_result(\n"
          ]
        },
        {
          "output_type": "execute_result",
          "data": {
            "text/plain": [
              "array([[406,   1],\n",
              "       [  3,  40]])"
            ]
          },
          "metadata": {},
          "execution_count": 38
        }
      ]
    },
    {
      "cell_type": "markdown",
      "source": [
        "# 정밀도와 재현율\n",
        "(Precision , Recall)\n",
        "---\n",
        "Precision = TP / (FP+TP) \\\n",
        "Recall = TP / (FN + TP)"
      ],
      "metadata": {
        "id": "VqVwBGuMGy6C"
      }
    },
    {
      "cell_type": "code",
      "source": [
        "from sklearn.metrics import accuracy_score, precision_score, recall_score, confusion_matrix\n",
        "from sklearn.preprocessing import Binarizer\n",
        "from sklearn.metrics import precision_recall_curve\n",
        "import matplotlib.pyplot as plt\n",
        "import matplotlib.ticker as ticker\n"
      ],
      "metadata": {
        "id": "8WU8azt5HJz1"
      },
      "execution_count": 84,
      "outputs": []
    },
    {
      "cell_type": "code",
      "source": [
        "def model_eval(actual,pred,print_flag=True):\n",
        "  confusion = confusion_matrix(actual,pred)\n",
        "  accuracy = accuracy_score(actual,pred)\n",
        "  precision = precision_score(actual,pred)\n",
        "  recall = recall_score(actual,pred)\n",
        "\n",
        "  if print_flag:\n",
        "    print(\"confusion : \",confusion)\n",
        "    print(\"accuracy : \",accuracy)\n",
        "    print(\"precision : \",precision)\n",
        "    print(\"recall : \", recall)\n",
        "\n",
        "  return confusion,accuracy,precision,recall\n"
      ],
      "metadata": {
        "id": "0q16GacGv45_"
      },
      "execution_count": 40,
      "outputs": []
    },
    {
      "cell_type": "code",
      "source": [
        "model=LogisticRegression()\n",
        "model.fit(x_train,y_train)\n",
        "pred = model.predict(x_test)\n",
        "co,ac,pr,re=model_eval(y_test,pred)"
      ],
      "metadata": {
        "id": "WwMeBPGOxUci"
      },
      "execution_count": null,
      "outputs": []
    },
    {
      "cell_type": "code",
      "source": [
        "#titanic\n",
        "df=pd.read_csv('titanic.csv')\n",
        "data=df[['Pclass','Sex','SibSp','Parch','Fare']]\n",
        "label=df['Survived']\n",
        "data['Sex']=pd.get_dummies(data['Sex'])['female'].values"
      ],
      "metadata": {
        "id": "YbNdoxA4xrWp"
      },
      "execution_count": null,
      "outputs": []
    },
    {
      "cell_type": "code",
      "source": [
        "x_train,x_test, y_train, y_test = train_test_split(data, label)\n"
      ],
      "metadata": {
        "id": "r3BLLy0737Db"
      },
      "execution_count": 43,
      "outputs": []
    },
    {
      "cell_type": "code",
      "source": [
        "model=LogisticRegression()\n",
        "model.fit(x_train,y_train)\n",
        "pred=model.predict(x_test)\n",
        "re=model_eval(y_test,pred)"
      ],
      "metadata": {
        "id": "LALDUChO4LmE"
      },
      "execution_count": null,
      "outputs": []
    },
    {
      "cell_type": "code",
      "source": [
        "model=MyDummyClassifier()\n",
        "model.fit(x_train,y_train)\n",
        "pred=model.predict(x_test)\n",
        "re=model_eval(y_test,pred)"
      ],
      "metadata": {
        "id": "Dng3_OQg4mVK"
      },
      "execution_count": null,
      "outputs": []
    },
    {
      "cell_type": "code",
      "source": [
        "model=LogisticRegression()\n",
        "model.fit(x_train,y_train)\n",
        "pred_proba=model.predict_proba(x_test) #확률\n"
      ],
      "metadata": {
        "id": "BZ3XOnaF45AV"
      },
      "execution_count": 46,
      "outputs": []
    },
    {
      "cell_type": "code",
      "source": [
        "ct=0.5\n",
        "pp1=pred_proba[:,1].reshape(-1,1)\n",
        "biz=Binarizer(threshold=ct).fit(pp1)\n",
        "cp=biz.transform(pp1)\n",
        "re1=model_eval(y_test,cp)"
      ],
      "metadata": {
        "id": "7ahxrnur5_MD"
      },
      "execution_count": null,
      "outputs": []
    },
    {
      "cell_type": "code",
      "source": [
        "def get_eval_by_thresholds(y_test,pp,thresholds):\n",
        "  pp2=pp[:,1].reshape(-1,1)\n",
        "  for threshold in thresholds:\n",
        "      binar = Binarizer(threshold=threshold)\n",
        "      pv = binar.fit_transform(pp2)\n",
        "      _,acc,prec,recall =model_eval(y_test,pv,False)\n",
        "      print(f\"[{threshold}]\")\n",
        "      print(f'acc:{acc:.3f} prec:{prec:.3f} recall:{recall:.3f} \\n')"
      ],
      "metadata": {
        "id": "vRGEJcvs-Iir"
      },
      "execution_count": 48,
      "outputs": []
    },
    {
      "cell_type": "code",
      "source": [
        "ths=[0.4,0.5,0.55,0.6]\n",
        "get_eval_by_thresholds(y_test,pred_proba,ths)"
      ],
      "metadata": {
        "id": "94PBSiQj6WS9"
      },
      "execution_count": null,
      "outputs": []
    },
    {
      "cell_type": "code",
      "source": [
        "#titanic\n",
        "df=pd.read_csv('titanic.csv')\n",
        "data=df[['Pclass','Sex','SibSp','Parch','Fare']]\n",
        "label=df['Survived']\n",
        "data['Sex']=pd.get_dummies(data['Sex'])['female'].values\n",
        "x_train,x_test, y_train, y_test = train_test_split(data, label)\n"
      ],
      "metadata": {
        "id": "vqwwEam1_KHo"
      },
      "execution_count": null,
      "outputs": []
    },
    {
      "cell_type": "code",
      "source": [
        "model=LogisticRegression()\n",
        "model.fit(x_train,y_train)\n",
        "pp1=model.predict_proba(x_test)\n",
        "ppc1=pp1[:,1]"
      ],
      "metadata": {
        "id": "jrz4IyUfmz9L"
      },
      "execution_count": 67,
      "outputs": []
    },
    {
      "cell_type": "code",
      "source": [
        "prec,rec,thres = precision_recall_curve(y_test,ppc1)"
      ],
      "metadata": {
        "id": "4bb6U0D7nxHA"
      },
      "execution_count": 68,
      "outputs": []
    },
    {
      "cell_type": "code",
      "source": [
        "thr_index = np.arange(0,thres.shape[0],15)\n",
        "thr_index\n",
        "\n",
        "\n",
        "print(\"threshold:\",np.round(thres[thr_index],2))\n",
        "print(\"(정밀도)precison:\",np.round(prec[thr_index],2))\n",
        "print(\"(재현율)recall  :\",np.round(rec[thr_index],2))\n"
      ],
      "metadata": {
        "colab": {
          "base_uri": "https://localhost:8080/"
        },
        "id": "hYo5BwsfosMP",
        "outputId": "a563ce44-2578-4e0e-ec12-50e1104b6fcf"
      },
      "execution_count": 83,
      "outputs": [
        {
          "output_type": "stream",
          "name": "stdout",
          "text": [
            "threshold: [0.03 0.12 0.12 0.24 0.4  0.45 0.58 0.63 0.81 0.92]\n",
            "(정밀도)precison: [0.41 0.43 0.52 0.58 0.69 0.77 0.87 0.96 1.   1.  ]\n",
            "(재현율)recall  : [1.   0.97 0.91 0.84 0.77 0.7  0.65 0.49 0.27 0.1 ]\n"
          ]
        }
      ]
    },
    {
      "cell_type": "code",
      "source": [
        "last = thres.shape[0]\n",
        "plt.plot(thres,prec[0:last],'r-',label='precission')\n",
        "plt.plot(thres,rec[0:last],label='recall')\n",
        "plt.grid()\n",
        "plt.xlabel('Threshold');plt.ylabel('Precison and recall')\n",
        "plt.legend()\n",
        "plt.show()\n"
      ],
      "metadata": {
        "colab": {
          "base_uri": "https://localhost:8080/",
          "height": 467
        },
        "id": "0QaGvfJ6umL_",
        "outputId": "3c6a0e83-3b2d-44fb-a739-d1c2a9151869"
      },
      "execution_count": 94,
      "outputs": [
        {
          "output_type": "display_data",
          "data": {
            "text/plain": [
              "<Figure size 640x480 with 1 Axes>"
            ],
            "image/png": "[encoded data removed]"
          },
          "metadata": {}
        },
        {
          "output_type": "stream",
          "name": "stdout",
          "text": [
            "123\n"
          ]
        }
      ]
    },
    {
      "cell_type": "markdown",
      "source": [
        "# F1 스코어\n",
        "\n",
        "---\n",
        "\n"
      ],
      "metadata": {
        "id": "1_czMNofwb9P"
      }
    },
    {
      "cell_type": "code",
      "source": [
        "from sklearn.metrics import f1_score\n"
      ],
      "metadata": {
        "id": "EopEcFn_whQL"
      },
      "execution_count": 114,
      "outputs": []
    },
    {
      "cell_type": "code",
      "source": [
        "#titanic\n",
        "df=pd.read_csv('titanic.csv')\n",
        "data=df[['Pclass','Sex','SibSp','Parch','Fare']]\n",
        "label=df['Survived']\n",
        "data['Sex']=pd.get_dummies(data['Sex'])['female'].values\n",
        "x_train,x_test, y_train, y_test = train_test_split(data, label)\n",
        "model=LogisticRegression()\n",
        "model.fit(x_train,y_train)\n",
        "pred=model.predict(x_test)"
      ],
      "metadata": {
        "colab": {
          "base_uri": "https://localhost:8080/"
        },
        "id": "RqcVYXkLwmHh",
        "outputId": "1661c670-1c9b-4c1b-a759-436fa572752c"
      },
      "execution_count": 115,
      "outputs": [
        {
          "output_type": "stream",
          "name": "stderr",
          "text": [
            "<ipython-input-115-1d998ef0e932>:5: SettingWithCopyWarning: \n",
            "A value is trying to be set on a copy of a slice from a DataFrame.\n",
            "Try using .loc[row_indexer,col_indexer] = value instead\n",
            "\n",
            "See the caveats in the documentation: https://pandas.pydata.org/pandas-docs/stable/user_guide/indexing.html#returning-a-view-versus-a-copy\n",
            "  data['Sex']=pd.get_dummies(data['Sex'])['female'].values\n"
          ]
        }
      ]
    },
    {
      "cell_type": "code",
      "source": [
        "model=LogisticRegression()\n",
        "model.fit(x_train,y_train)\n",
        "pred=model.predict(x_test)\n"
      ],
      "metadata": {
        "id": "49xUUa6MwtXU"
      },
      "execution_count": 116,
      "outputs": []
    },
    {
      "cell_type": "code",
      "source": [
        "f1=f1_score(y_test,pred)\n",
        "f1"
      ],
      "metadata": {
        "colab": {
          "base_uri": "https://localhost:8080/"
        },
        "id": "5prO1gYww-X3",
        "outputId": "55d894ea-7725-478d-c0f8-f3ab6526821d"
      },
      "execution_count": 117,
      "outputs": [
        {
          "output_type": "execute_result",
          "data": {
            "text/plain": [
              "0.7515151515151515"
            ]
          },
          "metadata": {},
          "execution_count": 117
        }
      ]
    },
    {
      "cell_type": "code",
      "source": [
        "def get_model_eval(actual,pred):\n",
        "    con = confusion_matrix(actual,pred)\n",
        "    acc = accuracy_score(actual,pred)\n",
        "    pre = precision_score(actual,pred)\n",
        "    rec = recall_score(actual,pred)\n",
        "    f1 = f1_score(actual,pred)\n",
        "    print('오차 행렬')\n",
        "    print(con)\n",
        "    print(f\"정확도:{acc:6.4f} 정밀도:{pre:6.4f} 재현율:{rec:6.4f} F1:{f1:6.4f}\\n\")\n"
      ],
      "metadata": {
        "id": "O_tR8tXZxE8H"
      },
      "execution_count": 118,
      "outputs": []
    },
    {
      "cell_type": "code",
      "source": [
        "get_model_eval(y_test,pred)"
      ],
      "metadata": {
        "colab": {
          "base_uri": "https://localhost:8080/"
        },
        "id": "8NAqxKBIxs7B",
        "outputId": "9af93f2b-9a95-4f5a-980a-89fab2ce0457"
      },
      "execution_count": 119,
      "outputs": [
        {
          "output_type": "stream",
          "name": "stdout",
          "text": [
            "오차 행렬\n",
            "[[120  20]\n",
            " [ 21  62]]\n",
            "정확도:0.8161 정밀도:0.7561 재현율:0.7470 F1:0.7515\n",
            "\n"
          ]
        }
      ]
    },
    {
      "cell_type": "code",
      "source": [
        "def get_eval_by_thresholds2(y_test,pp,thresholds):\n",
        "  pp2=pp[:,1].reshape(-1,1)\n",
        "  for threshold in thresholds:\n",
        "      binar = Binarizer(threshold=threshold)\n",
        "      pv = binar.fit_transform(pp2)\n",
        "      print(f\"<{threshold}>\")\n",
        "      get_model_eval(y_test,pv)"
      ],
      "metadata": {
        "id": "5b6HM1BMxzNX"
      },
      "execution_count": 120,
      "outputs": []
    },
    {
      "cell_type": "code",
      "source": [
        "thresholds = [0.4, 0.45, 0.5, 0.55, 0.55, 0.6]\n",
        "model=LogisticRegression()\n",
        "model.fit(x_train,y_train)\n",
        "pred_proba = model.predict_proba(x_test)\n",
        "get_eval_by_thresholds2(y_test,pred_proba,thresholds)\n"
      ],
      "metadata": {
        "colab": {
          "base_uri": "https://localhost:8080/"
        },
        "id": "GAb1R9WNy9KF",
        "outputId": "c471ca54-ace3-4a98-b0b8-5bb1db0be4c8"
      },
      "execution_count": 121,
      "outputs": [
        {
          "output_type": "stream",
          "name": "stdout",
          "text": [
            "<0.4>\n",
            "오차 행렬\n",
            "[[106  34]\n",
            " [ 13  70]]\n",
            "정확도:0.7892 정밀도:0.6731 재현율:0.8434 F1:0.7487\n",
            "\n",
            "<0.45>\n",
            "오차 행렬\n",
            "[[115  25]\n",
            " [ 20  63]]\n",
            "정확도:0.7982 정밀도:0.7159 재현율:0.7590 F1:0.7368\n",
            "\n",
            "<0.5>\n",
            "오차 행렬\n",
            "[[120  20]\n",
            " [ 21  62]]\n",
            "정확도:0.8161 정밀도:0.7561 재현율:0.7470 F1:0.7515\n",
            "\n",
            "<0.55>\n",
            "오차 행렬\n",
            "[[121  19]\n",
            " [ 23  60]]\n",
            "정확도:0.8117 정밀도:0.7595 재현율:0.7229 F1:0.7407\n",
            "\n",
            "<0.55>\n",
            "오차 행렬\n",
            "[[121  19]\n",
            " [ 23  60]]\n",
            "정확도:0.8117 정밀도:0.7595 재현율:0.7229 F1:0.7407\n",
            "\n",
            "<0.6>\n",
            "오차 행렬\n",
            "[[126  14]\n",
            " [ 26  57]]\n",
            "정확도:0.8206 정밀도:0.8028 재현율:0.6867 F1:0.7403\n",
            "\n"
          ]
        }
      ]
    },
    {
      "cell_type": "code",
      "source": [],
      "metadata": {
        "id": "iBca9HtOzPsY"
      },
      "execution_count": 121,
      "outputs": []
    },
    {
      "cell_type": "markdown",
      "source": [
        "# ROC곡선과 AUC\n",
        "\n",
        "---\n",
        "\n",
        "\n",
        "\n",
        "\n"
      ],
      "metadata": {
        "id": "gwE8BWMb1-Vd"
      }
    },
    {
      "cell_type": "code",
      "source": [
        "from sklearn.metrics import roc_curve\n",
        "from sklearn.metrics import roc_auc_score\n",
        "\n"
      ],
      "metadata": {
        "id": "49reHMJA2BhR"
      },
      "execution_count": 128,
      "outputs": []
    },
    {
      "cell_type": "code",
      "source": [
        "df=pd.read_csv('titanic.csv')\n",
        "data=df[['Pclass','Sex','SibSp','Parch','Fare']]\n",
        "label=df['Survived']\n",
        "data['Sex']=pd.get_dummies(data['Sex'])['female'].values\n",
        "x_train,x_test, y_train, y_test = train_test_split(data, label)\n",
        "model=LogisticRegression()\n",
        "model.fit(x_train,y_train)\n",
        "pred_proba=model.predict_proba(x_test)\n",
        "pp1=pred_proba[:,1].reshape(-1,1)\n"
      ],
      "metadata": {
        "colab": {
          "base_uri": "https://localhost:8080/"
        },
        "id": "rtaDRSkt2JOb",
        "outputId": "b919396e-9da1-4718-cb97-5d998e538736"
      },
      "execution_count": 124,
      "outputs": [
        {
          "output_type": "stream",
          "name": "stderr",
          "text": [
            "<ipython-input-124-5b6d451d31ac>:4: SettingWithCopyWarning: \n",
            "A value is trying to be set on a copy of a slice from a DataFrame.\n",
            "Try using .loc[row_indexer,col_indexer] = value instead\n",
            "\n",
            "See the caveats in the documentation: https://pandas.pydata.org/pandas-docs/stable/user_guide/indexing.html#returning-a-view-versus-a-copy\n",
            "  data['Sex']=pd.get_dummies(data['Sex'])['female'].values\n"
          ]
        }
      ]
    },
    {
      "cell_type": "code",
      "source": [
        "fprs, tprs, thresholds = roc_curve(y_test,pp1)\n",
        "thr_index = np.arange(1,thresholds.shape[0],5)\n",
        "print(\"인덱스:\",thr_index)\n",
        "print(\"임곗값:\",np.round(thresholds[thr_index],2))\n",
        "print(\"FRP:\",np.round(fprs[thr_index],2))\n",
        "print(\"TRP:\",np.round(tprs[thr_index],2))\n"
      ],
      "metadata": {
        "colab": {
          "base_uri": "https://localhost:8080/"
        },
        "id": "99yfXANX2dVn",
        "outputId": "cb517324-853d-4784-be4f-02edcb83441a"
      },
      "execution_count": 125,
      "outputs": [
        {
          "output_type": "stream",
          "name": "stdout",
          "text": [
            "인덱스: [ 1  6 11 16 21 26 31 36 41 46 51 56 61 66 71 76 81 86]\n",
            "임곗값: [0.95 0.88 0.62 0.61 0.56 0.48 0.42 0.4  0.4  0.23 0.21 0.17 0.11 0.11\n",
            " 0.1  0.1  0.08 0.04]\n",
            "FRP: [0.   0.01 0.03 0.05 0.09 0.1  0.15 0.18 0.22 0.27 0.38 0.45 0.61 0.72\n",
            " 0.8  0.85 0.89 0.98]\n",
            "TRP: [0.01 0.24 0.44 0.54 0.59 0.66 0.68 0.73 0.77 0.8  0.82 0.84 0.89 0.92\n",
            " 0.92 0.94 0.98 1.  ]\n"
          ]
        }
      ]
    },
    {
      "cell_type": "code",
      "source": [
        "def roc_curve_plot(y_test,pred):\n",
        "    fprs, tprs, thresholds = roc_curve(y_test,pred)\n",
        "    plt.plot(fprs,tprs,label='ROC')\n",
        "    plt.plot([0,1],[0,1],'k--',label='Random')\n",
        "    plt.xlabel('FPR')\n",
        "    plt.ylabel('TPR')\n",
        "    plt.legend()\n",
        "    plt.show()\n"
      ],
      "metadata": {
        "id": "05sMAkQR3Bwx"
      },
      "execution_count": 126,
      "outputs": []
    },
    {
      "cell_type": "code",
      "source": [
        "roc_curve_plot(y_test,pp1)"
      ],
      "metadata": {
        "colab": {
          "base_uri": "https://localhost:8080/",
          "height": 449
        },
        "id": "K4hlyXK13Lt0",
        "outputId": "08013f3c-303f-4a29-e575-4e77967054aa"
      },
      "execution_count": 127,
      "outputs": [
        {
          "output_type": "display_data",
          "data": {
            "text/plain": [
              "<Figure size 640x480 with 1 Axes>"
            ],
            "image/png": "[encoded data removed]"
          },
          "metadata": {}
        }
      ]
    },
    {
      "cell_type": "code",
      "source": [
        "roc_auc_score(y_test,pp1)"
      ],
      "metadata": {
        "colab": {
          "base_uri": "https://localhost:8080/"
        },
        "id": "rPRzBgZ63cWj",
        "outputId": "fe511500-8336-41ec-b67a-53033b8ad2db"
      },
      "execution_count": 129,
      "outputs": [
        {
          "output_type": "execute_result",
          "data": {
            "text/plain": [
              "0.8258223684210526"
            ]
          },
          "metadata": {},
          "execution_count": 129
        }
      ]
    },
    {
      "cell_type": "code",
      "source": [],
      "metadata": {
        "id": "6-jZzV2L4QqH"
      },
      "execution_count": null,
      "outputs": []
    }
  ]
}