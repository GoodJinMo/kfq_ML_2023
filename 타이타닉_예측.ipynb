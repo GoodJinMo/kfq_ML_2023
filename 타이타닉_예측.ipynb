{
  "nbformat": 4,
  "nbformat_minor": 0,
  "metadata": {
    "colab": {
      "provenance": [],
      "collapsed_sections": [
        "ANbIqG2Fb2Ur",
        "sv8_4ta-bn1_"
      ],
      "authorship_tag": "ABX9TyN1feSbcondvTHmbztDxG58",
      "include_colab_link": true
    },
    "kernelspec": {
      "name": "python3",
      "display_name": "Python 3"
    },
    "language_info": {
      "name": "python"
    }
  },
  "cells": [
    {
      "cell_type": "markdown",
      "metadata": {
        "id": "view-in-github",
        "colab_type": "text"
      },
      "source": [
        "<a href=\"https://colab.research.google.com/github/GoodJinMo/kfq_ML_2023/blob/main/%ED%83%80%EC%9D%B4%ED%83%80%EB%8B%89_%EC%98%88%EC%B8%A1.ipynb\" target=\"_parent\"><img src=\"https://colab.research.google.com/assets/colab-badge.svg\" alt=\"Open In Colab\"/></a>"
      ]
    },
    {
      "cell_type": "markdown",
      "source": [
        "# import\n"
      ],
      "metadata": {
        "id": "12U1tb-KpnKH"
      }
    },
    {
      "cell_type": "code",
      "execution_count": 93,
      "metadata": {
        "id": "ZZcd_XwBpNOo"
      },
      "outputs": [],
      "source": [
        "import pandas as pd\n",
        "import numpy as np\n",
        "\n",
        "import matplotlib.pyplot as plt\n",
        "import seaborn as sns\n",
        "\n",
        "from sklearn.preprocessing import LabelEncoder\n",
        "\n",
        "from sklearn.model_selection import train_test_split\n",
        "from sklearn.tree import DecisionTreeClassifier\n",
        "from sklearn.ensemble import RandomForestClassifier\n",
        "from sklearn.metrics import accuracy_score\n",
        "from sklearn.linear_model import LogisticRegression\n",
        "from sklearn.model_selection import KFold\n",
        "from sklearn.model_selection import cross_val_score\n",
        "from sklearn.model_selection import GridSearchCV\n"
      ]
    },
    {
      "cell_type": "markdown",
      "source": [
        "# 자 들가자\n",
        "\n",
        "---\n",
        "\n"
      ],
      "metadata": {
        "id": "S9Y0QaDEptfG"
      }
    },
    {
      "cell_type": "code",
      "source": [
        "df=pd.read_csv('titanic.csv')"
      ],
      "metadata": {
        "id": "NpwEfPJqpsqS"
      },
      "execution_count": null,
      "outputs": []
    },
    {
      "cell_type": "markdown",
      "source": [
        "# null 값 대체"
      ],
      "metadata": {
        "id": "ANbIqG2Fb2Ur"
      }
    },
    {
      "cell_type": "code",
      "source": [
        "df['Age'].fillna(df['Age'].mean(),inplace=True)\n",
        "df['Cabin'].fillna('N',inplace=True)\n",
        "df['Embarked'].fillna('N',inplace=True)\n",
        "df.isnull().sum()\n"
      ],
      "metadata": {
        "id": "qndAYRUIp9d6",
        "colab": {
          "base_uri": "https://localhost:8080/"
        },
        "outputId": "5c638f6f-6ab0-466f-c565-925e6f53ce7d"
      },
      "execution_count": null,
      "outputs": [
        {
          "output_type": "execute_result",
          "data": {
            "text/plain": [
              "PassengerId    0\n",
              "Survived       0\n",
              "Pclass         0\n",
              "Name           0\n",
              "Sex            0\n",
              "Age            0\n",
              "SibSp          0\n",
              "Parch          0\n",
              "Ticket         0\n",
              "Fare           0\n",
              "Cabin          0\n",
              "Embarked       0\n",
              "dtype: int64"
            ]
          },
          "metadata": {},
          "execution_count": 34
        }
      ]
    },
    {
      "cell_type": "markdown",
      "source": [
        "# 문자형 데이터 -> 숫자형 데이터로 변환"
      ],
      "metadata": {
        "id": "sv8_4ta-bn1_"
      }
    },
    {
      "cell_type": "code",
      "source": [
        "df['Cabin'].value_counts()"
      ],
      "metadata": {
        "id": "pJftKJNAa0Ej"
      },
      "execution_count": null,
      "outputs": []
    },
    {
      "cell_type": "code",
      "source": [
        "df['Embarked'].value_counts()"
      ],
      "metadata": {
        "id": "eqiLAn7Xb_Jc"
      },
      "execution_count": null,
      "outputs": []
    },
    {
      "cell_type": "code",
      "source": [
        "g=df.groupby(['Sex','Survived'])\n",
        "g['Survived'].count()"
      ],
      "metadata": {
        "colab": {
          "base_uri": "https://localhost:8080/"
        },
        "id": "4T1NCTbpcDeP",
        "outputId": "65cbe875-6bb5-41e6-821e-31418f4eae28"
      },
      "execution_count": null,
      "outputs": [
        {
          "output_type": "execute_result",
          "data": {
            "text/plain": [
              "Sex     Survived\n",
              "female  0            81\n",
              "        1           233\n",
              "male    0           468\n",
              "        1           109\n",
              "Name: Survived, dtype: int64"
            ]
          },
          "metadata": {},
          "execution_count": 35
        }
      ]
    },
    {
      "cell_type": "code",
      "source": [
        "plt.figure(figsize=(4,3))\n",
        "ax = plt.gca()\n",
        "sns.barplot(x='Sex',y='Survived',data=df,ax=ax)\n",
        "plt.show()\n"
      ],
      "metadata": {
        "colab": {
          "base_uri": "https://localhost:8080/",
          "height": 311
        },
        "id": "xou2R4_KcMSy",
        "outputId": "1eaf7f56-d5c6-4b6b-f1fe-23ac34b6c518"
      },
      "execution_count": null,
      "outputs": [
        {
          "output_type": "display_data",
          "data": {
            "text/plain": [
              "<Figure size 400x300 with 1 Axes>"
            ],
            "image/png": "[encoded data removed]"
          },
          "metadata": {}
        }
      ]
    },
    {
      "cell_type": "code",
      "source": [
        "plt.figure(figsize=(4,3))\n",
        "ax = plt.gca()\n",
        "sns.barplot(x='Pclass',y='Survived',hue='Sex',data=df,ax=ax)\n",
        "plt.show()\n"
      ],
      "metadata": {
        "colab": {
          "base_uri": "https://localhost:8080/",
          "height": 311
        },
        "id": "YnNmJSqndXH2",
        "outputId": "c0e1c158-1531-4917-8b82-5819edfdbaa8"
      },
      "execution_count": null,
      "outputs": [
        {
          "output_type": "display_data",
          "data": {
            "text/plain": [
              "<Figure size 400x300 with 1 Axes>"
            ],
            "image/png": "[encoded data removed]"
          },
          "metadata": {}
        }
      ]
    },
    {
      "cell_type": "code",
      "source": [
        "#age 값 종류가 많음 -> 범위별 분류해 카테고리값 할당\n",
        "def get_age_category(age):\n",
        "  cate=''\n",
        "  if age<0: cate = 'Unknown'\n",
        "  elif age<=5: cate = 'B'\n",
        "  elif age<=12: cate = 'C'\n",
        "  elif age<=18: cate = 'T'\n",
        "  elif age<=25: cate = 'S'\n",
        "  elif age<=35: cate = 'Y'\n",
        "  elif age<=60: cate = 'A'\n",
        "  else: cate = 'E'\n",
        "  return cate\n",
        "\n"
      ],
      "metadata": {
        "id": "LenuPnuUgN6Q"
      },
      "execution_count": null,
      "outputs": []
    },
    {
      "cell_type": "code",
      "source": [
        "df['Age']=df['Age'].apply(lambda x:get_age_category(x))\n",
        "df['Age'].value_counts()"
      ],
      "metadata": {
        "colab": {
          "base_uri": "https://localhost:8080/"
        },
        "id": "-youXLlOnKRD",
        "outputId": "7ede834c-9d7f-43a6-dd97-1babcd8280b8"
      },
      "execution_count": null,
      "outputs": [
        {
          "output_type": "execute_result",
          "data": {
            "text/plain": [
              "Y    373\n",
              "A    195\n",
              "S    162\n",
              "T     70\n",
              "B     44\n",
              "C     25\n",
              "E     22\n",
              "Name: Age, dtype: int64"
            ]
          },
          "metadata": {},
          "execution_count": 39
        }
      ]
    },
    {
      "cell_type": "code",
      "source": [
        "plt.figure(figsize=(4,3))\n",
        "ax = plt.gca()\n",
        "sns.barplot(x='Age',y='Survived',hue='Sex',data=df,ax=ax)\n",
        "plt.ylim(0,1.4)\n",
        "plt.show()"
      ],
      "metadata": {
        "colab": {
          "base_uri": "https://localhost:8080/",
          "height": 316
        },
        "id": "y5LXO_Z6n3vq",
        "outputId": "0a48834d-2ded-4676-c442-4dfab494b99b"
      },
      "execution_count": null,
      "outputs": [
        {
          "output_type": "display_data",
          "data": {
            "text/plain": [
              "<Figure size 400x300 with 1 Axes>"
            ],
            "image/png": "[encoded data removed]"
          },
          "metadata": {}
        }
      ]
    },
    {
      "cell_type": "code",
      "source": [
        "#범주형 데이터를 수치형 데이터로\n",
        "def encode_features(df,columns):\n",
        "    for column in columns:\n",
        "        le = LabelEncoder()\n",
        "        le.fit(df[column])\n",
        "        df[column] = le.transform(df[column])\n",
        "    return df\n"
      ],
      "metadata": {
        "id": "j-4ve4g2oQZ0"
      },
      "execution_count": null,
      "outputs": []
    },
    {
      "cell_type": "code",
      "source": [
        "df = encode_features(df,['Cabin','Sex','Embarked','Age'])\n",
        "df.info()\n"
      ],
      "metadata": {
        "colab": {
          "base_uri": "https://localhost:8080/"
        },
        "id": "FEMH5qE_qpV0",
        "outputId": "81f92ed6-c0f0-484f-bcfa-5d6179e0f00c"
      },
      "execution_count": null,
      "outputs": [
        {
          "output_type": "stream",
          "name": "stdout",
          "text": [
            "<class 'pandas.core.frame.DataFrame'>\n",
            "RangeIndex: 891 entries, 0 to 890\n",
            "Data columns (total 12 columns):\n",
            " #   Column       Non-Null Count  Dtype  \n",
            "---  ------       --------------  -----  \n",
            " 0   PassengerId  891 non-null    int64  \n",
            " 1   Survived     891 non-null    int64  \n",
            " 2   Pclass       891 non-null    int64  \n",
            " 3   Name         891 non-null    object \n",
            " 4   Sex          891 non-null    int64  \n",
            " 5   Age          891 non-null    int64  \n",
            " 6   SibSp        891 non-null    int64  \n",
            " 7   Parch        891 non-null    int64  \n",
            " 8   Ticket       891 non-null    object \n",
            " 9   Fare         891 non-null    float64\n",
            " 10  Cabin        891 non-null    int64  \n",
            " 11  Embarked     891 non-null    int64  \n",
            "dtypes: float64(1), int64(9), object(2)\n",
            "memory usage: 83.7+ KB\n"
          ]
        }
      ]
    },
    {
      "cell_type": "code",
      "source": [
        "names_values=['Mr', 'Mrs', 'Miss', 'Master', 'Dr', 'ETC']\n",
        "\n",
        "def get_name_index(name):\n",
        "    first, second = name.split(',')\n",
        "    foos = second.split('.')\n",
        "    tn = foos[0].replace(' ','')\n",
        "    for index in range(5):\n",
        "        if tn == names_values[index]:\n",
        "            return index\n",
        "    return 5\n",
        "\n"
      ],
      "metadata": {
        "id": "t2D3rPlEq8Y_"
      },
      "execution_count": 50,
      "outputs": []
    },
    {
      "cell_type": "code",
      "source": [
        "df['Name']=df['Name'].apply(lambda x:get_name_index(x))\n",
        "df['Name'].value_counts()\n"
      ],
      "metadata": {
        "colab": {
          "base_uri": "https://localhost:8080/"
        },
        "id": "L5b7CJFlygIk",
        "outputId": "206e7b05-beee-4a71-8cb4-ccf103ef1ba9"
      },
      "execution_count": 52,
      "outputs": [
        {
          "output_type": "execute_result",
          "data": {
            "text/plain": [
              "0    517\n",
              "2    182\n",
              "1    125\n",
              "3     40\n",
              "5     20\n",
              "4      7\n",
              "Name: Name, dtype: int64"
            ]
          },
          "metadata": {},
          "execution_count": 52
        }
      ]
    },
    {
      "cell_type": "code",
      "source": [
        "df.corr()"
      ],
      "metadata": {
        "colab": {
          "base_uri": "https://localhost:8080/",
          "height": 435
        },
        "id": "rDbGv2oRzMQr",
        "outputId": "47b3b984-2ca8-401a-904f-d42d4a4d1fb8"
      },
      "execution_count": 54,
      "outputs": [
        {
          "output_type": "stream",
          "name": "stderr",
          "text": [
            "<ipython-input-54-2f6f6606aa2c>:1: FutureWarning: The default value of numeric_only in DataFrame.corr is deprecated. In a future version, it will default to False. Select only valid columns or specify the value of numeric_only to silence this warning.\n",
            "  df.corr()\n"
          ]
        },
        {
          "output_type": "execute_result",
          "data": {
            "text/plain": [
              "             PassengerId  Survived    Pclass      Name       Sex       Age  \\\n",
              "PassengerId     1.000000 -0.005007 -0.035144 -0.013084  0.042939 -0.015596   \n",
              "Survived       -0.005007  1.000000 -0.338481  0.387512 -0.543351 -0.060861   \n",
              "Pclass         -0.035144 -0.338481  1.000000 -0.144292  0.131900  0.244182   \n",
              "Name           -0.013084  0.387512 -0.144292  1.000000 -0.529582 -0.186745   \n",
              "Sex             0.042939 -0.543351  0.131900 -0.529582  1.000000  0.033941   \n",
              "Age            -0.015596 -0.060861  0.244182 -0.186745  0.033941  1.000000   \n",
              "SibSp          -0.057527 -0.035322  0.083081  0.238506 -0.114631 -0.070245   \n",
              "Parch          -0.001652  0.081629  0.018443  0.235903 -0.245489 -0.237680   \n",
              "Fare            0.012658  0.257307 -0.549500  0.134482 -0.182333 -0.127453   \n",
              "Cabin          -0.035197 -0.253658  0.682176 -0.135746  0.095991  0.184450   \n",
              "Embarked        0.009305 -0.174963  0.197493 -0.088219  0.106395 -0.025683   \n",
              "CN             -0.013084  0.387512 -0.144292  1.000000 -0.529582 -0.186745   \n",
              "\n",
              "                SibSp     Parch      Fare     Cabin  Embarked        CN  \n",
              "PassengerId -0.057527 -0.001652  0.012658 -0.035197  0.009305 -0.013084  \n",
              "Survived    -0.035322  0.081629  0.257307 -0.253658 -0.174963  0.387512  \n",
              "Pclass       0.083081  0.018443 -0.549500  0.682176  0.197493 -0.144292  \n",
              "Name         0.238506  0.235903  0.134482 -0.135746 -0.088219  1.000000  \n",
              "Sex         -0.114631 -0.245489 -0.182333  0.095991  0.106395 -0.529582  \n",
              "Age         -0.070245 -0.237680 -0.127453  0.184450 -0.025683 -0.186745  \n",
              "SibSp        1.000000  0.414838  0.159651  0.043525  0.068043  0.238506  \n",
              "Parch        0.414838  1.000000  0.216225 -0.028179  0.032517  0.235903  \n",
              "Fare         0.159651  0.216225  1.000000 -0.502569 -0.246359  0.134482  \n",
              "Cabin        0.043525 -0.028179 -0.502569  1.000000  0.232192 -0.135746  \n",
              "Embarked     0.068043  0.032517 -0.246359  0.232192  1.000000 -0.088219  \n",
              "CN           0.238506  0.235903  0.134482 -0.135746 -0.088219  1.000000  "
            ],
            "text/html": [
              "\n",
              "  <div id=\"df-acb6c26b-c600-4d2e-ac7e-225538ed7e34\">\n",
              "    <div class=\"colab-df-container\">\n",
              "      <div>\n",
              "<style scoped>\n",
              "    .dataframe tbody tr th:only-of-type {\n",
              "        vertical-align: middle;\n",
              "    }\n",
              "\n",
              "    .dataframe tbody tr th {\n",
              "        vertical-align: top;\n",
              "    }\n",
              "\n",
              "    .dataframe thead th {\n",
              "        text-align: right;\n",
              "    }\n",
              "</style>\n",
              "<table border=\"1\" class=\"dataframe\">\n",
              "  <thead>\n",
              "    <tr style=\"text-align: right;\">\n",
              "      <th></th>\n",
              "      <th>PassengerId</th>\n",
              "      <th>Survived</th>\n",
              "      <th>Pclass</th>\n",
              "      <th>Name</th>\n",
              "      <th>Sex</th>\n",
              "      <th>Age</th>\n",
              "      <th>SibSp</th>\n",
              "      <th>Parch</th>\n",
              "      <th>Fare</th>\n",
              "      <th>Cabin</th>\n",
              "      <th>Embarked</th>\n",
              "      <th>CN</th>\n",
              "    </tr>\n",
              "  </thead>\n",
              "  <tbody>\n",
              "    <tr>\n",
              "      <th>PassengerId</th>\n",
              "      <td>1.000000</td>\n",
              "      <td>-0.005007</td>\n",
              "      <td>-0.035144</td>\n",
              "      <td>-0.013084</td>\n",
              "      <td>0.042939</td>\n",
              "      <td>-0.015596</td>\n",
              "      <td>-0.057527</td>\n",
              "      <td>-0.001652</td>\n",
              "      <td>0.012658</td>\n",
              "      <td>-0.035197</td>\n",
              "      <td>0.009305</td>\n",
              "      <td>-0.013084</td>\n",
              "    </tr>\n",
              "    <tr>\n",
              "      <th>Survived</th>\n",
              "      <td>-0.005007</td>\n",
              "      <td>1.000000</td>\n",
              "      <td>-0.338481</td>\n",
              "      <td>0.387512</td>\n",
              "      <td>-0.543351</td>\n",
              "      <td>-0.060861</td>\n",
              "      <td>-0.035322</td>\n",
              "      <td>0.081629</td>\n",
              "      <td>0.257307</td>\n",
              "      <td>-0.253658</td>\n",
              "      <td>-0.174963</td>\n",
              "      <td>0.387512</td>\n",
              "    </tr>\n",
              "    <tr>\n",
              "      <th>Pclass</th>\n",
              "      <td>-0.035144</td>\n",
              "      <td>-0.338481</td>\n",
              "      <td>1.000000</td>\n",
              "      <td>-0.144292</td>\n",
              "      <td>0.131900</td>\n",
              "      <td>0.244182</td>\n",
              "      <td>0.083081</td>\n",
              "      <td>0.018443</td>\n",
              "      <td>-0.549500</td>\n",
              "      <td>0.682176</td>\n",
              "      <td>0.197493</td>\n",
              "      <td>-0.144292</td>\n",
              "    </tr>\n",
              "    <tr>\n",
              "      <th>Name</th>\n",
              "      <td>-0.013084</td>\n",
              "      <td>0.387512</td>\n",
              "      <td>-0.144292</td>\n",
              "      <td>1.000000</td>\n",
              "      <td>-0.529582</td>\n",
              "      <td>-0.186745</td>\n",
              "      <td>0.238506</td>\n",
              "      <td>0.235903</td>\n",
              "      <td>0.134482</td>\n",
              "      <td>-0.135746</td>\n",
              "      <td>-0.088219</td>\n",
              "      <td>1.000000</td>\n",
              "    </tr>\n",
              "    <tr>\n",
              "      <th>Sex</th>\n",
              "      <td>0.042939</td>\n",
              "      <td>-0.543351</td>\n",
              "      <td>0.131900</td>\n",
              "      <td>-0.529582</td>\n",
              "      <td>1.000000</td>\n",
              "      <td>0.033941</td>\n",
              "      <td>-0.114631</td>\n",
              "      <td>-0.245489</td>\n",
              "      <td>-0.182333</td>\n",
              "      <td>0.095991</td>\n",
              "      <td>0.106395</td>\n",
              "      <td>-0.529582</td>\n",
              "    </tr>\n",
              "    <tr>\n",
              "      <th>Age</th>\n",
              "      <td>-0.015596</td>\n",
              "      <td>-0.060861</td>\n",
              "      <td>0.244182</td>\n",
              "      <td>-0.186745</td>\n",
              "      <td>0.033941</td>\n",
              "      <td>1.000000</td>\n",
              "      <td>-0.070245</td>\n",
              "      <td>-0.237680</td>\n",
              "      <td>-0.127453</td>\n",
              "      <td>0.184450</td>\n",
              "      <td>-0.025683</td>\n",
              "      <td>-0.186745</td>\n",
              "    </tr>\n",
              "    <tr>\n",
              "      <th>SibSp</th>\n",
              "      <td>-0.057527</td>\n",
              "      <td>-0.035322</td>\n",
              "      <td>0.083081</td>\n",
              "      <td>0.238506</td>\n",
              "      <td>-0.114631</td>\n",
              "      <td>-0.070245</td>\n",
              "      <td>1.000000</td>\n",
              "      <td>0.414838</td>\n",
              "      <td>0.159651</td>\n",
              "      <td>0.043525</td>\n",
              "      <td>0.068043</td>\n",
              "      <td>0.238506</td>\n",
              "    </tr>\n",
              "    <tr>\n",
              "      <th>Parch</th>\n",
              "      <td>-0.001652</td>\n",
              "      <td>0.081629</td>\n",
              "      <td>0.018443</td>\n",
              "      <td>0.235903</td>\n",
              "      <td>-0.245489</td>\n",
              "      <td>-0.237680</td>\n",
              "      <td>0.414838</td>\n",
              "      <td>1.000000</td>\n",
              "      <td>0.216225</td>\n",
              "      <td>-0.028179</td>\n",
              "      <td>0.032517</td>\n",
              "      <td>0.235903</td>\n",
              "    </tr>\n",
              "    <tr>\n",
              "      <th>Fare</th>\n",
              "      <td>0.012658</td>\n",
              "      <td>0.257307</td>\n",
              "      <td>-0.549500</td>\n",
              "      <td>0.134482</td>\n",
              "      <td>-0.182333</td>\n",
              "      <td>-0.127453</td>\n",
              "      <td>0.159651</td>\n",
              "      <td>0.216225</td>\n",
              "      <td>1.000000</td>\n",
              "      <td>-0.502569</td>\n",
              "      <td>-0.246359</td>\n",
              "      <td>0.134482</td>\n",
              "    </tr>\n",
              "    <tr>\n",
              "      <th>Cabin</th>\n",
              "      <td>-0.035197</td>\n",
              "      <td>-0.253658</td>\n",
              "      <td>0.682176</td>\n",
              "      <td>-0.135746</td>\n",
              "      <td>0.095991</td>\n",
              "      <td>0.184450</td>\n",
              "      <td>0.043525</td>\n",
              "      <td>-0.028179</td>\n",
              "      <td>-0.502569</td>\n",
              "      <td>1.000000</td>\n",
              "      <td>0.232192</td>\n",
              "      <td>-0.135746</td>\n",
              "    </tr>\n",
              "    <tr>\n",
              "      <th>Embarked</th>\n",
              "      <td>0.009305</td>\n",
              "      <td>-0.174963</td>\n",
              "      <td>0.197493</td>\n",
              "      <td>-0.088219</td>\n",
              "      <td>0.106395</td>\n",
              "      <td>-0.025683</td>\n",
              "      <td>0.068043</td>\n",
              "      <td>0.032517</td>\n",
              "      <td>-0.246359</td>\n",
              "      <td>0.232192</td>\n",
              "      <td>1.000000</td>\n",
              "      <td>-0.088219</td>\n",
              "    </tr>\n",
              "    <tr>\n",
              "      <th>CN</th>\n",
              "      <td>-0.013084</td>\n",
              "      <td>0.387512</td>\n",
              "      <td>-0.144292</td>\n",
              "      <td>1.000000</td>\n",
              "      <td>-0.529582</td>\n",
              "      <td>-0.186745</td>\n",
              "      <td>0.238506</td>\n",
              "      <td>0.235903</td>\n",
              "      <td>0.134482</td>\n",
              "      <td>-0.135746</td>\n",
              "      <td>-0.088219</td>\n",
              "      <td>1.000000</td>\n",
              "    </tr>\n",
              "  </tbody>\n",
              "</table>\n",
              "</div>\n",
              "      <button class=\"colab-df-convert\" onclick=\"convertToInteractive('df-acb6c26b-c600-4d2e-ac7e-225538ed7e34')\"\n",
              "              title=\"Convert this dataframe to an interactive table.\"\n",
              "              style=\"display:none;\">\n",
              "        \n",
              "  <svg xmlns=\"http://www.w3.org/2000/svg\" height=\"24px\"viewBox=\"0 0 24 24\"\n",
              "       width=\"24px\">\n",
              "    <path d=\"M0 0h24v24H0V0z\" fill=\"none\"/>\n",
              "    <path d=\"M18.56 5.44l.94 2.06.94-2.06 2.06-.94-2.06-.94-.94-2.06-.94 2.06-2.06.94zm-11 1L8.5 8.5l.94-2.06 2.06-.94-2.06-.94L8.5 2.5l-.94 2.06-2.06.94zm10 10l.94 2.06.94-2.06 2.06-.94-2.06-.94-.94-2.06-.94 2.06-2.06.94z\"/><path d=\"M17.41 7.96l-1.37-1.37c-.4-.4-.92-.59-1.43-.59-.52 0-1.04.2-1.43.59L10.3 9.45l-7.72 7.72c-.78.78-.78 2.05 0 2.83L4 21.41c.39.39.9.59 1.41.59.51 0 1.02-.2 1.41-.59l7.78-7.78 2.81-2.81c.8-.78.8-2.07 0-2.86zM5.41 20L4 18.59l7.72-7.72 1.47 1.35L5.41 20z\"/>\n",
              "  </svg>\n",
              "      </button>\n",
              "      \n",
              "  <style>\n",
              "    .colab-df-container {\n",
              "      display:flex;\n",
              "      flex-wrap:wrap;\n",
              "      gap: 12px;\n",
              "    }\n",
              "\n",
              "    .colab-df-convert {\n",
              "      background-color: #E8F0FE;\n",
              "      border: none;\n",
              "      border-radius: 50%;\n",
              "      cursor: pointer;\n",
              "      display: none;\n",
              "      fill: #1967D2;\n",
              "      height: 32px;\n",
              "      padding: 0 0 0 0;\n",
              "      width: 32px;\n",
              "    }\n",
              "\n",
              "    .colab-df-convert:hover {\n",
              "      background-color: #E2EBFA;\n",
              "      box-shadow: 0px 1px 2px rgba(60, 64, 67, 0.3), 0px 1px 3px 1px rgba(60, 64, 67, 0.15);\n",
              "      fill: #174EA6;\n",
              "    }\n",
              "\n",
              "    [theme=dark] .colab-df-convert {\n",
              "      background-color: #3B4455;\n",
              "      fill: #D2E3FC;\n",
              "    }\n",
              "\n",
              "    [theme=dark] .colab-df-convert:hover {\n",
              "      background-color: #434B5C;\n",
              "      box-shadow: 0px 1px 3px 1px rgba(0, 0, 0, 0.15);\n",
              "      filter: drop-shadow(0px 1px 2px rgba(0, 0, 0, 0.3));\n",
              "      fill: #FFFFFF;\n",
              "    }\n",
              "  </style>\n",
              "\n",
              "      <script>\n",
              "        const buttonEl =\n",
              "          document.querySelector('#df-acb6c26b-c600-4d2e-ac7e-225538ed7e34 button.colab-df-convert');\n",
              "        buttonEl.style.display =\n",
              "          google.colab.kernel.accessAllowed ? 'block' : 'none';\n",
              "\n",
              "        async function convertToInteractive(key) {\n",
              "          const element = document.querySelector('#df-acb6c26b-c600-4d2e-ac7e-225538ed7e34');\n",
              "          const dataTable =\n",
              "            await google.colab.kernel.invokeFunction('convertToInteractive',\n",
              "                                                     [key], {});\n",
              "          if (!dataTable) return;\n",
              "\n",
              "          const docLinkHtml = 'Like what you see? Visit the ' +\n",
              "            '<a target=\"_blank\" href=https://colab.research.google.com/notebooks/data_table.ipynb>data table notebook</a>'\n",
              "            + ' to learn more about interactive tables.';\n",
              "          element.innerHTML = '';\n",
              "          dataTable['output_type'] = 'display_data';\n",
              "          await google.colab.output.renderOutput(dataTable, element);\n",
              "          const docLink = document.createElement('div');\n",
              "          docLink.innerHTML = docLinkHtml;\n",
              "          element.appendChild(docLink);\n",
              "        }\n",
              "      </script>\n",
              "    </div>\n",
              "  </div>\n",
              "  "
            ]
          },
          "metadata": {},
          "execution_count": 54
        }
      ]
    },
    {
      "cell_type": "code",
      "source": [
        "df=df.drop(['PassengerId','Ticket'],axis=1)"
      ],
      "metadata": {
        "id": "lxDa680yzytt"
      },
      "execution_count": 57,
      "outputs": []
    },
    {
      "cell_type": "code",
      "source": [
        "df.info()"
      ],
      "metadata": {
        "colab": {
          "base_uri": "https://localhost:8080/"
        },
        "id": "HCEWlP9R07am",
        "outputId": "6163ce6a-cd17-401c-b8f0-af092671c19c"
      },
      "execution_count": 58,
      "outputs": [
        {
          "output_type": "stream",
          "name": "stdout",
          "text": [
            "<class 'pandas.core.frame.DataFrame'>\n",
            "RangeIndex: 891 entries, 0 to 890\n",
            "Data columns (total 11 columns):\n",
            " #   Column    Non-Null Count  Dtype  \n",
            "---  ------    --------------  -----  \n",
            " 0   Survived  891 non-null    int64  \n",
            " 1   Pclass    891 non-null    int64  \n",
            " 2   Name      891 non-null    int64  \n",
            " 3   Sex       891 non-null    int64  \n",
            " 4   Age       891 non-null    int64  \n",
            " 5   SibSp     891 non-null    int64  \n",
            " 6   Parch     891 non-null    int64  \n",
            " 7   Fare      891 non-null    float64\n",
            " 8   Cabin     891 non-null    int64  \n",
            " 9   Embarked  891 non-null    int64  \n",
            " 10  CN        891 non-null    int64  \n",
            "dtypes: float64(1), int64(10)\n",
            "memory usage: 76.7 KB\n"
          ]
        }
      ]
    },
    {
      "cell_type": "markdown",
      "source": [
        "# 가즈아\n"
      ],
      "metadata": {
        "id": "iEs_Z6dZ1x8F"
      }
    },
    {
      "cell_type": "code",
      "source": [
        "x_train, x_test, y_train, y_test = train_test_split(df.drop('Survived',axis=1),df['Survived'])\n",
        "\n",
        "model= DecisionTreeClassifier()\n",
        "model.fit(x_train,y_train)\n",
        "pred=model.predict(x_test)\n",
        "print(\"accuracy: \",accuracy_score(y_test,pred))"
      ],
      "metadata": {
        "colab": {
          "base_uri": "https://localhost:8080/"
        },
        "id": "5j5CHeao1L74",
        "outputId": "a4ee49c9-7855-4def-9c52-e56507b60eb4"
      },
      "execution_count": 76,
      "outputs": [
        {
          "output_type": "stream",
          "name": "stdout",
          "text": [
            "accuracy:  0.8161434977578476\n"
          ]
        }
      ]
    },
    {
      "cell_type": "code",
      "source": [
        "model= RandomForestClassifier()\n",
        "model.fit(x_train,y_train)\n",
        "pred=model.predict(x_test)\n",
        "print(\"accuracy: \",accuracy_score(y_test,pred))"
      ],
      "metadata": {
        "colab": {
          "base_uri": "https://localhost:8080/"
        },
        "id": "B82xjdnT3g3h",
        "outputId": "209dc5cf-3848-4cbe-de28-b721a13fa998"
      },
      "execution_count": 77,
      "outputs": [
        {
          "output_type": "stream",
          "name": "stdout",
          "text": [
            "accuracy:  0.8116591928251121\n"
          ]
        }
      ]
    },
    {
      "cell_type": "code",
      "source": [
        "model=LogisticRegression()\n",
        "model.fit(x_train,y_train)\n",
        "pred=model.predict(x_test)\n",
        "print(\"accuracy: \",accuracy_score(y_test,pred))"
      ],
      "metadata": {
        "colab": {
          "base_uri": "https://localhost:8080/"
        },
        "id": "JiAh4CPk3oAx",
        "outputId": "c4903a79-611e-4379-85d8-44d3a6512459"
      },
      "execution_count": 78,
      "outputs": [
        {
          "output_type": "stream",
          "name": "stdout",
          "text": [
            "accuracy:  0.7937219730941704\n"
          ]
        },
        {
          "output_type": "stream",
          "name": "stderr",
          "text": [
            "/usr/local/lib/python3.10/dist-packages/sklearn/linear_model/_logistic.py:458: ConvergenceWarning: lbfgs failed to converge (status=1):\n",
            "STOP: TOTAL NO. of ITERATIONS REACHED LIMIT.\n",
            "\n",
            "Increase the number of iterations (max_iter) or scale the data as shown in:\n",
            "    https://scikit-learn.org/stable/modules/preprocessing.html\n",
            "Please also refer to the documentation for alternative solver options:\n",
            "    https://scikit-learn.org/stable/modules/linear_model.html#logistic-regression\n",
            "  n_iter_i = _check_optimize_result(\n"
          ]
        }
      ]
    },
    {
      "cell_type": "code",
      "source": [
        "def exec_kfold(model,data,label,folds=5):\n",
        "  print(\"\\n\",model.__class__.__name__)\n",
        "  kfold = KFold(n_splits=folds)\n",
        "  sm=[]\n",
        "  for i, (train_index,test_index) in enumerate(kfold.split(df)):\n",
        "\n",
        "      x_train,x_test = data.values[train_index],data.values[test_index]\n",
        "      y_train,y_test = label.values[train_index],label.values[test_index]\n",
        "      model.fit(x_train,y_train)\n",
        "      pre = model.predict(x_test)\n",
        "      score=accuracy_score(y_test,pre)\n",
        "      sm.append(score)\n",
        "      print(f\"{i+1}번\",score)\n",
        "  mm=max(sm)-min(sm)\n",
        "  print(\"평균:\",np.mean(sm))\n",
        "  print(\"최대오차값:\",mm)\n"
      ],
      "metadata": {
        "id": "G1wBcLGS3so7"
      },
      "execution_count": 89,
      "outputs": []
    },
    {
      "cell_type": "code",
      "source": [
        "data,label=df.drop('Survived',axis=1),df['Survived']\n",
        "model1= DecisionTreeClassifier()\n",
        "exec_kfold(model1,data,label)\n",
        "\n",
        "model2= RandomForestClassifier()\n",
        "exec_kfold(model2,data,label)\n",
        "\n",
        "model3=LogisticRegression()\n",
        "exec_kfold(model3,data,label)"
      ],
      "metadata": {
        "id": "51G7RhEK5G9c"
      },
      "execution_count": null,
      "outputs": []
    },
    {
      "cell_type": "code",
      "source": [
        "data,label=df.drop('Survived',axis=1),df['Survived']\n",
        "model1= DecisionTreeClassifier()\n",
        "print(np.mean(cross_val_score(model1,data,label,cv=5)))\n",
        "\n",
        "model2= RandomForestClassifier()\n",
        "print(np.mean(cross_val_score(model2,data,label,cv=5)))\n",
        "\n",
        "model3=LogisticRegression()\n",
        "print(np.mean(cross_val_score(model3,data,label,cv=5)))\n"
      ],
      "metadata": {
        "id": "BIzMM8wU7Ns7"
      },
      "execution_count": null,
      "outputs": []
    },
    {
      "cell_type": "code",
      "source": [
        "parameters = {\n",
        "    'max_depth':[2,3,5,10],\n",
        "    'min_samples_split':[2,3,5],\n",
        "    'min_samples_leaf':[2,3,5,10,20]\n",
        "}\n",
        "model=RandomForestClassifier()\n",
        "grid_model = GridSearchCV(model,param_grid=parameters,scoring='accuracy',cv=5)\n",
        "grid_model.fit(x_train,y_train)\n",
        "\n",
        "print(\"최고 파라미터:\",grid_model.best_params_)\n",
        "print(\"최고 정확도:\",grid_model.best_score_)\n",
        "\n",
        "best_model = grid_model.best_estimator_\n",
        "pred_val = best_model.predict(x_test)\n",
        "print(\"acc:\",accuracy_score(y_test,pred_val))\n"
      ],
      "metadata": {
        "colab": {
          "base_uri": "https://localhost:8080/"
        },
        "id": "6bQV-IDlBNQU",
        "outputId": "1176fa86-84f0-4a4d-94a8-3e04267e01c9"
      },
      "execution_count": 94,
      "outputs": [
        {
          "output_type": "stream",
          "name": "stdout",
          "text": [
            "최고 파라미터: {'max_depth': 5, 'min_samples_leaf': 5, 'min_samples_split': 2}\n",
            "최고 정확도: 0.812972730333296\n",
            "acc: 0.8251121076233184\n"
          ]
        }
      ]
    },
    {
      "cell_type": "code",
      "source": [],
      "metadata": {
        "id": "qvYUSgph8qdW"
      },
      "execution_count": null,
      "outputs": []
    }
  ]
}