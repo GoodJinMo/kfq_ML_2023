{
  "nbformat": 4,
  "nbformat_minor": 0,
  "metadata": {
    "colab": {
      "provenance": [],
      "collapsed_sections": [
        "c-mifjgkCZq2",
        "M8ysQ-0YEGE7",
        "qKnCM52EMWIM",
        "LJJpzAqZq5lj"
      ],
      "mount_file_id": "1aDlZjHfXEq0_Z9KYUTWTebr2tPSJpmf5",
      "authorship_tag": "ABX9TyO6Qf7RNgLkeBFc8HxrWgd5",
      "include_colab_link": true
    },
    "kernelspec": {
      "name": "python3",
      "display_name": "Python 3"
    },
    "language_info": {
      "name": "python"
    }
  },
  "cells": [
    {
      "cell_type": "markdown",
      "metadata": {
        "id": "view-in-github",
        "colab_type": "text"
      },
      "source": [
        "<a href=\"https://colab.research.google.com/github/GoodJinMo/kfq_ML_2023/blob/main/ML_%EC%95%99%EC%83%81%EB%B8%94.ipynb\" target=\"_parent\"><img src=\"https://colab.research.google.com/assets/colab-badge.svg\" alt=\"Open In Colab\"/></a>"
      ]
    },
    {
      "cell_type": "markdown",
      "source": [
        "## 앙상블\n",
        "\n",
        "---\n",
        "**Voting** - 여러 개의 분류기가 투표를 통해 최종 예측 결과 결정,\n",
        "서로 다른 알고리즘을 가진 분류기를 결합 \\\n",
        "\n",
        "**Bagging** - 여러 개의 분류기가 투표를 통해 최종 예측 결과 결정,\n",
        "각각의 분류기가 모두 같은 유형의 알고리즘 기반이지만 ,데이터 샘플링을 서로 다르게 가져가면서 학습을 수행해 보팅을 수행하는 것 \\\n",
        "ex) 랜덤 포레스트 알고리즘\n",
        "\n",
        "**boosting** - 여러 개의 분류기가 순차적으로 학습을 수행하되, 앞에서 학습한 분류기가 예측인 틀린 데이터에 대해서는 올바르게 예측할 수 있도록 다음 분류기에게는 가중치를 부여하면서 학습과 예측을 진행\n"
      ],
      "metadata": {
        "id": "c-mifjgkCZq2"
      }
    },
    {
      "cell_type": "code",
      "execution_count": 3,
      "metadata": {
        "id": "9mFSbdhMCHb4"
      },
      "outputs": [],
      "source": [
        "from sklearn.ensemble import VotingClassifier\n",
        "from sklearn.linear_model import LogisticRegression\n",
        "from sklearn.neighbors import KNeighborsClassifier\n",
        "from sklearn.datasets import load_breast_cancer\n",
        "from sklearn.model_selection import train_test_split\n",
        "from sklearn.metrics import accuracy_score\n",
        "import pandas as pd\n",
        "import numpy as np\n",
        "from sklearn.preprocessing import StandardScaler"
      ]
    },
    {
      "cell_type": "markdown",
      "source": [
        "# 보팅(Voting)\n",
        "\n",
        "---\n",
        "\n",
        " **하드 보팅** - 예측한 결괏값들 중 다수의 분류기가 결정한 예측값을 최종 보팅 결과값으로 선정\n",
        "\n",
        " **소프트 보팅** - 분류기들의 레이블 값 결정 확률을 모두 더하고 이를 평균해서 이들 중 확률이 가장 높은 레이블 값을 최종 보팅 결괏값으로 선정\n",
        "\n",
        "*일반적으로 소프트 보팅이 보팅방법으로 적용*"
      ],
      "metadata": {
        "id": "M8ysQ-0YEGE7"
      }
    },
    {
      "cell_type": "code",
      "source": [
        "cancer = load_breast_cancer()\n",
        "df = pd.DataFrame(cancer.data, columns = cancer.feature_names)\n",
        "df.head(3)\n"
      ],
      "metadata": {
        "colab": {
          "base_uri": "https://localhost:8080/",
          "height": 0
        },
        "id": "lTfUi04XEzFX",
        "outputId": "df345502-cfee-42a7-c976-bbc9ed8a190d"
      },
      "execution_count": 55,
      "outputs": [
        {
          "output_type": "execute_result",
          "data": {
            "text/plain": [
              "   mean radius  mean texture  mean perimeter  mean area  mean smoothness  \\\n",
              "0        17.99         10.38           122.8     1001.0          0.11840   \n",
              "1        20.57         17.77           132.9     1326.0          0.08474   \n",
              "2        19.69         21.25           130.0     1203.0          0.10960   \n",
              "\n",
              "   mean compactness  mean concavity  mean concave points  mean symmetry  \\\n",
              "0           0.27760          0.3001              0.14710         0.2419   \n",
              "1           0.07864          0.0869              0.07017         0.1812   \n",
              "2           0.15990          0.1974              0.12790         0.2069   \n",
              "\n",
              "   mean fractal dimension  ...  worst radius  worst texture  worst perimeter  \\\n",
              "0                 0.07871  ...         25.38          17.33            184.6   \n",
              "1                 0.05667  ...         24.99          23.41            158.8   \n",
              "2                 0.05999  ...         23.57          25.53            152.5   \n",
              "\n",
              "   worst area  worst smoothness  worst compactness  worst concavity  \\\n",
              "0      2019.0            0.1622             0.6656           0.7119   \n",
              "1      1956.0            0.1238             0.1866           0.2416   \n",
              "2      1709.0            0.1444             0.4245           0.4504   \n",
              "\n",
              "   worst concave points  worst symmetry  worst fractal dimension  \n",
              "0                0.2654          0.4601                  0.11890  \n",
              "1                0.1860          0.2750                  0.08902  \n",
              "2                0.2430          0.3613                  0.08758  \n",
              "\n",
              "[3 rows x 30 columns]"
            ],
            "text/html": [
              "\n",
              "  <div id=\"df-84c426eb-e7f9-44b6-b713-8e037637cf8f\">\n",
              "    <div class=\"colab-df-container\">\n",
              "      <div>\n",
              "<style scoped>\n",
              "    .dataframe tbody tr th:only-of-type {\n",
              "        vertical-align: middle;\n",
              "    }\n",
              "\n",
              "    .dataframe tbody tr th {\n",
              "        vertical-align: top;\n",
              "    }\n",
              "\n",
              "    .dataframe thead th {\n",
              "        text-align: right;\n",
              "    }\n",
              "</style>\n",
              "<table border=\"1\" class=\"dataframe\">\n",
              "  <thead>\n",
              "    <tr style=\"text-align: right;\">\n",
              "      <th></th>\n",
              "      <th>mean radius</th>\n",
              "      <th>mean texture</th>\n",
              "      <th>mean perimeter</th>\n",
              "      <th>mean area</th>\n",
              "      <th>mean smoothness</th>\n",
              "      <th>mean compactness</th>\n",
              "      <th>mean concavity</th>\n",
              "      <th>mean concave points</th>\n",
              "      <th>mean symmetry</th>\n",
              "      <th>mean fractal dimension</th>\n",
              "      <th>...</th>\n",
              "      <th>worst radius</th>\n",
              "      <th>worst texture</th>\n",
              "      <th>worst perimeter</th>\n",
              "      <th>worst area</th>\n",
              "      <th>worst smoothness</th>\n",
              "      <th>worst compactness</th>\n",
              "      <th>worst concavity</th>\n",
              "      <th>worst concave points</th>\n",
              "      <th>worst symmetry</th>\n",
              "      <th>worst fractal dimension</th>\n",
              "    </tr>\n",
              "  </thead>\n",
              "  <tbody>\n",
              "    <tr>\n",
              "      <th>0</th>\n",
              "      <td>17.99</td>\n",
              "      <td>10.38</td>\n",
              "      <td>122.8</td>\n",
              "      <td>1001.0</td>\n",
              "      <td>0.11840</td>\n",
              "      <td>0.27760</td>\n",
              "      <td>0.3001</td>\n",
              "      <td>0.14710</td>\n",
              "      <td>0.2419</td>\n",
              "      <td>0.07871</td>\n",
              "      <td>...</td>\n",
              "      <td>25.38</td>\n",
              "      <td>17.33</td>\n",
              "      <td>184.6</td>\n",
              "      <td>2019.0</td>\n",
              "      <td>0.1622</td>\n",
              "      <td>0.6656</td>\n",
              "      <td>0.7119</td>\n",
              "      <td>0.2654</td>\n",
              "      <td>0.4601</td>\n",
              "      <td>0.11890</td>\n",
              "    </tr>\n",
              "    <tr>\n",
              "      <th>1</th>\n",
              "      <td>20.57</td>\n",
              "      <td>17.77</td>\n",
              "      <td>132.9</td>\n",
              "      <td>1326.0</td>\n",
              "      <td>0.08474</td>\n",
              "      <td>0.07864</td>\n",
              "      <td>0.0869</td>\n",
              "      <td>0.07017</td>\n",
              "      <td>0.1812</td>\n",
              "      <td>0.05667</td>\n",
              "      <td>...</td>\n",
              "      <td>24.99</td>\n",
              "      <td>23.41</td>\n",
              "      <td>158.8</td>\n",
              "      <td>1956.0</td>\n",
              "      <td>0.1238</td>\n",
              "      <td>0.1866</td>\n",
              "      <td>0.2416</td>\n",
              "      <td>0.1860</td>\n",
              "      <td>0.2750</td>\n",
              "      <td>0.08902</td>\n",
              "    </tr>\n",
              "    <tr>\n",
              "      <th>2</th>\n",
              "      <td>19.69</td>\n",
              "      <td>21.25</td>\n",
              "      <td>130.0</td>\n",
              "      <td>1203.0</td>\n",
              "      <td>0.10960</td>\n",
              "      <td>0.15990</td>\n",
              "      <td>0.1974</td>\n",
              "      <td>0.12790</td>\n",
              "      <td>0.2069</td>\n",
              "      <td>0.05999</td>\n",
              "      <td>...</td>\n",
              "      <td>23.57</td>\n",
              "      <td>25.53</td>\n",
              "      <td>152.5</td>\n",
              "      <td>1709.0</td>\n",
              "      <td>0.1444</td>\n",
              "      <td>0.4245</td>\n",
              "      <td>0.4504</td>\n",
              "      <td>0.2430</td>\n",
              "      <td>0.3613</td>\n",
              "      <td>0.08758</td>\n",
              "    </tr>\n",
              "  </tbody>\n",
              "</table>\n",
              "<p>3 rows × 30 columns</p>\n",
              "</div>\n",
              "      <button class=\"colab-df-convert\" onclick=\"convertToInteractive('df-84c426eb-e7f9-44b6-b713-8e037637cf8f')\"\n",
              "              title=\"Convert this dataframe to an interactive table.\"\n",
              "              style=\"display:none;\">\n",
              "        \n",
              "  <svg xmlns=\"http://www.w3.org/2000/svg\" height=\"24px\"viewBox=\"0 0 24 24\"\n",
              "       width=\"24px\">\n",
              "    <path d=\"M0 0h24v24H0V0z\" fill=\"none\"/>\n",
              "    <path d=\"M18.56 5.44l.94 2.06.94-2.06 2.06-.94-2.06-.94-.94-2.06-.94 2.06-2.06.94zm-11 1L8.5 8.5l.94-2.06 2.06-.94-2.06-.94L8.5 2.5l-.94 2.06-2.06.94zm10 10l.94 2.06.94-2.06 2.06-.94-2.06-.94-.94-2.06-.94 2.06-2.06.94z\"/><path d=\"M17.41 7.96l-1.37-1.37c-.4-.4-.92-.59-1.43-.59-.52 0-1.04.2-1.43.59L10.3 9.45l-7.72 7.72c-.78.78-.78 2.05 0 2.83L4 21.41c.39.39.9.59 1.41.59.51 0 1.02-.2 1.41-.59l7.78-7.78 2.81-2.81c.8-.78.8-2.07 0-2.86zM5.41 20L4 18.59l7.72-7.72 1.47 1.35L5.41 20z\"/>\n",
              "  </svg>\n",
              "      </button>\n",
              "      \n",
              "  <style>\n",
              "    .colab-df-container {\n",
              "      display:flex;\n",
              "      flex-wrap:wrap;\n",
              "      gap: 12px;\n",
              "    }\n",
              "\n",
              "    .colab-df-convert {\n",
              "      background-color: #E8F0FE;\n",
              "      border: none;\n",
              "      border-radius: 50%;\n",
              "      cursor: pointer;\n",
              "      display: none;\n",
              "      fill: #1967D2;\n",
              "      height: 32px;\n",
              "      padding: 0 0 0 0;\n",
              "      width: 32px;\n",
              "    }\n",
              "\n",
              "    .colab-df-convert:hover {\n",
              "      background-color: #E2EBFA;\n",
              "      box-shadow: 0px 1px 2px rgba(60, 64, 67, 0.3), 0px 1px 3px 1px rgba(60, 64, 67, 0.15);\n",
              "      fill: #174EA6;\n",
              "    }\n",
              "\n",
              "    [theme=dark] .colab-df-convert {\n",
              "      background-color: #3B4455;\n",
              "      fill: #D2E3FC;\n",
              "    }\n",
              "\n",
              "    [theme=dark] .colab-df-convert:hover {\n",
              "      background-color: #434B5C;\n",
              "      box-shadow: 0px 1px 3px 1px rgba(0, 0, 0, 0.15);\n",
              "      filter: drop-shadow(0px 1px 2px rgba(0, 0, 0, 0.3));\n",
              "      fill: #FFFFFF;\n",
              "    }\n",
              "  </style>\n",
              "\n",
              "      <script>\n",
              "        const buttonEl =\n",
              "          document.querySelector('#df-84c426eb-e7f9-44b6-b713-8e037637cf8f button.colab-df-convert');\n",
              "        buttonEl.style.display =\n",
              "          google.colab.kernel.accessAllowed ? 'block' : 'none';\n",
              "\n",
              "        async function convertToInteractive(key) {\n",
              "          const element = document.querySelector('#df-84c426eb-e7f9-44b6-b713-8e037637cf8f');\n",
              "          const dataTable =\n",
              "            await google.colab.kernel.invokeFunction('convertToInteractive',\n",
              "                                                     [key], {});\n",
              "          if (!dataTable) return;\n",
              "\n",
              "          const docLinkHtml = 'Like what you see? Visit the ' +\n",
              "            '<a target=\"_blank\" href=https://colab.research.google.com/notebooks/data_table.ipynb>data table notebook</a>'\n",
              "            + ' to learn more about interactive tables.';\n",
              "          element.innerHTML = '';\n",
              "          dataTable['output_type'] = 'display_data';\n",
              "          await google.colab.output.renderOutput(dataTable, element);\n",
              "          const docLink = document.createElement('div');\n",
              "          docLink.innerHTML = docLinkHtml;\n",
              "          element.appendChild(docLink);\n",
              "        }\n",
              "      </script>\n",
              "    </div>\n",
              "  </div>\n",
              "  "
            ]
          },
          "metadata": {},
          "execution_count": 55
        }
      ]
    },
    {
      "cell_type": "code",
      "source": [
        "df.info()"
      ],
      "metadata": {
        "colab": {
          "base_uri": "https://localhost:8080/"
        },
        "id": "vYu0ALEqFszP",
        "outputId": "a0662f7e-5a03-4474-9e48-c807837b0448"
      },
      "execution_count": 56,
      "outputs": [
        {
          "output_type": "stream",
          "name": "stdout",
          "text": [
            "<class 'pandas.core.frame.DataFrame'>\n",
            "RangeIndex: 569 entries, 0 to 568\n",
            "Data columns (total 30 columns):\n",
            " #   Column                   Non-Null Count  Dtype  \n",
            "---  ------                   --------------  -----  \n",
            " 0   mean radius              569 non-null    float64\n",
            " 1   mean texture             569 non-null    float64\n",
            " 2   mean perimeter           569 non-null    float64\n",
            " 3   mean area                569 non-null    float64\n",
            " 4   mean smoothness          569 non-null    float64\n",
            " 5   mean compactness         569 non-null    float64\n",
            " 6   mean concavity           569 non-null    float64\n",
            " 7   mean concave points      569 non-null    float64\n",
            " 8   mean symmetry            569 non-null    float64\n",
            " 9   mean fractal dimension   569 non-null    float64\n",
            " 10  radius error             569 non-null    float64\n",
            " 11  texture error            569 non-null    float64\n",
            " 12  perimeter error          569 non-null    float64\n",
            " 13  area error               569 non-null    float64\n",
            " 14  smoothness error         569 non-null    float64\n",
            " 15  compactness error        569 non-null    float64\n",
            " 16  concavity error          569 non-null    float64\n",
            " 17  concave points error     569 non-null    float64\n",
            " 18  symmetry error           569 non-null    float64\n",
            " 19  fractal dimension error  569 non-null    float64\n",
            " 20  worst radius             569 non-null    float64\n",
            " 21  worst texture            569 non-null    float64\n",
            " 22  worst perimeter          569 non-null    float64\n",
            " 23  worst area               569 non-null    float64\n",
            " 24  worst smoothness         569 non-null    float64\n",
            " 25  worst compactness        569 non-null    float64\n",
            " 26  worst concavity          569 non-null    float64\n",
            " 27  worst concave points     569 non-null    float64\n",
            " 28  worst symmetry           569 non-null    float64\n",
            " 29  worst fractal dimension  569 non-null    float64\n",
            "dtypes: float64(30)\n",
            "memory usage: 133.5 KB\n"
          ]
        }
      ]
    },
    {
      "cell_type": "code",
      "source": [
        "df.describe()\n"
      ],
      "metadata": {
        "colab": {
          "base_uri": "https://localhost:8080/",
          "height": 0
        },
        "id": "B7_t199iE9gB",
        "outputId": "2e97d413-b47f-4a6d-e355-46a09e37dedc"
      },
      "execution_count": 57,
      "outputs": [
        {
          "output_type": "execute_result",
          "data": {
            "text/plain": [
              "       mean radius  mean texture  mean perimeter    mean area  \\\n",
              "count   569.000000    569.000000      569.000000   569.000000   \n",
              "mean     14.127292     19.289649       91.969033   654.889104   \n",
              "std       3.524049      4.301036       24.298981   351.914129   \n",
              "min       6.981000      9.710000       43.790000   143.500000   \n",
              "25%      11.700000     16.170000       75.170000   420.300000   \n",
              "50%      13.370000     18.840000       86.240000   551.100000   \n",
              "75%      15.780000     21.800000      104.100000   782.700000   \n",
              "max      28.110000     39.280000      188.500000  2501.000000   \n",
              "\n",
              "       mean smoothness  mean compactness  mean concavity  mean concave points  \\\n",
              "count       569.000000        569.000000      569.000000           569.000000   \n",
              "mean          0.096360          0.104341        0.088799             0.048919   \n",
              "std           0.014064          0.052813        0.079720             0.038803   \n",
              "min           0.052630          0.019380        0.000000             0.000000   \n",
              "25%           0.086370          0.064920        0.029560             0.020310   \n",
              "50%           0.095870          0.092630        0.061540             0.033500   \n",
              "75%           0.105300          0.130400        0.130700             0.074000   \n",
              "max           0.163400          0.345400        0.426800             0.201200   \n",
              "\n",
              "       mean symmetry  mean fractal dimension  ...  worst radius  \\\n",
              "count     569.000000              569.000000  ...    569.000000   \n",
              "mean        0.181162                0.062798  ...     16.269190   \n",
              "std         0.027414                0.007060  ...      4.833242   \n",
              "min         0.106000                0.049960  ...      7.930000   \n",
              "25%         0.161900                0.057700  ...     13.010000   \n",
              "50%         0.179200                0.061540  ...     14.970000   \n",
              "75%         0.195700                0.066120  ...     18.790000   \n",
              "max         0.304000                0.097440  ...     36.040000   \n",
              "\n",
              "       worst texture  worst perimeter   worst area  worst smoothness  \\\n",
              "count     569.000000       569.000000   569.000000        569.000000   \n",
              "mean       25.677223       107.261213   880.583128          0.132369   \n",
              "std         6.146258        33.602542   569.356993          0.022832   \n",
              "min        12.020000        50.410000   185.200000          0.071170   \n",
              "25%        21.080000        84.110000   515.300000          0.116600   \n",
              "50%        25.410000        97.660000   686.500000          0.131300   \n",
              "75%        29.720000       125.400000  1084.000000          0.146000   \n",
              "max        49.540000       251.200000  4254.000000          0.222600   \n",
              "\n",
              "       worst compactness  worst concavity  worst concave points  \\\n",
              "count         569.000000       569.000000            569.000000   \n",
              "mean            0.254265         0.272188              0.114606   \n",
              "std             0.157336         0.208624              0.065732   \n",
              "min             0.027290         0.000000              0.000000   \n",
              "25%             0.147200         0.114500              0.064930   \n",
              "50%             0.211900         0.226700              0.099930   \n",
              "75%             0.339100         0.382900              0.161400   \n",
              "max             1.058000         1.252000              0.291000   \n",
              "\n",
              "       worst symmetry  worst fractal dimension  \n",
              "count      569.000000               569.000000  \n",
              "mean         0.290076                 0.083946  \n",
              "std          0.061867                 0.018061  \n",
              "min          0.156500                 0.055040  \n",
              "25%          0.250400                 0.071460  \n",
              "50%          0.282200                 0.080040  \n",
              "75%          0.317900                 0.092080  \n",
              "max          0.663800                 0.207500  \n",
              "\n",
              "[8 rows x 30 columns]"
            ],
            "text/html": [
              "\n",
              "  <div id=\"df-3b127013-1a0e-4203-b36b-829f579e31b7\">\n",
              "    <div class=\"colab-df-container\">\n",
              "      <div>\n",
              "<style scoped>\n",
              "    .dataframe tbody tr th:only-of-type {\n",
              "        vertical-align: middle;\n",
              "    }\n",
              "\n",
              "    .dataframe tbody tr th {\n",
              "        vertical-align: top;\n",
              "    }\n",
              "\n",
              "    .dataframe thead th {\n",
              "        text-align: right;\n",
              "    }\n",
              "</style>\n",
              "<table border=\"1\" class=\"dataframe\">\n",
              "  <thead>\n",
              "    <tr style=\"text-align: right;\">\n",
              "      <th></th>\n",
              "      <th>mean radius</th>\n",
              "      <th>mean texture</th>\n",
              "      <th>mean perimeter</th>\n",
              "      <th>mean area</th>\n",
              "      <th>mean smoothness</th>\n",
              "      <th>mean compactness</th>\n",
              "      <th>mean concavity</th>\n",
              "      <th>mean concave points</th>\n",
              "      <th>mean symmetry</th>\n",
              "      <th>mean fractal dimension</th>\n",
              "      <th>...</th>\n",
              "      <th>worst radius</th>\n",
              "      <th>worst texture</th>\n",
              "      <th>worst perimeter</th>\n",
              "      <th>worst area</th>\n",
              "      <th>worst smoothness</th>\n",
              "      <th>worst compactness</th>\n",
              "      <th>worst concavity</th>\n",
              "      <th>worst concave points</th>\n",
              "      <th>worst symmetry</th>\n",
              "      <th>worst fractal dimension</th>\n",
              "    </tr>\n",
              "  </thead>\n",
              "  <tbody>\n",
              "    <tr>\n",
              "      <th>count</th>\n",
              "      <td>569.000000</td>\n",
              "      <td>569.000000</td>\n",
              "      <td>569.000000</td>\n",
              "      <td>569.000000</td>\n",
              "      <td>569.000000</td>\n",
              "      <td>569.000000</td>\n",
              "      <td>569.000000</td>\n",
              "      <td>569.000000</td>\n",
              "      <td>569.000000</td>\n",
              "      <td>569.000000</td>\n",
              "      <td>...</td>\n",
              "      <td>569.000000</td>\n",
              "      <td>569.000000</td>\n",
              "      <td>569.000000</td>\n",
              "      <td>569.000000</td>\n",
              "      <td>569.000000</td>\n",
              "      <td>569.000000</td>\n",
              "      <td>569.000000</td>\n",
              "      <td>569.000000</td>\n",
              "      <td>569.000000</td>\n",
              "      <td>569.000000</td>\n",
              "    </tr>\n",
              "    <tr>\n",
              "      <th>mean</th>\n",
              "      <td>14.127292</td>\n",
              "      <td>19.289649</td>\n",
              "      <td>91.969033</td>\n",
              "      <td>654.889104</td>\n",
              "      <td>0.096360</td>\n",
              "      <td>0.104341</td>\n",
              "      <td>0.088799</td>\n",
              "      <td>0.048919</td>\n",
              "      <td>0.181162</td>\n",
              "      <td>0.062798</td>\n",
              "      <td>...</td>\n",
              "      <td>16.269190</td>\n",
              "      <td>25.677223</td>\n",
              "      <td>107.261213</td>\n",
              "      <td>880.583128</td>\n",
              "      <td>0.132369</td>\n",
              "      <td>0.254265</td>\n",
              "      <td>0.272188</td>\n",
              "      <td>0.114606</td>\n",
              "      <td>0.290076</td>\n",
              "      <td>0.083946</td>\n",
              "    </tr>\n",
              "    <tr>\n",
              "      <th>std</th>\n",
              "      <td>3.524049</td>\n",
              "      <td>4.301036</td>\n",
              "      <td>24.298981</td>\n",
              "      <td>351.914129</td>\n",
              "      <td>0.014064</td>\n",
              "      <td>0.052813</td>\n",
              "      <td>0.079720</td>\n",
              "      <td>0.038803</td>\n",
              "      <td>0.027414</td>\n",
              "      <td>0.007060</td>\n",
              "      <td>...</td>\n",
              "      <td>4.833242</td>\n",
              "      <td>6.146258</td>\n",
              "      <td>33.602542</td>\n",
              "      <td>569.356993</td>\n",
              "      <td>0.022832</td>\n",
              "      <td>0.157336</td>\n",
              "      <td>0.208624</td>\n",
              "      <td>0.065732</td>\n",
              "      <td>0.061867</td>\n",
              "      <td>0.018061</td>\n",
              "    </tr>\n",
              "    <tr>\n",
              "      <th>min</th>\n",
              "      <td>6.981000</td>\n",
              "      <td>9.710000</td>\n",
              "      <td>43.790000</td>\n",
              "      <td>143.500000</td>\n",
              "      <td>0.052630</td>\n",
              "      <td>0.019380</td>\n",
              "      <td>0.000000</td>\n",
              "      <td>0.000000</td>\n",
              "      <td>0.106000</td>\n",
              "      <td>0.049960</td>\n",
              "      <td>...</td>\n",
              "      <td>7.930000</td>\n",
              "      <td>12.020000</td>\n",
              "      <td>50.410000</td>\n",
              "      <td>185.200000</td>\n",
              "      <td>0.071170</td>\n",
              "      <td>0.027290</td>\n",
              "      <td>0.000000</td>\n",
              "      <td>0.000000</td>\n",
              "      <td>0.156500</td>\n",
              "      <td>0.055040</td>\n",
              "    </tr>\n",
              "    <tr>\n",
              "      <th>25%</th>\n",
              "      <td>11.700000</td>\n",
              "      <td>16.170000</td>\n",
              "      <td>75.170000</td>\n",
              "      <td>420.300000</td>\n",
              "      <td>0.086370</td>\n",
              "      <td>0.064920</td>\n",
              "      <td>0.029560</td>\n",
              "      <td>0.020310</td>\n",
              "      <td>0.161900</td>\n",
              "      <td>0.057700</td>\n",
              "      <td>...</td>\n",
              "      <td>13.010000</td>\n",
              "      <td>21.080000</td>\n",
              "      <td>84.110000</td>\n",
              "      <td>515.300000</td>\n",
              "      <td>0.116600</td>\n",
              "      <td>0.147200</td>\n",
              "      <td>0.114500</td>\n",
              "      <td>0.064930</td>\n",
              "      <td>0.250400</td>\n",
              "      <td>0.071460</td>\n",
              "    </tr>\n",
              "    <tr>\n",
              "      <th>50%</th>\n",
              "      <td>13.370000</td>\n",
              "      <td>18.840000</td>\n",
              "      <td>86.240000</td>\n",
              "      <td>551.100000</td>\n",
              "      <td>0.095870</td>\n",
              "      <td>0.092630</td>\n",
              "      <td>0.061540</td>\n",
              "      <td>0.033500</td>\n",
              "      <td>0.179200</td>\n",
              "      <td>0.061540</td>\n",
              "      <td>...</td>\n",
              "      <td>14.970000</td>\n",
              "      <td>25.410000</td>\n",
              "      <td>97.660000</td>\n",
              "      <td>686.500000</td>\n",
              "      <td>0.131300</td>\n",
              "      <td>0.211900</td>\n",
              "      <td>0.226700</td>\n",
              "      <td>0.099930</td>\n",
              "      <td>0.282200</td>\n",
              "      <td>0.080040</td>\n",
              "    </tr>\n",
              "    <tr>\n",
              "      <th>75%</th>\n",
              "      <td>15.780000</td>\n",
              "      <td>21.800000</td>\n",
              "      <td>104.100000</td>\n",
              "      <td>782.700000</td>\n",
              "      <td>0.105300</td>\n",
              "      <td>0.130400</td>\n",
              "      <td>0.130700</td>\n",
              "      <td>0.074000</td>\n",
              "      <td>0.195700</td>\n",
              "      <td>0.066120</td>\n",
              "      <td>...</td>\n",
              "      <td>18.790000</td>\n",
              "      <td>29.720000</td>\n",
              "      <td>125.400000</td>\n",
              "      <td>1084.000000</td>\n",
              "      <td>0.146000</td>\n",
              "      <td>0.339100</td>\n",
              "      <td>0.382900</td>\n",
              "      <td>0.161400</td>\n",
              "      <td>0.317900</td>\n",
              "      <td>0.092080</td>\n",
              "    </tr>\n",
              "    <tr>\n",
              "      <th>max</th>\n",
              "      <td>28.110000</td>\n",
              "      <td>39.280000</td>\n",
              "      <td>188.500000</td>\n",
              "      <td>2501.000000</td>\n",
              "      <td>0.163400</td>\n",
              "      <td>0.345400</td>\n",
              "      <td>0.426800</td>\n",
              "      <td>0.201200</td>\n",
              "      <td>0.304000</td>\n",
              "      <td>0.097440</td>\n",
              "      <td>...</td>\n",
              "      <td>36.040000</td>\n",
              "      <td>49.540000</td>\n",
              "      <td>251.200000</td>\n",
              "      <td>4254.000000</td>\n",
              "      <td>0.222600</td>\n",
              "      <td>1.058000</td>\n",
              "      <td>1.252000</td>\n",
              "      <td>0.291000</td>\n",
              "      <td>0.663800</td>\n",
              "      <td>0.207500</td>\n",
              "    </tr>\n",
              "  </tbody>\n",
              "</table>\n",
              "<p>8 rows × 30 columns</p>\n",
              "</div>\n",
              "      <button class=\"colab-df-convert\" onclick=\"convertToInteractive('df-3b127013-1a0e-4203-b36b-829f579e31b7')\"\n",
              "              title=\"Convert this dataframe to an interactive table.\"\n",
              "              style=\"display:none;\">\n",
              "        \n",
              "  <svg xmlns=\"http://www.w3.org/2000/svg\" height=\"24px\"viewBox=\"0 0 24 24\"\n",
              "       width=\"24px\">\n",
              "    <path d=\"M0 0h24v24H0V0z\" fill=\"none\"/>\n",
              "    <path d=\"M18.56 5.44l.94 2.06.94-2.06 2.06-.94-2.06-.94-.94-2.06-.94 2.06-2.06.94zm-11 1L8.5 8.5l.94-2.06 2.06-.94-2.06-.94L8.5 2.5l-.94 2.06-2.06.94zm10 10l.94 2.06.94-2.06 2.06-.94-2.06-.94-.94-2.06-.94 2.06-2.06.94z\"/><path d=\"M17.41 7.96l-1.37-1.37c-.4-.4-.92-.59-1.43-.59-.52 0-1.04.2-1.43.59L10.3 9.45l-7.72 7.72c-.78.78-.78 2.05 0 2.83L4 21.41c.39.39.9.59 1.41.59.51 0 1.02-.2 1.41-.59l7.78-7.78 2.81-2.81c.8-.78.8-2.07 0-2.86zM5.41 20L4 18.59l7.72-7.72 1.47 1.35L5.41 20z\"/>\n",
              "  </svg>\n",
              "      </button>\n",
              "      \n",
              "  <style>\n",
              "    .colab-df-container {\n",
              "      display:flex;\n",
              "      flex-wrap:wrap;\n",
              "      gap: 12px;\n",
              "    }\n",
              "\n",
              "    .colab-df-convert {\n",
              "      background-color: #E8F0FE;\n",
              "      border: none;\n",
              "      border-radius: 50%;\n",
              "      cursor: pointer;\n",
              "      display: none;\n",
              "      fill: #1967D2;\n",
              "      height: 32px;\n",
              "      padding: 0 0 0 0;\n",
              "      width: 32px;\n",
              "    }\n",
              "\n",
              "    .colab-df-convert:hover {\n",
              "      background-color: #E2EBFA;\n",
              "      box-shadow: 0px 1px 2px rgba(60, 64, 67, 0.3), 0px 1px 3px 1px rgba(60, 64, 67, 0.15);\n",
              "      fill: #174EA6;\n",
              "    }\n",
              "\n",
              "    [theme=dark] .colab-df-convert {\n",
              "      background-color: #3B4455;\n",
              "      fill: #D2E3FC;\n",
              "    }\n",
              "\n",
              "    [theme=dark] .colab-df-convert:hover {\n",
              "      background-color: #434B5C;\n",
              "      box-shadow: 0px 1px 3px 1px rgba(0, 0, 0, 0.15);\n",
              "      filter: drop-shadow(0px 1px 2px rgba(0, 0, 0, 0.3));\n",
              "      fill: #FFFFFF;\n",
              "    }\n",
              "  </style>\n",
              "\n",
              "      <script>\n",
              "        const buttonEl =\n",
              "          document.querySelector('#df-3b127013-1a0e-4203-b36b-829f579e31b7 button.colab-df-convert');\n",
              "        buttonEl.style.display =\n",
              "          google.colab.kernel.accessAllowed ? 'block' : 'none';\n",
              "\n",
              "        async function convertToInteractive(key) {\n",
              "          const element = document.querySelector('#df-3b127013-1a0e-4203-b36b-829f579e31b7');\n",
              "          const dataTable =\n",
              "            await google.colab.kernel.invokeFunction('convertToInteractive',\n",
              "                                                     [key], {});\n",
              "          if (!dataTable) return;\n",
              "\n",
              "          const docLinkHtml = 'Like what you see? Visit the ' +\n",
              "            '<a target=\"_blank\" href=https://colab.research.google.com/notebooks/data_table.ipynb>data table notebook</a>'\n",
              "            + ' to learn more about interactive tables.';\n",
              "          element.innerHTML = '';\n",
              "          dataTable['output_type'] = 'display_data';\n",
              "          await google.colab.output.renderOutput(dataTable, element);\n",
              "          const docLink = document.createElement('div');\n",
              "          docLink.innerHTML = docLinkHtml;\n",
              "          element.appendChild(docLink);\n",
              "        }\n",
              "      </script>\n",
              "    </div>\n",
              "  </div>\n",
              "  "
            ]
          },
          "metadata": {},
          "execution_count": 57
        }
      ]
    },
    {
      "cell_type": "code",
      "source": [
        "x_train, x_test, y_train, y_test = train_test_split(cancer.data, cancer.target)\n"
      ],
      "metadata": {
        "id": "nyf6n0GdFK3s"
      },
      "execution_count": 58,
      "outputs": []
    },
    {
      "cell_type": "code",
      "source": [
        "lr = LogisticRegression()\n",
        "knn = KNeighborsClassifier()\n",
        "vo = VotingClassifier(estimators=[('LR',lr),('KNN',knn)],voting='soft')"
      ],
      "metadata": {
        "id": "uAJSU-kZGKF9"
      },
      "execution_count": 59,
      "outputs": []
    },
    {
      "cell_type": "code",
      "source": [
        "vo.fit(x_train,y_train)\n",
        "pred = vo.predict(x_test)\n",
        "print(\"정확도:\",accuracy_score(y_test,pred))\n"
      ],
      "metadata": {
        "colab": {
          "base_uri": "https://localhost:8080/"
        },
        "id": "cVBa26JwGjmC",
        "outputId": "3beb118a-57b0-4c16-f3ba-156db41a179b"
      },
      "execution_count": 60,
      "outputs": [
        {
          "output_type": "stream",
          "name": "stderr",
          "text": [
            "/usr/local/lib/python3.10/dist-packages/sklearn/linear_model/_logistic.py:458: ConvergenceWarning: lbfgs failed to converge (status=1):\n",
            "STOP: TOTAL NO. of ITERATIONS REACHED LIMIT.\n",
            "\n",
            "Increase the number of iterations (max_iter) or scale the data as shown in:\n",
            "    https://scikit-learn.org/stable/modules/preprocessing.html\n",
            "Please also refer to the documentation for alternative solver options:\n",
            "    https://scikit-learn.org/stable/modules/linear_model.html#logistic-regression\n",
            "  n_iter_i = _check_optimize_result(\n"
          ]
        },
        {
          "output_type": "stream",
          "name": "stdout",
          "text": [
            "정확도: 0.958041958041958\n"
          ]
        }
      ]
    },
    {
      "cell_type": "code",
      "source": [
        "lr = LogisticRegression()\n",
        "knn = KNeighborsClassifier()\n",
        "models=[lr,knn]\n",
        "for model in models:\n",
        "  model.fit(x_train,y_train)\n",
        "  pred1 = model.predict(x_test)\n",
        "  print(model.__class__.__name__)\n",
        "  print(\"정확도:\",accuracy_score(y_test,pred1),'\\n')"
      ],
      "metadata": {
        "colab": {
          "base_uri": "https://localhost:8080/"
        },
        "id": "_J7TqISxGpzd",
        "outputId": "7fbdcef5-0113-4df3-cd8a-29e874dd5dc3"
      },
      "execution_count": 61,
      "outputs": [
        {
          "output_type": "stream",
          "name": "stdout",
          "text": [
            "LogisticRegression\n",
            "정확도: 0.951048951048951 \n",
            "\n",
            "KNeighborsClassifier\n",
            "정확도: 0.9370629370629371 \n",
            "\n"
          ]
        },
        {
          "output_type": "stream",
          "name": "stderr",
          "text": [
            "/usr/local/lib/python3.10/dist-packages/sklearn/linear_model/_logistic.py:458: ConvergenceWarning: lbfgs failed to converge (status=1):\n",
            "STOP: TOTAL NO. of ITERATIONS REACHED LIMIT.\n",
            "\n",
            "Increase the number of iterations (max_iter) or scale the data as shown in:\n",
            "    https://scikit-learn.org/stable/modules/preprocessing.html\n",
            "Please also refer to the documentation for alternative solver options:\n",
            "    https://scikit-learn.org/stable/modules/linear_model.html#logistic-regression\n",
            "  n_iter_i = _check_optimize_result(\n"
          ]
        }
      ]
    },
    {
      "cell_type": "code",
      "source": [
        "df['label']=cancer.target"
      ],
      "metadata": {
        "id": "rvVLksf1HyOx"
      },
      "execution_count": 62,
      "outputs": []
    },
    {
      "cell_type": "code",
      "source": [
        "ss = StandardScaler()\n",
        "ss.fit(cancer.data)\n",
        "scaled_data = ss.transform(cancer.data)"
      ],
      "metadata": {
        "id": "Ysk3xIW7IwDD"
      },
      "execution_count": 63,
      "outputs": []
    },
    {
      "cell_type": "code",
      "source": [
        "x_train,x_test,y_train,y_test = train_test_split(scaled_data,\n",
        "                                                 cancer.target)"
      ],
      "metadata": {
        "id": "JbwIjTu0Jeoz"
      },
      "execution_count": 64,
      "outputs": []
    },
    {
      "cell_type": "code",
      "source": [
        "lr = LogisticRegression()\n",
        "knn = KNeighborsClassifier()\n",
        "vo = VotingClassifier(estimators=[('LR',lr),('KNN',knn)],\n",
        "                      voting='soft')"
      ],
      "metadata": {
        "id": "rjZu_wjPJghi"
      },
      "execution_count": 65,
      "outputs": []
    },
    {
      "cell_type": "code",
      "source": [
        "vo.fit(x_train,y_train)\n",
        "pred =vo.predict(x_test)\n",
        "print(\"정확도:\",accuracy_score(y_test,pred))\n"
      ],
      "metadata": {
        "colab": {
          "base_uri": "https://localhost:8080/"
        },
        "id": "kRNenSSyJjoG",
        "outputId": "563d269a-fa26-4179-db2c-83733fb9d6e2"
      },
      "execution_count": 66,
      "outputs": [
        {
          "output_type": "stream",
          "name": "stdout",
          "text": [
            "정확도: 0.9790209790209791\n"
          ]
        }
      ]
    },
    {
      "cell_type": "markdown",
      "source": [
        "# 랜덤 포레스트\n",
        "\n",
        "---\n",
        "\n",
        "앙살블 알고리즘 중 비교적 빠른 수행 속도를 가지고 있으며 다양한 영역에서 높은 예측 성능을 보인다.\n",
        "\n",
        "여러 개의 결정 트리 분류기가 전체데이터에서 배깅 방식으로 각자의 데이터를 샘플링해 개별적으로 학습을 수행한 뒤 최종적으로 모든 분류기가 보팅을 통해 예측 결정을 하게 됩니다"
      ],
      "metadata": {
        "id": "Fa9IEgu1PBZl"
      }
    },
    {
      "cell_type": "code",
      "source": [
        "from sklearn.ensemble import RandomForestClassifier\n",
        "import pandas as pd"
      ],
      "metadata": {
        "id": "nNJ-pIwKPBI8"
      },
      "execution_count": 42,
      "outputs": []
    },
    {
      "cell_type": "code",
      "source": [
        "path =\"/content/drive/MyDrive/Colab Notebooks/UHD\"\n",
        "df = pd.read_csv(path+'/features.txt',sep='\\s+',\n",
        "                        header=None,names=['column_index','column_name'])\n",
        "feature_dup_df = pd.DataFrame(data=df.groupby('column_name').cumcount(),\n",
        "                                  columns=['dup_cnt'])\n",
        "feature_dup_df = feature_dup_df.reset_index()\n",
        "ndf = pd.merge(df.reset_index(), feature_dup_df, how='outer')\n",
        "ndf['column_name'] = ndf[['column_name', 'dup_cnt']].apply(lambda x : x[0]+'_'+str(x[1])\n",
        "                                                                if x[1] >0 else x[0] ,  axis=1)\n",
        "ndf = ndf.drop(['index'], axis=1)\n",
        "feature_name = ndf.iloc[:, 1].values.tolist()\n",
        "x_train = pd.read_csv(path+'/train/X_train.txt',sep='\\s+', names=feature_name )\n",
        "x_test = pd.read_csv(path+'/test/X_test.txt',sep='\\s+', names=feature_name)\n",
        "y_train = pd.read_csv(path+'/train/y_train.txt',sep='\\s+',header=None,names=['action'])\n",
        "y_test = pd.read_csv(path+'/test/y_test.txt',sep='\\s+',header=None,names=['action'])\n"
      ],
      "metadata": {
        "id": "QY4PpAM1M6Sv"
      },
      "execution_count": 43,
      "outputs": []
    },
    {
      "cell_type": "code",
      "source": [
        "rf = RandomForestClassifier()\n",
        "rf.fit(x_train,y_train)\n",
        "pred=rf.predict(x_test)\n",
        "print(accuracy_score(y_test,pred))"
      ],
      "metadata": {
        "colab": {
          "base_uri": "https://localhost:8080/",
          "height": 452
        },
        "id": "-skRz0uRUwbD",
        "outputId": "d5c5cdfb-4f6b-4129-d691-06e960f14ddb"
      },
      "execution_count": 44,
      "outputs": [
        {
          "output_type": "stream",
          "name": "stderr",
          "text": [
            "<ipython-input-44-d40770af0520>:2: DataConversionWarning: A column-vector y was passed when a 1d array was expected. Please change the shape of y to (n_samples,), for example using ravel().\n",
            "  rf.fit(x_train,y_train)\n"
          ]
        },
        {
          "output_type": "error",
          "ename": "KeyboardInterrupt",
          "evalue": "ignored",
          "traceback": [
            "\u001b[0;31m---------------------------------------------------------------------------\u001b[0m",
            "\u001b[0;31mKeyboardInterrupt\u001b[0m                         Traceback (most recent call last)",
            "\u001b[0;32m<ipython-input-44-d40770af0520>\u001b[0m in \u001b[0;36m<cell line: 2>\u001b[0;34m()\u001b[0m\n\u001b[1;32m      1\u001b[0m \u001b[0mrf\u001b[0m \u001b[0;34m=\u001b[0m \u001b[0mRandomForestClassifier\u001b[0m\u001b[0;34m(\u001b[0m\u001b[0;34m)\u001b[0m\u001b[0;34m\u001b[0m\u001b[0;34m\u001b[0m\u001b[0m\n\u001b[0;32m----> 2\u001b[0;31m \u001b[0mrf\u001b[0m\u001b[0;34m.\u001b[0m\u001b[0mfit\u001b[0m\u001b[0;34m(\u001b[0m\u001b[0mx_train\u001b[0m\u001b[0;34m,\u001b[0m\u001b[0my_train\u001b[0m\u001b[0;34m)\u001b[0m\u001b[0;34m\u001b[0m\u001b[0;34m\u001b[0m\u001b[0m\n\u001b[0m\u001b[1;32m      3\u001b[0m \u001b[0mpred\u001b[0m\u001b[0;34m=\u001b[0m\u001b[0mrf\u001b[0m\u001b[0;34m.\u001b[0m\u001b[0mpredict\u001b[0m\u001b[0;34m(\u001b[0m\u001b[0mx_test\u001b[0m\u001b[0;34m)\u001b[0m\u001b[0;34m\u001b[0m\u001b[0;34m\u001b[0m\u001b[0m\n\u001b[1;32m      4\u001b[0m \u001b[0mprint\u001b[0m\u001b[0;34m(\u001b[0m\u001b[0maccuracy_score\u001b[0m\u001b[0;34m(\u001b[0m\u001b[0my_test\u001b[0m\u001b[0;34m,\u001b[0m\u001b[0mpred\u001b[0m\u001b[0;34m)\u001b[0m\u001b[0;34m)\u001b[0m\u001b[0;34m\u001b[0m\u001b[0;34m\u001b[0m\u001b[0m\n",
            "\u001b[0;32m/usr/local/lib/python3.10/dist-packages/sklearn/ensemble/_forest.py\u001b[0m in \u001b[0;36mfit\u001b[0;34m(self, X, y, sample_weight)\u001b[0m\n\u001b[1;32m    471\u001b[0m             \u001b[0;31m# parallel_backend contexts set at a higher level,\u001b[0m\u001b[0;34m\u001b[0m\u001b[0;34m\u001b[0m\u001b[0m\n\u001b[1;32m    472\u001b[0m             \u001b[0;31m# since correctness does not rely on using threads.\u001b[0m\u001b[0;34m\u001b[0m\u001b[0;34m\u001b[0m\u001b[0m\n\u001b[0;32m--> 473\u001b[0;31m             trees = Parallel(\n\u001b[0m\u001b[1;32m    474\u001b[0m                 \u001b[0mn_jobs\u001b[0m\u001b[0;34m=\u001b[0m\u001b[0mself\u001b[0m\u001b[0;34m.\u001b[0m\u001b[0mn_jobs\u001b[0m\u001b[0;34m,\u001b[0m\u001b[0;34m\u001b[0m\u001b[0;34m\u001b[0m\u001b[0m\n\u001b[1;32m    475\u001b[0m                 \u001b[0mverbose\u001b[0m\u001b[0;34m=\u001b[0m\u001b[0mself\u001b[0m\u001b[0;34m.\u001b[0m\u001b[0mverbose\u001b[0m\u001b[0;34m,\u001b[0m\u001b[0;34m\u001b[0m\u001b[0;34m\u001b[0m\u001b[0m\n",
            "\u001b[0;32m/usr/local/lib/python3.10/dist-packages/sklearn/utils/parallel.py\u001b[0m in \u001b[0;36m__call__\u001b[0;34m(self, iterable)\u001b[0m\n\u001b[1;32m     61\u001b[0m             \u001b[0;32mfor\u001b[0m \u001b[0mdelayed_func\u001b[0m\u001b[0;34m,\u001b[0m \u001b[0margs\u001b[0m\u001b[0;34m,\u001b[0m \u001b[0mkwargs\u001b[0m \u001b[0;32min\u001b[0m \u001b[0miterable\u001b[0m\u001b[0;34m\u001b[0m\u001b[0;34m\u001b[0m\u001b[0m\n\u001b[1;32m     62\u001b[0m         )\n\u001b[0;32m---> 63\u001b[0;31m         \u001b[0;32mreturn\u001b[0m \u001b[0msuper\u001b[0m\u001b[0;34m(\u001b[0m\u001b[0;34m)\u001b[0m\u001b[0;34m.\u001b[0m\u001b[0m__call__\u001b[0m\u001b[0;34m(\u001b[0m\u001b[0miterable_with_config\u001b[0m\u001b[0;34m)\u001b[0m\u001b[0;34m\u001b[0m\u001b[0;34m\u001b[0m\u001b[0m\n\u001b[0m\u001b[1;32m     64\u001b[0m \u001b[0;34m\u001b[0m\u001b[0m\n\u001b[1;32m     65\u001b[0m \u001b[0;34m\u001b[0m\u001b[0m\n",
            "\u001b[0;32m/usr/local/lib/python3.10/dist-packages/joblib/parallel.py\u001b[0m in \u001b[0;36m__call__\u001b[0;34m(self, iterable)\u001b[0m\n\u001b[1;32m   1086\u001b[0m                 \u001b[0mself\u001b[0m\u001b[0;34m.\u001b[0m\u001b[0m_iterating\u001b[0m \u001b[0;34m=\u001b[0m \u001b[0mself\u001b[0m\u001b[0;34m.\u001b[0m\u001b[0m_original_iterator\u001b[0m \u001b[0;32mis\u001b[0m \u001b[0;32mnot\u001b[0m \u001b[0;32mNone\u001b[0m\u001b[0;34m\u001b[0m\u001b[0;34m\u001b[0m\u001b[0m\n\u001b[1;32m   1087\u001b[0m \u001b[0;34m\u001b[0m\u001b[0m\n\u001b[0;32m-> 1088\u001b[0;31m             \u001b[0;32mwhile\u001b[0m \u001b[0mself\u001b[0m\u001b[0;34m.\u001b[0m\u001b[0mdispatch_one_batch\u001b[0m\u001b[0;34m(\u001b[0m\u001b[0miterator\u001b[0m\u001b[0;34m)\u001b[0m\u001b[0;34m:\u001b[0m\u001b[0;34m\u001b[0m\u001b[0;34m\u001b[0m\u001b[0m\n\u001b[0m\u001b[1;32m   1089\u001b[0m                 \u001b[0;32mpass\u001b[0m\u001b[0;34m\u001b[0m\u001b[0;34m\u001b[0m\u001b[0m\n\u001b[1;32m   1090\u001b[0m \u001b[0;34m\u001b[0m\u001b[0m\n",
            "\u001b[0;32m/usr/local/lib/python3.10/dist-packages/joblib/parallel.py\u001b[0m in \u001b[0;36mdispatch_one_batch\u001b[0;34m(self, iterator)\u001b[0m\n\u001b[1;32m    899\u001b[0m                 \u001b[0;32mreturn\u001b[0m \u001b[0;32mFalse\u001b[0m\u001b[0;34m\u001b[0m\u001b[0;34m\u001b[0m\u001b[0m\n\u001b[1;32m    900\u001b[0m             \u001b[0;32melse\u001b[0m\u001b[0;34m:\u001b[0m\u001b[0;34m\u001b[0m\u001b[0;34m\u001b[0m\u001b[0m\n\u001b[0;32m--> 901\u001b[0;31m                 \u001b[0mself\u001b[0m\u001b[0;34m.\u001b[0m\u001b[0m_dispatch\u001b[0m\u001b[0;34m(\u001b[0m\u001b[0mtasks\u001b[0m\u001b[0;34m)\u001b[0m\u001b[0;34m\u001b[0m\u001b[0;34m\u001b[0m\u001b[0m\n\u001b[0m\u001b[1;32m    902\u001b[0m                 \u001b[0;32mreturn\u001b[0m \u001b[0;32mTrue\u001b[0m\u001b[0;34m\u001b[0m\u001b[0;34m\u001b[0m\u001b[0m\n\u001b[1;32m    903\u001b[0m \u001b[0;34m\u001b[0m\u001b[0m\n",
            "\u001b[0;32m/usr/local/lib/python3.10/dist-packages/joblib/parallel.py\u001b[0m in \u001b[0;36m_dispatch\u001b[0;34m(self, batch)\u001b[0m\n\u001b[1;32m    817\u001b[0m         \u001b[0;32mwith\u001b[0m \u001b[0mself\u001b[0m\u001b[0;34m.\u001b[0m\u001b[0m_lock\u001b[0m\u001b[0;34m:\u001b[0m\u001b[0;34m\u001b[0m\u001b[0;34m\u001b[0m\u001b[0m\n\u001b[1;32m    818\u001b[0m             \u001b[0mjob_idx\u001b[0m \u001b[0;34m=\u001b[0m \u001b[0mlen\u001b[0m\u001b[0;34m(\u001b[0m\u001b[0mself\u001b[0m\u001b[0;34m.\u001b[0m\u001b[0m_jobs\u001b[0m\u001b[0;34m)\u001b[0m\u001b[0;34m\u001b[0m\u001b[0;34m\u001b[0m\u001b[0m\n\u001b[0;32m--> 819\u001b[0;31m             \u001b[0mjob\u001b[0m \u001b[0;34m=\u001b[0m \u001b[0mself\u001b[0m\u001b[0;34m.\u001b[0m\u001b[0m_backend\u001b[0m\u001b[0;34m.\u001b[0m\u001b[0mapply_async\u001b[0m\u001b[0;34m(\u001b[0m\u001b[0mbatch\u001b[0m\u001b[0;34m,\u001b[0m \u001b[0mcallback\u001b[0m\u001b[0;34m=\u001b[0m\u001b[0mcb\u001b[0m\u001b[0;34m)\u001b[0m\u001b[0;34m\u001b[0m\u001b[0;34m\u001b[0m\u001b[0m\n\u001b[0m\u001b[1;32m    820\u001b[0m             \u001b[0;31m# A job can complete so quickly than its callback is\u001b[0m\u001b[0;34m\u001b[0m\u001b[0;34m\u001b[0m\u001b[0m\n\u001b[1;32m    821\u001b[0m             \u001b[0;31m# called before we get here, causing self._jobs to\u001b[0m\u001b[0;34m\u001b[0m\u001b[0;34m\u001b[0m\u001b[0m\n",
            "\u001b[0;32m/usr/local/lib/python3.10/dist-packages/joblib/_parallel_backends.py\u001b[0m in \u001b[0;36mapply_async\u001b[0;34m(self, func, callback)\u001b[0m\n\u001b[1;32m    206\u001b[0m     \u001b[0;32mdef\u001b[0m \u001b[0mapply_async\u001b[0m\u001b[0;34m(\u001b[0m\u001b[0mself\u001b[0m\u001b[0;34m,\u001b[0m \u001b[0mfunc\u001b[0m\u001b[0;34m,\u001b[0m \u001b[0mcallback\u001b[0m\u001b[0;34m=\u001b[0m\u001b[0;32mNone\u001b[0m\u001b[0;34m)\u001b[0m\u001b[0;34m:\u001b[0m\u001b[0;34m\u001b[0m\u001b[0;34m\u001b[0m\u001b[0m\n\u001b[1;32m    207\u001b[0m         \u001b[0;34m\"\"\"Schedule a func to be run\"\"\"\u001b[0m\u001b[0;34m\u001b[0m\u001b[0;34m\u001b[0m\u001b[0m\n\u001b[0;32m--> 208\u001b[0;31m         \u001b[0mresult\u001b[0m \u001b[0;34m=\u001b[0m \u001b[0mImmediateResult\u001b[0m\u001b[0;34m(\u001b[0m\u001b[0mfunc\u001b[0m\u001b[0;34m)\u001b[0m\u001b[0;34m\u001b[0m\u001b[0;34m\u001b[0m\u001b[0m\n\u001b[0m\u001b[1;32m    209\u001b[0m         \u001b[0;32mif\u001b[0m \u001b[0mcallback\u001b[0m\u001b[0;34m:\u001b[0m\u001b[0;34m\u001b[0m\u001b[0;34m\u001b[0m\u001b[0m\n\u001b[1;32m    210\u001b[0m             \u001b[0mcallback\u001b[0m\u001b[0;34m(\u001b[0m\u001b[0mresult\u001b[0m\u001b[0;34m)\u001b[0m\u001b[0;34m\u001b[0m\u001b[0;34m\u001b[0m\u001b[0m\n",
            "\u001b[0;32m/usr/local/lib/python3.10/dist-packages/joblib/_parallel_backends.py\u001b[0m in \u001b[0;36m__init__\u001b[0;34m(self, batch)\u001b[0m\n\u001b[1;32m    595\u001b[0m         \u001b[0;31m# Don't delay the application, to avoid keeping the input\u001b[0m\u001b[0;34m\u001b[0m\u001b[0;34m\u001b[0m\u001b[0m\n\u001b[1;32m    596\u001b[0m         \u001b[0;31m# arguments in memory\u001b[0m\u001b[0;34m\u001b[0m\u001b[0;34m\u001b[0m\u001b[0m\n\u001b[0;32m--> 597\u001b[0;31m         \u001b[0mself\u001b[0m\u001b[0;34m.\u001b[0m\u001b[0mresults\u001b[0m \u001b[0;34m=\u001b[0m \u001b[0mbatch\u001b[0m\u001b[0;34m(\u001b[0m\u001b[0;34m)\u001b[0m\u001b[0;34m\u001b[0m\u001b[0;34m\u001b[0m\u001b[0m\n\u001b[0m\u001b[1;32m    598\u001b[0m \u001b[0;34m\u001b[0m\u001b[0m\n\u001b[1;32m    599\u001b[0m     \u001b[0;32mdef\u001b[0m \u001b[0mget\u001b[0m\u001b[0;34m(\u001b[0m\u001b[0mself\u001b[0m\u001b[0;34m)\u001b[0m\u001b[0;34m:\u001b[0m\u001b[0;34m\u001b[0m\u001b[0;34m\u001b[0m\u001b[0m\n",
            "\u001b[0;32m/usr/local/lib/python3.10/dist-packages/joblib/parallel.py\u001b[0m in \u001b[0;36m__call__\u001b[0;34m(self)\u001b[0m\n\u001b[1;32m    286\u001b[0m         \u001b[0;31m# change the default number of processes to -1\u001b[0m\u001b[0;34m\u001b[0m\u001b[0;34m\u001b[0m\u001b[0m\n\u001b[1;32m    287\u001b[0m         \u001b[0;32mwith\u001b[0m \u001b[0mparallel_backend\u001b[0m\u001b[0;34m(\u001b[0m\u001b[0mself\u001b[0m\u001b[0;34m.\u001b[0m\u001b[0m_backend\u001b[0m\u001b[0;34m,\u001b[0m \u001b[0mn_jobs\u001b[0m\u001b[0;34m=\u001b[0m\u001b[0mself\u001b[0m\u001b[0;34m.\u001b[0m\u001b[0m_n_jobs\u001b[0m\u001b[0;34m)\u001b[0m\u001b[0;34m:\u001b[0m\u001b[0;34m\u001b[0m\u001b[0;34m\u001b[0m\u001b[0m\n\u001b[0;32m--> 288\u001b[0;31m             return [func(*args, **kwargs)\n\u001b[0m\u001b[1;32m    289\u001b[0m                     for func, args, kwargs in self.items]\n\u001b[1;32m    290\u001b[0m \u001b[0;34m\u001b[0m\u001b[0m\n",
            "\u001b[0;32m/usr/local/lib/python3.10/dist-packages/joblib/parallel.py\u001b[0m in \u001b[0;36m<listcomp>\u001b[0;34m(.0)\u001b[0m\n\u001b[1;32m    286\u001b[0m         \u001b[0;31m# change the default number of processes to -1\u001b[0m\u001b[0;34m\u001b[0m\u001b[0;34m\u001b[0m\u001b[0m\n\u001b[1;32m    287\u001b[0m         \u001b[0;32mwith\u001b[0m \u001b[0mparallel_backend\u001b[0m\u001b[0;34m(\u001b[0m\u001b[0mself\u001b[0m\u001b[0;34m.\u001b[0m\u001b[0m_backend\u001b[0m\u001b[0;34m,\u001b[0m \u001b[0mn_jobs\u001b[0m\u001b[0;34m=\u001b[0m\u001b[0mself\u001b[0m\u001b[0;34m.\u001b[0m\u001b[0m_n_jobs\u001b[0m\u001b[0;34m)\u001b[0m\u001b[0;34m:\u001b[0m\u001b[0;34m\u001b[0m\u001b[0;34m\u001b[0m\u001b[0m\n\u001b[0;32m--> 288\u001b[0;31m             return [func(*args, **kwargs)\n\u001b[0m\u001b[1;32m    289\u001b[0m                     for func, args, kwargs in self.items]\n\u001b[1;32m    290\u001b[0m \u001b[0;34m\u001b[0m\u001b[0m\n",
            "\u001b[0;32m/usr/local/lib/python3.10/dist-packages/sklearn/utils/parallel.py\u001b[0m in \u001b[0;36m__call__\u001b[0;34m(self, *args, **kwargs)\u001b[0m\n\u001b[1;32m    121\u001b[0m             \u001b[0mconfig\u001b[0m \u001b[0;34m=\u001b[0m \u001b[0;34m{\u001b[0m\u001b[0;34m}\u001b[0m\u001b[0;34m\u001b[0m\u001b[0;34m\u001b[0m\u001b[0m\n\u001b[1;32m    122\u001b[0m         \u001b[0;32mwith\u001b[0m \u001b[0mconfig_context\u001b[0m\u001b[0;34m(\u001b[0m\u001b[0;34m**\u001b[0m\u001b[0mconfig\u001b[0m\u001b[0;34m)\u001b[0m\u001b[0;34m:\u001b[0m\u001b[0;34m\u001b[0m\u001b[0;34m\u001b[0m\u001b[0m\n\u001b[0;32m--> 123\u001b[0;31m             \u001b[0;32mreturn\u001b[0m \u001b[0mself\u001b[0m\u001b[0;34m.\u001b[0m\u001b[0mfunction\u001b[0m\u001b[0;34m(\u001b[0m\u001b[0;34m*\u001b[0m\u001b[0margs\u001b[0m\u001b[0;34m,\u001b[0m \u001b[0;34m**\u001b[0m\u001b[0mkwargs\u001b[0m\u001b[0;34m)\u001b[0m\u001b[0;34m\u001b[0m\u001b[0;34m\u001b[0m\u001b[0m\n\u001b[0m",
            "\u001b[0;32m/usr/local/lib/python3.10/dist-packages/sklearn/ensemble/_forest.py\u001b[0m in \u001b[0;36m_parallel_build_trees\u001b[0;34m(tree, bootstrap, X, y, sample_weight, tree_idx, n_trees, verbose, class_weight, n_samples_bootstrap)\u001b[0m\n\u001b[1;32m    182\u001b[0m             \u001b[0mcurr_sample_weight\u001b[0m \u001b[0;34m*=\u001b[0m \u001b[0mcompute_sample_weight\u001b[0m\u001b[0;34m(\u001b[0m\u001b[0;34m\"balanced\"\u001b[0m\u001b[0;34m,\u001b[0m \u001b[0my\u001b[0m\u001b[0;34m,\u001b[0m \u001b[0mindices\u001b[0m\u001b[0;34m=\u001b[0m\u001b[0mindices\u001b[0m\u001b[0;34m)\u001b[0m\u001b[0;34m\u001b[0m\u001b[0;34m\u001b[0m\u001b[0m\n\u001b[1;32m    183\u001b[0m \u001b[0;34m\u001b[0m\u001b[0m\n\u001b[0;32m--> 184\u001b[0;31m         \u001b[0mtree\u001b[0m\u001b[0;34m.\u001b[0m\u001b[0mfit\u001b[0m\u001b[0;34m(\u001b[0m\u001b[0mX\u001b[0m\u001b[0;34m,\u001b[0m \u001b[0my\u001b[0m\u001b[0;34m,\u001b[0m \u001b[0msample_weight\u001b[0m\u001b[0;34m=\u001b[0m\u001b[0mcurr_sample_weight\u001b[0m\u001b[0;34m,\u001b[0m \u001b[0mcheck_input\u001b[0m\u001b[0;34m=\u001b[0m\u001b[0;32mFalse\u001b[0m\u001b[0;34m)\u001b[0m\u001b[0;34m\u001b[0m\u001b[0;34m\u001b[0m\u001b[0m\n\u001b[0m\u001b[1;32m    185\u001b[0m     \u001b[0;32melse\u001b[0m\u001b[0;34m:\u001b[0m\u001b[0;34m\u001b[0m\u001b[0;34m\u001b[0m\u001b[0m\n\u001b[1;32m    186\u001b[0m         \u001b[0mtree\u001b[0m\u001b[0;34m.\u001b[0m\u001b[0mfit\u001b[0m\u001b[0;34m(\u001b[0m\u001b[0mX\u001b[0m\u001b[0;34m,\u001b[0m \u001b[0my\u001b[0m\u001b[0;34m,\u001b[0m \u001b[0msample_weight\u001b[0m\u001b[0;34m=\u001b[0m\u001b[0msample_weight\u001b[0m\u001b[0;34m,\u001b[0m \u001b[0mcheck_input\u001b[0m\u001b[0;34m=\u001b[0m\u001b[0;32mFalse\u001b[0m\u001b[0;34m)\u001b[0m\u001b[0;34m\u001b[0m\u001b[0;34m\u001b[0m\u001b[0m\n",
            "\u001b[0;32m/usr/local/lib/python3.10/dist-packages/sklearn/tree/_classes.py\u001b[0m in \u001b[0;36mfit\u001b[0;34m(self, X, y, sample_weight, check_input)\u001b[0m\n\u001b[1;32m    887\u001b[0m         \"\"\"\n\u001b[1;32m    888\u001b[0m \u001b[0;34m\u001b[0m\u001b[0m\n\u001b[0;32m--> 889\u001b[0;31m         super().fit(\n\u001b[0m\u001b[1;32m    890\u001b[0m             \u001b[0mX\u001b[0m\u001b[0;34m,\u001b[0m\u001b[0;34m\u001b[0m\u001b[0;34m\u001b[0m\u001b[0m\n\u001b[1;32m    891\u001b[0m             \u001b[0my\u001b[0m\u001b[0;34m,\u001b[0m\u001b[0;34m\u001b[0m\u001b[0;34m\u001b[0m\u001b[0m\n",
            "\u001b[0;32m/usr/local/lib/python3.10/dist-packages/sklearn/tree/_classes.py\u001b[0m in \u001b[0;36mfit\u001b[0;34m(self, X, y, sample_weight, check_input)\u001b[0m\n\u001b[1;32m    377\u001b[0m             )\n\u001b[1;32m    378\u001b[0m \u001b[0;34m\u001b[0m\u001b[0m\n\u001b[0;32m--> 379\u001b[0;31m         \u001b[0mbuilder\u001b[0m\u001b[0;34m.\u001b[0m\u001b[0mbuild\u001b[0m\u001b[0;34m(\u001b[0m\u001b[0mself\u001b[0m\u001b[0;34m.\u001b[0m\u001b[0mtree_\u001b[0m\u001b[0;34m,\u001b[0m \u001b[0mX\u001b[0m\u001b[0;34m,\u001b[0m \u001b[0my\u001b[0m\u001b[0;34m,\u001b[0m \u001b[0msample_weight\u001b[0m\u001b[0;34m)\u001b[0m\u001b[0;34m\u001b[0m\u001b[0;34m\u001b[0m\u001b[0m\n\u001b[0m\u001b[1;32m    380\u001b[0m \u001b[0;34m\u001b[0m\u001b[0m\n\u001b[1;32m    381\u001b[0m         \u001b[0;32mif\u001b[0m \u001b[0mself\u001b[0m\u001b[0;34m.\u001b[0m\u001b[0mn_outputs_\u001b[0m \u001b[0;34m==\u001b[0m \u001b[0;36m1\u001b[0m \u001b[0;32mand\u001b[0m \u001b[0mis_classifier\u001b[0m\u001b[0;34m(\u001b[0m\u001b[0mself\u001b[0m\u001b[0;34m)\u001b[0m\u001b[0;34m:\u001b[0m\u001b[0;34m\u001b[0m\u001b[0;34m\u001b[0m\u001b[0m\n",
            "\u001b[0;31mKeyboardInterrupt\u001b[0m: "
          ]
        }
      ]
    },
    {
      "cell_type": "code",
      "source": [
        "ss = StandardScaler()\n",
        "ss.fit(x_train)\n",
        "scaled_xtr = ss.transform(x_train)\n",
        "scaled_xte = ss.transform(x_test)"
      ],
      "metadata": {
        "id": "653FgcSZWF_K"
      },
      "execution_count": null,
      "outputs": []
    },
    {
      "cell_type": "code",
      "source": [
        "from sklearn.ensemble import VotingClassifier\n",
        "from sklearn.linear_model import LogisticRegression\n",
        "from sklearn.neighbors import KNeighborsClassifier\n",
        "from sklearn.datasets import load_breast_cancer\n",
        "from sklearn.model_selection import train_test_split\n",
        "from sklearn.metrics import accuracy_score\n",
        "import pandas as pd"
      ],
      "metadata": {
        "id": "nX3TLPciUDhE"
      },
      "execution_count": null,
      "outputs": []
    },
    {
      "cell_type": "code",
      "source": [
        "rf = RandomForestClassifier()\n",
        "lr = LogisticRegression()\n",
        "knn = KNeighborsClassifier()\n",
        "models=[rf,lr,knn]\n",
        "for model in models:\n",
        "  model.fit(scaled_xtr,y_train)\n",
        "  pred = model.predict(scaled_xte)\n",
        "  print(model.__class__.__name__,\"===\")\n",
        "  print(\"acc:\",accuracy_score(y_test,pred))\n"
      ],
      "metadata": {
        "id": "r-BGdpkvXUY-"
      },
      "execution_count": null,
      "outputs": []
    },
    {
      "cell_type": "code",
      "source": [
        "lr = LogisticRegression()\n",
        "knn = KNeighborsClassifier()\n",
        "vo = VotingClassifier(estimators=[('LR',lr),('KNN',knn)],\n",
        "                      voting='soft')\n",
        "rf = RandomForestClassifier()\n",
        "lr = LogisticRegression()\n",
        "knn = KNeighborsClassifier()\n",
        "models=[vo,rf,lr,knn]\n",
        "for model in models:\n",
        "  model.fit(scaled_xtr,y_train)\n",
        "  pred = model.predict(scaled_xte)\n",
        "  print(model.__class__.__name__,\"===\")\n",
        "  print(\"acc:\",accuracy_score(y_test,pred))"
      ],
      "metadata": {
        "id": "j8YBHqT8XVXv"
      },
      "execution_count": null,
      "outputs": []
    },
    {
      "cell_type": "code",
      "source": [
        "from sklearn.model_selection import GridSearchCV\n"
      ],
      "metadata": {
        "id": "3xfowRmKYHe7"
      },
      "execution_count": null,
      "outputs": []
    },
    {
      "cell_type": "code",
      "source": [
        "params = {\n",
        "    'max_depth':[8,16,24],\n",
        "    'min_samples_leaf':[1,6,12],\n",
        "    'min_samples_split':[2,8,6]\n",
        "}\n"
      ],
      "metadata": {
        "id": "vIeylT-HYPNs"
      },
      "execution_count": null,
      "outputs": []
    },
    {
      "cell_type": "code",
      "source": [
        "rf = RandomForestClassifier(n_jobs=-1)\n",
        "gs =GridSearchCV(rf,param_grid=params)\n",
        "gs.fit(x_train,y_train)\n",
        "print(\"최적 하이퍼 파라미터:\",gs.best_params_)\n",
        "print(\"정확도:\",gs.best_score_)\n"
      ],
      "metadata": {
        "id": "LYrM0Ak2YSU5"
      },
      "execution_count": null,
      "outputs": []
    },
    {
      "cell_type": "code",
      "source": [
        "model=gs.best_estimator_"
      ],
      "metadata": {
        "id": "cyfRLDJVYXfm"
      },
      "execution_count": null,
      "outputs": []
    },
    {
      "cell_type": "code",
      "source": [
        "pred=model.predict(x_test)"
      ],
      "metadata": {
        "id": "9GtzON2OlJKm"
      },
      "execution_count": null,
      "outputs": []
    },
    {
      "cell_type": "code",
      "source": [
        "print(\"acc:\",accuracy_score(y_test,pred))"
      ],
      "metadata": {
        "id": "ssIQUbKGlM5h"
      },
      "execution_count": null,
      "outputs": []
    },
    {
      "cell_type": "code",
      "source": [
        "sd=pd.Series(model.feature_importances_)\n",
        "sd.index=x_train.columns"
      ],
      "metadata": {
        "id": "gC6Lf5ldlROx"
      },
      "execution_count": null,
      "outputs": []
    },
    {
      "cell_type": "code",
      "source": [
        "top20=sd.sort_values(ascending=False)[:20]"
      ],
      "metadata": {
        "id": "-a2Ok7vAltl8"
      },
      "execution_count": null,
      "outputs": []
    },
    {
      "cell_type": "code",
      "source": [
        "top20"
      ],
      "metadata": {
        "id": "NEzWFA-Hlt-n"
      },
      "execution_count": null,
      "outputs": []
    },
    {
      "cell_type": "code",
      "source": [
        "import seaborn as sns\n",
        "import matplotlib.pyplot as plt\n"
      ],
      "metadata": {
        "id": "hx-BwMVlmPLr"
      },
      "execution_count": null,
      "outputs": []
    },
    {
      "cell_type": "code",
      "source": [
        "sns.barplot(x=top20,y=top20.index)\n",
        "plt.show()"
      ],
      "metadata": {
        "id": "ijDepOIql2s4"
      },
      "execution_count": null,
      "outputs": []
    },
    {
      "cell_type": "markdown",
      "source": [
        "# GBM\n",
        "\n",
        "---\n",
        "\n"
      ],
      "metadata": {
        "id": "qKnCM52EMWIM"
      }
    },
    {
      "cell_type": "code",
      "source": [
        "from sklearn.ensemble import GradientBoostingClassifier\n",
        "import time\n"
      ],
      "metadata": {
        "id": "O058NEAjMjgK"
      },
      "execution_count": 4,
      "outputs": []
    },
    {
      "cell_type": "code",
      "source": [
        "gbs = GradientBoostingClassifier()\n",
        "st =time.time()\n",
        "gbs.fit(x_train,y_train)\n",
        "et = time.time()\n",
        "print(\"학습 소요 시간:\",et-st)\n",
        "pred = gbs.predict(x_test)\n",
        "accuracy = accuracy_score(y_test,pred)\n",
        "print(\"정확도:\",accuracy)\n"
      ],
      "metadata": {
        "colab": {
          "base_uri": "https://localhost:8080/",
          "height": 245
        },
        "id": "zVfHyar6MmvO",
        "outputId": "4ada37d3-096d-4e24-aec0-46a19acba0c2"
      },
      "execution_count": 5,
      "outputs": [
        {
          "output_type": "error",
          "ename": "NameError",
          "evalue": "ignored",
          "traceback": [
            "\u001b[0;31m---------------------------------------------------------------------------\u001b[0m",
            "\u001b[0;31mNameError\u001b[0m                                 Traceback (most recent call last)",
            "\u001b[0;32m<ipython-input-5-1f333c3c7127>\u001b[0m in \u001b[0;36m<cell line: 3>\u001b[0;34m()\u001b[0m\n\u001b[1;32m      1\u001b[0m \u001b[0mgbs\u001b[0m \u001b[0;34m=\u001b[0m \u001b[0mGradientBoostingClassifier\u001b[0m\u001b[0;34m(\u001b[0m\u001b[0;34m)\u001b[0m\u001b[0;34m\u001b[0m\u001b[0;34m\u001b[0m\u001b[0m\n\u001b[1;32m      2\u001b[0m \u001b[0mst\u001b[0m \u001b[0;34m=\u001b[0m\u001b[0mtime\u001b[0m\u001b[0;34m.\u001b[0m\u001b[0mtime\u001b[0m\u001b[0;34m(\u001b[0m\u001b[0;34m)\u001b[0m\u001b[0;34m\u001b[0m\u001b[0;34m\u001b[0m\u001b[0m\n\u001b[0;32m----> 3\u001b[0;31m \u001b[0mgbs\u001b[0m\u001b[0;34m.\u001b[0m\u001b[0mfit\u001b[0m\u001b[0;34m(\u001b[0m\u001b[0mx_train\u001b[0m\u001b[0;34m,\u001b[0m\u001b[0my_train\u001b[0m\u001b[0;34m)\u001b[0m\u001b[0;34m\u001b[0m\u001b[0;34m\u001b[0m\u001b[0m\n\u001b[0m\u001b[1;32m      4\u001b[0m \u001b[0met\u001b[0m \u001b[0;34m=\u001b[0m \u001b[0mtime\u001b[0m\u001b[0;34m.\u001b[0m\u001b[0mtime\u001b[0m\u001b[0;34m(\u001b[0m\u001b[0;34m)\u001b[0m\u001b[0;34m\u001b[0m\u001b[0;34m\u001b[0m\u001b[0m\n\u001b[1;32m      5\u001b[0m \u001b[0mprint\u001b[0m\u001b[0;34m(\u001b[0m\u001b[0;34m\"학습 소요 시간:\"\u001b[0m\u001b[0;34m,\u001b[0m\u001b[0met\u001b[0m\u001b[0;34m-\u001b[0m\u001b[0mst\u001b[0m\u001b[0;34m)\u001b[0m\u001b[0;34m\u001b[0m\u001b[0;34m\u001b[0m\u001b[0m\n",
            "\u001b[0;31mNameError\u001b[0m: name 'x_train' is not defined"
          ]
        }
      ]
    },
    {
      "cell_type": "markdown",
      "source": [
        "# XGBoost\n",
        "\n",
        "---\n",
        "분류에 있어서 일반적으로 다른 머신러닝보다 뛰어난 예측 성능을 나타냅니다.\n",
        "\n",
        "GBM에 기반, 병령 CPU환경에서 병령 학습이 가능해 기존 GBM보다 빠르게 학습을 완료할 수 있습니다.\n"
      ],
      "metadata": {
        "id": "4l0qUvlAWGgh"
      }
    },
    {
      "cell_type": "code",
      "source": [
        "import xgboost as xgb\n",
        "from xgboost import XGBClassifier\n",
        "from sklearn.datasets import load_breast_cancer\n",
        "from sklearn.model_selection import train_test_split\n"
      ],
      "metadata": {
        "id": "Ckr1HwmcR6U_"
      },
      "execution_count": 8,
      "outputs": []
    },
    {
      "cell_type": "code",
      "source": [
        "dataset = load_breast_cancer()\n",
        "data= dataset.data\n",
        "label = dataset.target\n",
        "\n",
        "df = pd.DataFrame(data, columns=dataset.feature_names)\n",
        "df['target']= label\n",
        "df.head(3)\n"
      ],
      "metadata": {
        "colab": {
          "base_uri": "https://localhost:8080/",
          "height": 271
        },
        "id": "YkhzszQnXpsy",
        "outputId": "66a42b70-2d42-4a07-fd80-a89d38725535"
      },
      "execution_count": 9,
      "outputs": [
        {
          "output_type": "execute_result",
          "data": {
            "text/plain": [
              "   mean radius  mean texture  mean perimeter  mean area  mean smoothness  \\\n",
              "0        17.99         10.38           122.8     1001.0          0.11840   \n",
              "1        20.57         17.77           132.9     1326.0          0.08474   \n",
              "2        19.69         21.25           130.0     1203.0          0.10960   \n",
              "\n",
              "   mean compactness  mean concavity  mean concave points  mean symmetry  \\\n",
              "0           0.27760          0.3001              0.14710         0.2419   \n",
              "1           0.07864          0.0869              0.07017         0.1812   \n",
              "2           0.15990          0.1974              0.12790         0.2069   \n",
              "\n",
              "   mean fractal dimension  ...  worst texture  worst perimeter  worst area  \\\n",
              "0                 0.07871  ...          17.33            184.6      2019.0   \n",
              "1                 0.05667  ...          23.41            158.8      1956.0   \n",
              "2                 0.05999  ...          25.53            152.5      1709.0   \n",
              "\n",
              "   worst smoothness  worst compactness  worst concavity  worst concave points  \\\n",
              "0            0.1622             0.6656           0.7119                0.2654   \n",
              "1            0.1238             0.1866           0.2416                0.1860   \n",
              "2            0.1444             0.4245           0.4504                0.2430   \n",
              "\n",
              "   worst symmetry  worst fractal dimension  target  \n",
              "0          0.4601                  0.11890       0  \n",
              "1          0.2750                  0.08902       0  \n",
              "2          0.3613                  0.08758       0  \n",
              "\n",
              "[3 rows x 31 columns]"
            ],
            "text/html": [
              "\n",
              "  <div id=\"df-b13e9f8c-f38f-4c19-9999-540494d25b6b\">\n",
              "    <div class=\"colab-df-container\">\n",
              "      <div>\n",
              "<style scoped>\n",
              "    .dataframe tbody tr th:only-of-type {\n",
              "        vertical-align: middle;\n",
              "    }\n",
              "\n",
              "    .dataframe tbody tr th {\n",
              "        vertical-align: top;\n",
              "    }\n",
              "\n",
              "    .dataframe thead th {\n",
              "        text-align: right;\n",
              "    }\n",
              "</style>\n",
              "<table border=\"1\" class=\"dataframe\">\n",
              "  <thead>\n",
              "    <tr style=\"text-align: right;\">\n",
              "      <th></th>\n",
              "      <th>mean radius</th>\n",
              "      <th>mean texture</th>\n",
              "      <th>mean perimeter</th>\n",
              "      <th>mean area</th>\n",
              "      <th>mean smoothness</th>\n",
              "      <th>mean compactness</th>\n",
              "      <th>mean concavity</th>\n",
              "      <th>mean concave points</th>\n",
              "      <th>mean symmetry</th>\n",
              "      <th>mean fractal dimension</th>\n",
              "      <th>...</th>\n",
              "      <th>worst texture</th>\n",
              "      <th>worst perimeter</th>\n",
              "      <th>worst area</th>\n",
              "      <th>worst smoothness</th>\n",
              "      <th>worst compactness</th>\n",
              "      <th>worst concavity</th>\n",
              "      <th>worst concave points</th>\n",
              "      <th>worst symmetry</th>\n",
              "      <th>worst fractal dimension</th>\n",
              "      <th>target</th>\n",
              "    </tr>\n",
              "  </thead>\n",
              "  <tbody>\n",
              "    <tr>\n",
              "      <th>0</th>\n",
              "      <td>17.99</td>\n",
              "      <td>10.38</td>\n",
              "      <td>122.8</td>\n",
              "      <td>1001.0</td>\n",
              "      <td>0.11840</td>\n",
              "      <td>0.27760</td>\n",
              "      <td>0.3001</td>\n",
              "      <td>0.14710</td>\n",
              "      <td>0.2419</td>\n",
              "      <td>0.07871</td>\n",
              "      <td>...</td>\n",
              "      <td>17.33</td>\n",
              "      <td>184.6</td>\n",
              "      <td>2019.0</td>\n",
              "      <td>0.1622</td>\n",
              "      <td>0.6656</td>\n",
              "      <td>0.7119</td>\n",
              "      <td>0.2654</td>\n",
              "      <td>0.4601</td>\n",
              "      <td>0.11890</td>\n",
              "      <td>0</td>\n",
              "    </tr>\n",
              "    <tr>\n",
              "      <th>1</th>\n",
              "      <td>20.57</td>\n",
              "      <td>17.77</td>\n",
              "      <td>132.9</td>\n",
              "      <td>1326.0</td>\n",
              "      <td>0.08474</td>\n",
              "      <td>0.07864</td>\n",
              "      <td>0.0869</td>\n",
              "      <td>0.07017</td>\n",
              "      <td>0.1812</td>\n",
              "      <td>0.05667</td>\n",
              "      <td>...</td>\n",
              "      <td>23.41</td>\n",
              "      <td>158.8</td>\n",
              "      <td>1956.0</td>\n",
              "      <td>0.1238</td>\n",
              "      <td>0.1866</td>\n",
              "      <td>0.2416</td>\n",
              "      <td>0.1860</td>\n",
              "      <td>0.2750</td>\n",
              "      <td>0.08902</td>\n",
              "      <td>0</td>\n",
              "    </tr>\n",
              "    <tr>\n",
              "      <th>2</th>\n",
              "      <td>19.69</td>\n",
              "      <td>21.25</td>\n",
              "      <td>130.0</td>\n",
              "      <td>1203.0</td>\n",
              "      <td>0.10960</td>\n",
              "      <td>0.15990</td>\n",
              "      <td>0.1974</td>\n",
              "      <td>0.12790</td>\n",
              "      <td>0.2069</td>\n",
              "      <td>0.05999</td>\n",
              "      <td>...</td>\n",
              "      <td>25.53</td>\n",
              "      <td>152.5</td>\n",
              "      <td>1709.0</td>\n",
              "      <td>0.1444</td>\n",
              "      <td>0.4245</td>\n",
              "      <td>0.4504</td>\n",
              "      <td>0.2430</td>\n",
              "      <td>0.3613</td>\n",
              "      <td>0.08758</td>\n",
              "      <td>0</td>\n",
              "    </tr>\n",
              "  </tbody>\n",
              "</table>\n",
              "<p>3 rows × 31 columns</p>\n",
              "</div>\n",
              "      <button class=\"colab-df-convert\" onclick=\"convertToInteractive('df-b13e9f8c-f38f-4c19-9999-540494d25b6b')\"\n",
              "              title=\"Convert this dataframe to an interactive table.\"\n",
              "              style=\"display:none;\">\n",
              "        \n",
              "  <svg xmlns=\"http://www.w3.org/2000/svg\" height=\"24px\"viewBox=\"0 0 24 24\"\n",
              "       width=\"24px\">\n",
              "    <path d=\"M0 0h24v24H0V0z\" fill=\"none\"/>\n",
              "    <path d=\"M18.56 5.44l.94 2.06.94-2.06 2.06-.94-2.06-.94-.94-2.06-.94 2.06-2.06.94zm-11 1L8.5 8.5l.94-2.06 2.06-.94-2.06-.94L8.5 2.5l-.94 2.06-2.06.94zm10 10l.94 2.06.94-2.06 2.06-.94-2.06-.94-.94-2.06-.94 2.06-2.06.94z\"/><path d=\"M17.41 7.96l-1.37-1.37c-.4-.4-.92-.59-1.43-.59-.52 0-1.04.2-1.43.59L10.3 9.45l-7.72 7.72c-.78.78-.78 2.05 0 2.83L4 21.41c.39.39.9.59 1.41.59.51 0 1.02-.2 1.41-.59l7.78-7.78 2.81-2.81c.8-.78.8-2.07 0-2.86zM5.41 20L4 18.59l7.72-7.72 1.47 1.35L5.41 20z\"/>\n",
              "  </svg>\n",
              "      </button>\n",
              "      \n",
              "  <style>\n",
              "    .colab-df-container {\n",
              "      display:flex;\n",
              "      flex-wrap:wrap;\n",
              "      gap: 12px;\n",
              "    }\n",
              "\n",
              "    .colab-df-convert {\n",
              "      background-color: #E8F0FE;\n",
              "      border: none;\n",
              "      border-radius: 50%;\n",
              "      cursor: pointer;\n",
              "      display: none;\n",
              "      fill: #1967D2;\n",
              "      height: 32px;\n",
              "      padding: 0 0 0 0;\n",
              "      width: 32px;\n",
              "    }\n",
              "\n",
              "    .colab-df-convert:hover {\n",
              "      background-color: #E2EBFA;\n",
              "      box-shadow: 0px 1px 2px rgba(60, 64, 67, 0.3), 0px 1px 3px 1px rgba(60, 64, 67, 0.15);\n",
              "      fill: #174EA6;\n",
              "    }\n",
              "\n",
              "    [theme=dark] .colab-df-convert {\n",
              "      background-color: #3B4455;\n",
              "      fill: #D2E3FC;\n",
              "    }\n",
              "\n",
              "    [theme=dark] .colab-df-convert:hover {\n",
              "      background-color: #434B5C;\n",
              "      box-shadow: 0px 1px 3px 1px rgba(0, 0, 0, 0.15);\n",
              "      filter: drop-shadow(0px 1px 2px rgba(0, 0, 0, 0.3));\n",
              "      fill: #FFFFFF;\n",
              "    }\n",
              "  </style>\n",
              "\n",
              "      <script>\n",
              "        const buttonEl =\n",
              "          document.querySelector('#df-b13e9f8c-f38f-4c19-9999-540494d25b6b button.colab-df-convert');\n",
              "        buttonEl.style.display =\n",
              "          google.colab.kernel.accessAllowed ? 'block' : 'none';\n",
              "\n",
              "        async function convertToInteractive(key) {\n",
              "          const element = document.querySelector('#df-b13e9f8c-f38f-4c19-9999-540494d25b6b');\n",
              "          const dataTable =\n",
              "            await google.colab.kernel.invokeFunction('convertToInteractive',\n",
              "                                                     [key], {});\n",
              "          if (!dataTable) return;\n",
              "\n",
              "          const docLinkHtml = 'Like what you see? Visit the ' +\n",
              "            '<a target=\"_blank\" href=https://colab.research.google.com/notebooks/data_table.ipynb>data table notebook</a>'\n",
              "            + ' to learn more about interactive tables.';\n",
              "          element.innerHTML = '';\n",
              "          dataTable['output_type'] = 'display_data';\n",
              "          await google.colab.output.renderOutput(dataTable, element);\n",
              "          const docLink = document.createElement('div');\n",
              "          docLink.innerHTML = docLinkHtml;\n",
              "          element.appendChild(docLink);\n",
              "        }\n",
              "      </script>\n",
              "    </div>\n",
              "  </div>\n",
              "  "
            ]
          },
          "metadata": {},
          "execution_count": 9
        }
      ]
    },
    {
      "cell_type": "code",
      "source": [
        "x_train, x_test, y_train, y_test=train_test_split(data, label)\n",
        "x_tr, x_val, y_tr, y_val= train_test_split(x_train, y_train, test_size=0.1)\n"
      ],
      "metadata": {
        "id": "mKY_nzQIZi4r"
      },
      "execution_count": 10,
      "outputs": []
    },
    {
      "cell_type": "code",
      "source": [
        "dtr = xgb.DMatrix(data=x_tr, label=y_tr)\n",
        "dval = xgb.DMatrix(data=x_val, label=y_val)\n",
        "dtest = xgb.DMatrix(data=x_test , label=y_test)\n"
      ],
      "metadata": {
        "id": "wmIgI9HjbOCq"
      },
      "execution_count": 11,
      "outputs": []
    },
    {
      "cell_type": "code",
      "source": [
        "params = { 'max_depth':3,\n",
        "          'eta': 0.05,\n",
        "          'objective':'binary:logistic',\n",
        "          'eval_metric':'logloss'\n",
        "         }\n",
        "num_rounds = 400\n"
      ],
      "metadata": {
        "id": "CxEQh-1YbN8e"
      },
      "execution_count": 12,
      "outputs": []
    },
    {
      "cell_type": "code",
      "source": [
        "eval_list = [(dtr,'train'),(dval,'eval')]\n",
        "\n",
        "xgb_model = xgb.train(params = params ,\n",
        "                      dtrain = dtr ,\n",
        "                      num_boost_round = num_rounds,\n",
        "                      early_stopping_rounds = 50,\n",
        "                      evals = eval_list )\n"
      ],
      "metadata": {
        "colab": {
          "base_uri": "https://localhost:8080/"
        },
        "id": "m1LcxD24bS5a",
        "outputId": "430a2b38-033a-44fe-aa33-8ef700762514"
      },
      "execution_count": 13,
      "outputs": [
        {
          "output_type": "stream",
          "name": "stdout",
          "text": [
            "[0]\ttrain-logloss:0.65223\teval-logloss:0.65430\n",
            "[1]\ttrain-logloss:0.61506\teval-logloss:0.61914\n",
            "[2]\ttrain-logloss:0.58116\teval-logloss:0.58718\n",
            "[3]\ttrain-logloss:0.55012\teval-logloss:0.55804\n",
            "[4]\ttrain-logloss:0.52162\teval-logloss:0.53165\n",
            "[5]\ttrain-logloss:0.49543\teval-logloss:0.50874\n",
            "[6]\ttrain-logloss:0.47016\teval-logloss:0.47996\n",
            "[7]\ttrain-logloss:0.44595\teval-logloss:0.45287\n",
            "[8]\ttrain-logloss:0.42518\teval-logloss:0.43567\n",
            "[9]\ttrain-logloss:0.40418\teval-logloss:0.41193\n",
            "[10]\ttrain-logloss:0.38467\teval-logloss:0.38982\n",
            "[11]\ttrain-logloss:0.36802\teval-logloss:0.37612\n",
            "[12]\ttrain-logloss:0.35091\teval-logloss:0.35836\n",
            "[13]\ttrain-logloss:0.33496\teval-logloss:0.34182\n",
            "[14]\ttrain-logloss:0.32130\teval-logloss:0.33070\n",
            "[15]\ttrain-logloss:0.30735\teval-logloss:0.31758\n",
            "[16]\ttrain-logloss:0.29397\teval-logloss:0.30191\n",
            "[17]\ttrain-logloss:0.28142\teval-logloss:0.28993\n",
            "[18]\ttrain-logloss:0.26960\teval-logloss:0.27598\n",
            "[19]\ttrain-logloss:0.25957\teval-logloss:0.26812\n",
            "[20]\ttrain-logloss:0.24896\teval-logloss:0.25852\n",
            "[21]\ttrain-logloss:0.23899\teval-logloss:0.24919\n",
            "[22]\ttrain-logloss:0.22960\teval-logloss:0.23782\n",
            "[23]\ttrain-logloss:0.22068\teval-logloss:0.22997\n",
            "[24]\ttrain-logloss:0.21227\teval-logloss:0.22004\n",
            "[25]\ttrain-logloss:0.20429\teval-logloss:0.21279\n",
            "[26]\ttrain-logloss:0.19680\teval-logloss:0.20364\n",
            "[27]\ttrain-logloss:0.18983\teval-logloss:0.19770\n",
            "[28]\ttrain-logloss:0.18314\teval-logloss:0.18942\n",
            "[29]\ttrain-logloss:0.17686\teval-logloss:0.18284\n",
            "[30]\ttrain-logloss:0.17140\teval-logloss:0.17900\n",
            "[31]\ttrain-logloss:0.16561\teval-logloss:0.17447\n",
            "[32]\ttrain-logloss:0.15994\teval-logloss:0.16920\n",
            "[33]\ttrain-logloss:0.15457\teval-logloss:0.16426\n",
            "[34]\ttrain-logloss:0.14961\teval-logloss:0.15769\n",
            "[35]\ttrain-logloss:0.14478\teval-logloss:0.15464\n",
            "[36]\ttrain-logloss:0.14032\teval-logloss:0.14991\n",
            "[37]\ttrain-logloss:0.13605\teval-logloss:0.14413\n",
            "[38]\ttrain-logloss:0.13182\teval-logloss:0.14136\n",
            "[39]\ttrain-logloss:0.12778\teval-logloss:0.13601\n",
            "[40]\ttrain-logloss:0.12389\teval-logloss:0.13217\n",
            "[41]\ttrain-logloss:0.12023\teval-logloss:0.12716\n",
            "[42]\ttrain-logloss:0.11635\teval-logloss:0.12507\n",
            "[43]\ttrain-logloss:0.11332\teval-logloss:0.12327\n",
            "[44]\ttrain-logloss:0.11010\teval-logloss:0.12016\n",
            "[45]\ttrain-logloss:0.10737\teval-logloss:0.11862\n",
            "[46]\ttrain-logloss:0.10424\teval-logloss:0.11551\n",
            "[47]\ttrain-logloss:0.10143\teval-logloss:0.11278\n",
            "[48]\ttrain-logloss:0.09858\teval-logloss:0.10996\n",
            "[49]\ttrain-logloss:0.09572\teval-logloss:0.10868\n",
            "[50]\ttrain-logloss:0.09313\teval-logloss:0.10612\n",
            "[51]\ttrain-logloss:0.09047\teval-logloss:0.10378\n",
            "[52]\ttrain-logloss:0.08837\teval-logloss:0.10061\n",
            "[53]\ttrain-logloss:0.08608\teval-logloss:0.09834\n",
            "[54]\ttrain-logloss:0.08377\teval-logloss:0.09751\n",
            "[55]\ttrain-logloss:0.08168\teval-logloss:0.09545\n",
            "[56]\ttrain-logloss:0.07958\teval-logloss:0.09490\n",
            "[57]\ttrain-logloss:0.07767\teval-logloss:0.09300\n",
            "[58]\ttrain-logloss:0.07542\teval-logloss:0.09058\n",
            "[59]\ttrain-logloss:0.07370\teval-logloss:0.08888\n",
            "[60]\ttrain-logloss:0.07200\teval-logloss:0.08756\n",
            "[61]\ttrain-logloss:0.07039\teval-logloss:0.08706\n",
            "[62]\ttrain-logloss:0.06882\teval-logloss:0.08608\n",
            "[63]\ttrain-logloss:0.06691\teval-logloss:0.08393\n",
            "[64]\ttrain-logloss:0.06542\teval-logloss:0.08304\n",
            "[65]\ttrain-logloss:0.06372\teval-logloss:0.08129\n",
            "[66]\ttrain-logloss:0.06253\teval-logloss:0.08007\n",
            "[67]\ttrain-logloss:0.06121\teval-logloss:0.07922\n",
            "[68]\ttrain-logloss:0.06001\teval-logloss:0.07852\n",
            "[69]\ttrain-logloss:0.05896\teval-logloss:0.07744\n",
            "[70]\ttrain-logloss:0.05784\teval-logloss:0.07665\n",
            "[71]\ttrain-logloss:0.05678\teval-logloss:0.07592\n",
            "[72]\ttrain-logloss:0.05571\teval-logloss:0.07588\n",
            "[73]\ttrain-logloss:0.05466\teval-logloss:0.07547\n",
            "[74]\ttrain-logloss:0.05362\teval-logloss:0.07500\n",
            "[75]\ttrain-logloss:0.05253\teval-logloss:0.07471\n",
            "[76]\ttrain-logloss:0.05126\teval-logloss:0.07330\n",
            "[77]\ttrain-logloss:0.05040\teval-logloss:0.07303\n",
            "[78]\ttrain-logloss:0.04942\teval-logloss:0.07285\n",
            "[79]\ttrain-logloss:0.04851\teval-logloss:0.07215\n",
            "[80]\ttrain-logloss:0.04740\teval-logloss:0.07084\n",
            "[81]\ttrain-logloss:0.04644\teval-logloss:0.07036\n",
            "[82]\ttrain-logloss:0.04564\teval-logloss:0.06941\n",
            "[83]\ttrain-logloss:0.04477\teval-logloss:0.06899\n",
            "[84]\ttrain-logloss:0.04401\teval-logloss:0.06860\n",
            "[85]\ttrain-logloss:0.04323\teval-logloss:0.06825\n",
            "[86]\ttrain-logloss:0.04257\teval-logloss:0.06799\n",
            "[87]\ttrain-logloss:0.04180\teval-logloss:0.06798\n",
            "[88]\ttrain-logloss:0.04109\teval-logloss:0.06678\n",
            "[89]\ttrain-logloss:0.04044\teval-logloss:0.06649\n",
            "[90]\ttrain-logloss:0.03974\teval-logloss:0.06651\n",
            "[91]\ttrain-logloss:0.03914\teval-logloss:0.06656\n",
            "[92]\ttrain-logloss:0.03860\teval-logloss:0.06629\n",
            "[93]\ttrain-logloss:0.03812\teval-logloss:0.06668\n",
            "[94]\ttrain-logloss:0.03752\teval-logloss:0.06568\n",
            "[95]\ttrain-logloss:0.03697\teval-logloss:0.06558\n",
            "[96]\ttrain-logloss:0.03628\teval-logloss:0.06486\n",
            "[97]\ttrain-logloss:0.03573\teval-logloss:0.06394\n",
            "[98]\ttrain-logloss:0.03517\teval-logloss:0.06415\n",
            "[99]\ttrain-logloss:0.03464\teval-logloss:0.06313\n",
            "[100]\ttrain-logloss:0.03406\teval-logloss:0.06263\n",
            "[101]\ttrain-logloss:0.03362\teval-logloss:0.06278\n",
            "[102]\ttrain-logloss:0.03313\teval-logloss:0.06180\n",
            "[103]\ttrain-logloss:0.03261\teval-logloss:0.06122\n",
            "[104]\ttrain-logloss:0.03214\teval-logloss:0.06073\n",
            "[105]\ttrain-logloss:0.03169\teval-logloss:0.05980\n",
            "[106]\ttrain-logloss:0.03120\teval-logloss:0.05932\n",
            "[107]\ttrain-logloss:0.03084\teval-logloss:0.05970\n",
            "[108]\ttrain-logloss:0.03047\teval-logloss:0.05896\n",
            "[109]\ttrain-logloss:0.03003\teval-logloss:0.05845\n",
            "[110]\ttrain-logloss:0.02962\teval-logloss:0.05760\n",
            "[111]\ttrain-logloss:0.02927\teval-logloss:0.05789\n",
            "[112]\ttrain-logloss:0.02889\teval-logloss:0.05706\n",
            "[113]\ttrain-logloss:0.02848\teval-logloss:0.05660\n",
            "[114]\ttrain-logloss:0.02811\teval-logloss:0.05574\n",
            "[115]\ttrain-logloss:0.02782\teval-logloss:0.05600\n",
            "[116]\ttrain-logloss:0.02744\teval-logloss:0.05536\n",
            "[117]\ttrain-logloss:0.02708\teval-logloss:0.05497\n",
            "[118]\ttrain-logloss:0.02675\teval-logloss:0.05448\n",
            "[119]\ttrain-logloss:0.02649\teval-logloss:0.05482\n",
            "[120]\ttrain-logloss:0.02614\teval-logloss:0.05438\n",
            "[121]\ttrain-logloss:0.02585\teval-logloss:0.05390\n",
            "[122]\ttrain-logloss:0.02551\teval-logloss:0.05382\n",
            "[123]\ttrain-logloss:0.02524\teval-logloss:0.05404\n",
            "[124]\ttrain-logloss:0.02492\teval-logloss:0.05317\n",
            "[125]\ttrain-logloss:0.02465\teval-logloss:0.05247\n",
            "[126]\ttrain-logloss:0.02439\teval-logloss:0.05217\n",
            "[127]\ttrain-logloss:0.02411\teval-logloss:0.05144\n",
            "[128]\ttrain-logloss:0.02386\teval-logloss:0.05100\n",
            "[129]\ttrain-logloss:0.02364\teval-logloss:0.05126\n",
            "[130]\ttrain-logloss:0.02337\teval-logloss:0.05070\n",
            "[131]\ttrain-logloss:0.02312\teval-logloss:0.05013\n",
            "[132]\ttrain-logloss:0.02288\teval-logloss:0.05039\n",
            "[133]\ttrain-logloss:0.02269\teval-logloss:0.05074\n",
            "[134]\ttrain-logloss:0.02245\teval-logloss:0.05048\n",
            "[135]\ttrain-logloss:0.02221\teval-logloss:0.05049\n",
            "[136]\ttrain-logloss:0.02198\teval-logloss:0.05008\n",
            "[137]\ttrain-logloss:0.02175\teval-logloss:0.04983\n",
            "[138]\ttrain-logloss:0.02157\teval-logloss:0.04922\n",
            "[139]\ttrain-logloss:0.02139\teval-logloss:0.04889\n",
            "[140]\ttrain-logloss:0.02118\teval-logloss:0.04850\n",
            "[141]\ttrain-logloss:0.02101\teval-logloss:0.04881\n",
            "[142]\ttrain-logloss:0.02084\teval-logloss:0.04812\n",
            "[143]\ttrain-logloss:0.02059\teval-logloss:0.04810\n",
            "[144]\ttrain-logloss:0.02043\teval-logloss:0.04743\n",
            "[145]\ttrain-logloss:0.02027\teval-logloss:0.04713\n",
            "[146]\ttrain-logloss:0.02009\teval-logloss:0.04676\n",
            "[147]\ttrain-logloss:0.01993\teval-logloss:0.04701\n",
            "[148]\ttrain-logloss:0.01976\teval-logloss:0.04665\n",
            "[149]\ttrain-logloss:0.01956\teval-logloss:0.04618\n",
            "[150]\ttrain-logloss:0.01942\teval-logloss:0.04591\n",
            "[151]\ttrain-logloss:0.01928\teval-logloss:0.04621\n",
            "[152]\ttrain-logloss:0.01915\teval-logloss:0.04595\n",
            "[153]\ttrain-logloss:0.01903\teval-logloss:0.04564\n",
            "[154]\ttrain-logloss:0.01887\teval-logloss:0.04530\n",
            "[155]\ttrain-logloss:0.01876\teval-logloss:0.04506\n",
            "[156]\ttrain-logloss:0.01856\teval-logloss:0.04486\n",
            "[157]\ttrain-logloss:0.01841\teval-logloss:0.04455\n",
            "[158]\ttrain-logloss:0.01822\teval-logloss:0.04468\n",
            "[159]\ttrain-logloss:0.01812\teval-logloss:0.04447\n",
            "[160]\ttrain-logloss:0.01802\teval-logloss:0.04440\n",
            "[161]\ttrain-logloss:0.01791\teval-logloss:0.04469\n",
            "[162]\ttrain-logloss:0.01780\teval-logloss:0.04440\n",
            "[163]\ttrain-logloss:0.01761\teval-logloss:0.04395\n",
            "[164]\ttrain-logloss:0.01748\teval-logloss:0.04370\n",
            "[165]\ttrain-logloss:0.01735\teval-logloss:0.04395\n",
            "[166]\ttrain-logloss:0.01721\teval-logloss:0.04416\n",
            "[167]\ttrain-logloss:0.01705\teval-logloss:0.04399\n",
            "[168]\ttrain-logloss:0.01697\teval-logloss:0.04359\n",
            "[169]\ttrain-logloss:0.01688\teval-logloss:0.04353\n",
            "[170]\ttrain-logloss:0.01678\teval-logloss:0.04326\n",
            "[171]\ttrain-logloss:0.01666\teval-logloss:0.04351\n",
            "[172]\ttrain-logloss:0.01659\teval-logloss:0.04332\n",
            "[173]\ttrain-logloss:0.01648\teval-logloss:0.04310\n",
            "[174]\ttrain-logloss:0.01633\teval-logloss:0.04297\n",
            "[175]\ttrain-logloss:0.01625\teval-logloss:0.04288\n",
            "[176]\ttrain-logloss:0.01617\teval-logloss:0.04266\n",
            "[177]\ttrain-logloss:0.01607\teval-logloss:0.04243\n",
            "[178]\ttrain-logloss:0.01596\teval-logloss:0.04267\n",
            "[179]\ttrain-logloss:0.01584\teval-logloss:0.04290\n",
            "[180]\ttrain-logloss:0.01577\teval-logloss:0.04253\n",
            "[181]\ttrain-logloss:0.01564\teval-logloss:0.04239\n",
            "[182]\ttrain-logloss:0.01556\teval-logloss:0.04229\n",
            "[183]\ttrain-logloss:0.01549\teval-logloss:0.04205\n",
            "[184]\ttrain-logloss:0.01539\teval-logloss:0.04228\n",
            "[185]\ttrain-logloss:0.01532\teval-logloss:0.04193\n",
            "[186]\ttrain-logloss:0.01523\teval-logloss:0.04173\n",
            "[187]\ttrain-logloss:0.01512\teval-logloss:0.04196\n",
            "[188]\ttrain-logloss:0.01506\teval-logloss:0.04171\n",
            "[189]\ttrain-logloss:0.01499\teval-logloss:0.04147\n",
            "[190]\ttrain-logloss:0.01492\teval-logloss:0.04132\n",
            "[191]\ttrain-logloss:0.01479\teval-logloss:0.04138\n",
            "[192]\ttrain-logloss:0.01472\teval-logloss:0.04110\n",
            "[193]\ttrain-logloss:0.01465\teval-logloss:0.04087\n",
            "[194]\ttrain-logloss:0.01456\teval-logloss:0.04110\n",
            "[195]\ttrain-logloss:0.01450\teval-logloss:0.04093\n",
            "[196]\ttrain-logloss:0.01443\teval-logloss:0.04078\n",
            "[197]\ttrain-logloss:0.01435\teval-logloss:0.04054\n",
            "[198]\ttrain-logloss:0.01424\teval-logloss:0.04046\n",
            "[199]\ttrain-logloss:0.01419\teval-logloss:0.04019\n",
            "[200]\ttrain-logloss:0.01413\teval-logloss:0.03988\n",
            "[201]\ttrain-logloss:0.01404\teval-logloss:0.03952\n",
            "[202]\ttrain-logloss:0.01397\teval-logloss:0.03974\n",
            "[203]\ttrain-logloss:0.01391\teval-logloss:0.03951\n",
            "[204]\ttrain-logloss:0.01385\teval-logloss:0.03934\n",
            "[205]\ttrain-logloss:0.01378\teval-logloss:0.03956\n",
            "[206]\ttrain-logloss:0.01372\teval-logloss:0.03929\n",
            "[207]\ttrain-logloss:0.01366\teval-logloss:0.03913\n",
            "[208]\ttrain-logloss:0.01358\teval-logloss:0.03882\n",
            "[209]\ttrain-logloss:0.01351\teval-logloss:0.03868\n",
            "[210]\ttrain-logloss:0.01346\teval-logloss:0.03864\n",
            "[211]\ttrain-logloss:0.01341\teval-logloss:0.03839\n",
            "[212]\ttrain-logloss:0.01333\teval-logloss:0.03805\n",
            "[213]\ttrain-logloss:0.01326\teval-logloss:0.03826\n",
            "[214]\ttrain-logloss:0.01321\teval-logloss:0.03797\n",
            "[215]\ttrain-logloss:0.01314\teval-logloss:0.03771\n",
            "[216]\ttrain-logloss:0.01309\teval-logloss:0.03741\n",
            "[217]\ttrain-logloss:0.01303\teval-logloss:0.03729\n",
            "[218]\ttrain-logloss:0.01298\teval-logloss:0.03725\n",
            "[219]\ttrain-logloss:0.01293\teval-logloss:0.03712\n",
            "[220]\ttrain-logloss:0.01288\teval-logloss:0.03729\n",
            "[221]\ttrain-logloss:0.01283\teval-logloss:0.03714\n",
            "[222]\ttrain-logloss:0.01278\teval-logloss:0.03691\n",
            "[223]\ttrain-logloss:0.01273\teval-logloss:0.03670\n",
            "[224]\ttrain-logloss:0.01269\teval-logloss:0.03655\n",
            "[225]\ttrain-logloss:0.01261\teval-logloss:0.03626\n",
            "[226]\ttrain-logloss:0.01256\teval-logloss:0.03602\n",
            "[227]\ttrain-logloss:0.01251\teval-logloss:0.03585\n",
            "[228]\ttrain-logloss:0.01247\teval-logloss:0.03582\n",
            "[229]\ttrain-logloss:0.01242\teval-logloss:0.03568\n",
            "[230]\ttrain-logloss:0.01238\teval-logloss:0.03553\n",
            "[231]\ttrain-logloss:0.01234\teval-logloss:0.03532\n",
            "[232]\ttrain-logloss:0.01227\teval-logloss:0.03507\n",
            "[233]\ttrain-logloss:0.01222\teval-logloss:0.03485\n",
            "[234]\ttrain-logloss:0.01218\teval-logloss:0.03473\n",
            "[235]\ttrain-logloss:0.01213\teval-logloss:0.03447\n",
            "[236]\ttrain-logloss:0.01209\teval-logloss:0.03434\n",
            "[237]\ttrain-logloss:0.01203\teval-logloss:0.03406\n",
            "[238]\ttrain-logloss:0.01198\teval-logloss:0.03403\n",
            "[239]\ttrain-logloss:0.01194\teval-logloss:0.03383\n",
            "[240]\ttrain-logloss:0.01190\teval-logloss:0.03371\n",
            "[241]\ttrain-logloss:0.01187\teval-logloss:0.03360\n",
            "[242]\ttrain-logloss:0.01183\teval-logloss:0.03358\n",
            "[243]\ttrain-logloss:0.01179\teval-logloss:0.03338\n",
            "[244]\ttrain-logloss:0.01173\teval-logloss:0.03313\n",
            "[245]\ttrain-logloss:0.01169\teval-logloss:0.03301\n",
            "[246]\ttrain-logloss:0.01164\teval-logloss:0.03281\n",
            "[247]\ttrain-logloss:0.01161\teval-logloss:0.03297\n",
            "[248]\ttrain-logloss:0.01157\teval-logloss:0.03273\n",
            "[249]\ttrain-logloss:0.01153\teval-logloss:0.03250\n",
            "[250]\ttrain-logloss:0.01149\teval-logloss:0.03238\n",
            "[251]\ttrain-logloss:0.01144\teval-logloss:0.03214\n",
            "[252]\ttrain-logloss:0.01140\teval-logloss:0.03191\n",
            "[253]\ttrain-logloss:0.01137\teval-logloss:0.03207\n",
            "[254]\ttrain-logloss:0.01134\teval-logloss:0.03197\n",
            "[255]\ttrain-logloss:0.01130\teval-logloss:0.03186\n",
            "[256]\ttrain-logloss:0.01127\teval-logloss:0.03168\n",
            "[257]\ttrain-logloss:0.01121\teval-logloss:0.03142\n",
            "[258]\ttrain-logloss:0.01116\teval-logloss:0.03131\n",
            "[259]\ttrain-logloss:0.01113\teval-logloss:0.03130\n",
            "[260]\ttrain-logloss:0.01107\teval-logloss:0.03105\n",
            "[261]\ttrain-logloss:0.01104\teval-logloss:0.03120\n",
            "[262]\ttrain-logloss:0.01101\teval-logloss:0.03108\n",
            "[263]\ttrain-logloss:0.01098\teval-logloss:0.03123\n",
            "[264]\ttrain-logloss:0.01095\teval-logloss:0.03106\n",
            "[265]\ttrain-logloss:0.01090\teval-logloss:0.03086\n",
            "[266]\ttrain-logloss:0.01086\teval-logloss:0.03075\n",
            "[267]\ttrain-logloss:0.01083\teval-logloss:0.03073\n",
            "[268]\ttrain-logloss:0.01080\teval-logloss:0.03051\n",
            "[269]\ttrain-logloss:0.01075\teval-logloss:0.03028\n",
            "[270]\ttrain-logloss:0.01071\teval-logloss:0.03007\n",
            "[271]\ttrain-logloss:0.01068\teval-logloss:0.02997\n",
            "[272]\ttrain-logloss:0.01066\teval-logloss:0.02987\n",
            "[273]\ttrain-logloss:0.01062\teval-logloss:0.03001\n",
            "[274]\ttrain-logloss:0.01059\teval-logloss:0.02980\n",
            "[275]\ttrain-logloss:0.01057\teval-logloss:0.02994\n",
            "[276]\ttrain-logloss:0.01053\teval-logloss:0.02977\n",
            "[277]\ttrain-logloss:0.01049\teval-logloss:0.02956\n",
            "[278]\ttrain-logloss:0.01044\teval-logloss:0.02934\n",
            "[279]\ttrain-logloss:0.01041\teval-logloss:0.02948\n",
            "[280]\ttrain-logloss:0.01038\teval-logloss:0.02947\n",
            "[281]\ttrain-logloss:0.01035\teval-logloss:0.02927\n",
            "[282]\ttrain-logloss:0.01032\teval-logloss:0.02916\n",
            "[283]\ttrain-logloss:0.01029\teval-logloss:0.02930\n",
            "[284]\ttrain-logloss:0.01028\teval-logloss:0.02938\n",
            "[285]\ttrain-logloss:0.01025\teval-logloss:0.02921\n",
            "[286]\ttrain-logloss:0.01022\teval-logloss:0.02901\n",
            "[287]\ttrain-logloss:0.01021\teval-logloss:0.02887\n",
            "[288]\ttrain-logloss:0.01018\teval-logloss:0.02875\n",
            "[289]\ttrain-logloss:0.01015\teval-logloss:0.02859\n",
            "[290]\ttrain-logloss:0.01011\teval-logloss:0.02838\n",
            "[291]\ttrain-logloss:0.01008\teval-logloss:0.02836\n",
            "[292]\ttrain-logloss:0.01005\teval-logloss:0.02845\n",
            "[293]\ttrain-logloss:0.01002\teval-logloss:0.02835\n",
            "[294]\ttrain-logloss:0.01000\teval-logloss:0.02841\n",
            "[295]\ttrain-logloss:0.00998\teval-logloss:0.02848\n",
            "[296]\ttrain-logloss:0.00995\teval-logloss:0.02838\n",
            "[297]\ttrain-logloss:0.00992\teval-logloss:0.02823\n",
            "[298]\ttrain-logloss:0.00989\teval-logloss:0.02831\n",
            "[299]\ttrain-logloss:0.00985\teval-logloss:0.02812\n",
            "[300]\ttrain-logloss:0.00981\teval-logloss:0.02792\n",
            "[301]\ttrain-logloss:0.00977\teval-logloss:0.02783\n",
            "[302]\ttrain-logloss:0.00974\teval-logloss:0.02791\n",
            "[303]\ttrain-logloss:0.00972\teval-logloss:0.02782\n",
            "[304]\ttrain-logloss:0.00969\teval-logloss:0.02773\n",
            "[305]\ttrain-logloss:0.00967\teval-logloss:0.02763\n",
            "[306]\ttrain-logloss:0.00965\teval-logloss:0.02769\n",
            "[307]\ttrain-logloss:0.00962\teval-logloss:0.02774\n",
            "[308]\ttrain-logloss:0.00959\teval-logloss:0.02755\n",
            "[309]\ttrain-logloss:0.00957\teval-logloss:0.02742\n",
            "[310]\ttrain-logloss:0.00955\teval-logloss:0.02748\n",
            "[311]\ttrain-logloss:0.00953\teval-logloss:0.02739\n",
            "[312]\ttrain-logloss:0.00950\teval-logloss:0.02730\n",
            "[313]\ttrain-logloss:0.00949\teval-logloss:0.02720\n",
            "[314]\ttrain-logloss:0.00946\teval-logloss:0.02732\n",
            "[315]\ttrain-logloss:0.00944\teval-logloss:0.02738\n",
            "[316]\ttrain-logloss:0.00942\teval-logloss:0.02725\n",
            "[317]\ttrain-logloss:0.00940\teval-logloss:0.02730\n",
            "[318]\ttrain-logloss:0.00938\teval-logloss:0.02736\n",
            "[319]\ttrain-logloss:0.00937\teval-logloss:0.02726\n",
            "[320]\ttrain-logloss:0.00935\teval-logloss:0.02728\n",
            "[321]\ttrain-logloss:0.00933\teval-logloss:0.02719\n",
            "[322]\ttrain-logloss:0.00930\teval-logloss:0.02725\n",
            "[323]\ttrain-logloss:0.00929\teval-logloss:0.02712\n",
            "[324]\ttrain-logloss:0.00927\teval-logloss:0.02717\n",
            "[325]\ttrain-logloss:0.00925\teval-logloss:0.02722\n",
            "[326]\ttrain-logloss:0.00924\teval-logloss:0.02728\n",
            "[327]\ttrain-logloss:0.00921\teval-logloss:0.02710\n",
            "[328]\ttrain-logloss:0.00918\teval-logloss:0.02715\n",
            "[329]\ttrain-logloss:0.00917\teval-logloss:0.02702\n",
            "[330]\ttrain-logloss:0.00915\teval-logloss:0.02708\n",
            "[331]\ttrain-logloss:0.00913\teval-logloss:0.02713\n",
            "[332]\ttrain-logloss:0.00911\teval-logloss:0.02714\n",
            "[333]\ttrain-logloss:0.00910\teval-logloss:0.02705\n",
            "[334]\ttrain-logloss:0.00908\teval-logloss:0.02710\n",
            "[335]\ttrain-logloss:0.00907\teval-logloss:0.02696\n",
            "[336]\ttrain-logloss:0.00906\teval-logloss:0.02703\n",
            "[337]\ttrain-logloss:0.00903\teval-logloss:0.02682\n",
            "[338]\ttrain-logloss:0.00901\teval-logloss:0.02687\n",
            "[339]\ttrain-logloss:0.00900\teval-logloss:0.02694\n",
            "[340]\ttrain-logloss:0.00899\teval-logloss:0.02700\n",
            "[341]\ttrain-logloss:0.00898\teval-logloss:0.02693\n",
            "[342]\ttrain-logloss:0.00897\teval-logloss:0.02698\n",
            "[343]\ttrain-logloss:0.00895\teval-logloss:0.02700\n",
            "[344]\ttrain-logloss:0.00893\teval-logloss:0.02705\n",
            "[345]\ttrain-logloss:0.00892\teval-logloss:0.02699\n",
            "[346]\ttrain-logloss:0.00890\teval-logloss:0.02686\n",
            "[347]\ttrain-logloss:0.00889\teval-logloss:0.02673\n",
            "[348]\ttrain-logloss:0.00888\teval-logloss:0.02680\n",
            "[349]\ttrain-logloss:0.00886\teval-logloss:0.02681\n",
            "[350]\ttrain-logloss:0.00884\teval-logloss:0.02668\n",
            "[351]\ttrain-logloss:0.00883\teval-logloss:0.02662\n",
            "[352]\ttrain-logloss:0.00882\teval-logloss:0.02650\n",
            "[353]\ttrain-logloss:0.00880\teval-logloss:0.02642\n",
            "[354]\ttrain-logloss:0.00879\teval-logloss:0.02635\n",
            "[355]\ttrain-logloss:0.00878\teval-logloss:0.02640\n",
            "[356]\ttrain-logloss:0.00877\teval-logloss:0.02646\n",
            "[357]\ttrain-logloss:0.00876\teval-logloss:0.02652\n",
            "[358]\ttrain-logloss:0.00875\teval-logloss:0.02646\n",
            "[359]\ttrain-logloss:0.00874\teval-logloss:0.02651\n",
            "[360]\ttrain-logloss:0.00874\teval-logloss:0.02655\n",
            "[361]\ttrain-logloss:0.00873\teval-logloss:0.02661\n",
            "[362]\ttrain-logloss:0.00872\teval-logloss:0.02654\n",
            "[363]\ttrain-logloss:0.00871\teval-logloss:0.02642\n",
            "[364]\ttrain-logloss:0.00869\teval-logloss:0.02634\n",
            "[365]\ttrain-logloss:0.00868\teval-logloss:0.02627\n",
            "[366]\ttrain-logloss:0.00867\teval-logloss:0.02632\n",
            "[367]\ttrain-logloss:0.00866\teval-logloss:0.02639\n",
            "[368]\ttrain-logloss:0.00864\teval-logloss:0.02633\n",
            "[369]\ttrain-logloss:0.00863\teval-logloss:0.02638\n",
            "[370]\ttrain-logloss:0.00862\teval-logloss:0.02631\n",
            "[371]\ttrain-logloss:0.00861\teval-logloss:0.02641\n",
            "[372]\ttrain-logloss:0.00860\teval-logloss:0.02647\n",
            "[373]\ttrain-logloss:0.00859\teval-logloss:0.02653\n",
            "[374]\ttrain-logloss:0.00858\teval-logloss:0.02645\n",
            "[375]\ttrain-logloss:0.00858\teval-logloss:0.02638\n",
            "[376]\ttrain-logloss:0.00857\teval-logloss:0.02627\n",
            "[377]\ttrain-logloss:0.00856\teval-logloss:0.02630\n",
            "[378]\ttrain-logloss:0.00855\teval-logloss:0.02636\n",
            "[379]\ttrain-logloss:0.00854\teval-logloss:0.02643\n",
            "[380]\ttrain-logloss:0.00853\teval-logloss:0.02648\n",
            "[381]\ttrain-logloss:0.00852\teval-logloss:0.02641\n",
            "[382]\ttrain-logloss:0.00851\teval-logloss:0.02647\n",
            "[383]\ttrain-logloss:0.00851\teval-logloss:0.02653\n",
            "[384]\ttrain-logloss:0.00850\teval-logloss:0.02648\n",
            "[385]\ttrain-logloss:0.00849\teval-logloss:0.02639\n",
            "[386]\ttrain-logloss:0.00848\teval-logloss:0.02645\n",
            "[387]\ttrain-logloss:0.00847\teval-logloss:0.02637\n",
            "[388]\ttrain-logloss:0.00846\teval-logloss:0.02643\n",
            "[389]\ttrain-logloss:0.00846\teval-logloss:0.02647\n",
            "[390]\ttrain-logloss:0.00845\teval-logloss:0.02640\n",
            "[391]\ttrain-logloss:0.00844\teval-logloss:0.02629\n",
            "[392]\ttrain-logloss:0.00843\teval-logloss:0.02624\n",
            "[393]\ttrain-logloss:0.00842\teval-logloss:0.02630\n",
            "[394]\ttrain-logloss:0.00841\teval-logloss:0.02634\n",
            "[395]\ttrain-logloss:0.00841\teval-logloss:0.02640\n",
            "[396]\ttrain-logloss:0.00840\teval-logloss:0.02634\n",
            "[397]\ttrain-logloss:0.00839\teval-logloss:0.02640\n",
            "[398]\ttrain-logloss:0.00838\teval-logloss:0.02632\n",
            "[399]\ttrain-logloss:0.00837\teval-logloss:0.02635\n"
          ]
        }
      ]
    },
    {
      "cell_type": "code",
      "source": [
        "pp = xgb_model.predict(dtest)\n",
        "print(np.round(pp[:10],3))\n",
        "\n",
        "p = [ 1 if x > 0.5 else 0 for x in pp ]\n",
        "print('예측값:',p[:10])\n"
      ],
      "metadata": {
        "colab": {
          "base_uri": "https://localhost:8080/"
        },
        "id": "USdOCPhacfhe",
        "outputId": "b6ee3db0-f09b-4ddf-b4cc-bc0533ce4a87"
      },
      "execution_count": 14,
      "outputs": [
        {
          "output_type": "stream",
          "name": "stdout",
          "text": [
            "[0.986 0.99  1.    0.992 0.    1.    0.001 0.999 0.    0.906]\n",
            "예측값: [1, 1, 1, 1, 0, 1, 0, 1, 0, 1]\n"
          ]
        }
      ]
    },
    {
      "cell_type": "code",
      "source": [
        "from sklearn.metrics import confusion_matrix, accuracy_score\n",
        "from sklearn.metrics import precision_score, recall_score\n",
        "from sklearn.metrics import f1_score, roc_auc_score\n",
        "\n",
        "def get_clf_eval(y_test, pred=None, pred_proba=None):\n",
        "    confusion = confusion_matrix( y_test, pred)\n",
        "    accuracy = accuracy_score(y_test , pred)\n",
        "    precision = precision_score(y_test , pred)\n",
        "    recall = recall_score(y_test , pred)\n",
        "    f1 = f1_score(y_test,pred)\n",
        "    roc_auc = roc_auc_score(y_test, pred_proba)\n",
        "    print('오차 행렬')\n",
        "    print(confusion)\n",
        "    print('정확도: {0:.4f}, 정밀도: {1:.4f}, 재현율: {2:.4f},\\\n",
        "    F1: {3:.4f}, AUC:{4:.4f}'.format(accuracy, precision, recall, f1, roc_auc))\n"
      ],
      "metadata": {
        "id": "-5f1AlzBd_8U"
      },
      "execution_count": 15,
      "outputs": []
    },
    {
      "cell_type": "code",
      "source": [
        "get_clf_eval(y_test,p,pp)\n"
      ],
      "metadata": {
        "colab": {
          "base_uri": "https://localhost:8080/"
        },
        "id": "xIieLLFpgw8A",
        "outputId": "cc8beb9a-0412-4e4c-98bd-22e2ee95ea67"
      },
      "execution_count": 16,
      "outputs": [
        {
          "output_type": "stream",
          "name": "stdout",
          "text": [
            "오차 행렬\n",
            "[[56  2]\n",
            " [ 0 85]]\n",
            "정확도: 0.9860, 정밀도: 0.9770, 재현율: 1.0000,    F1: 0.9884, AUC:0.9998\n"
          ]
        }
      ]
    },
    {
      "cell_type": "code",
      "source": [
        "from sklearn.linear_model import LogisticRegression\n",
        "from sklearn.neighbors import KNeighborsClassifier"
      ],
      "metadata": {
        "id": "4Q6qWiFwkaC3"
      },
      "execution_count": 17,
      "outputs": []
    },
    {
      "cell_type": "code",
      "source": [
        "lr = LogisticRegression()\n",
        "knn = KNeighborsClassifier()\n",
        "models=[lr,knn]\n",
        "for model in models:\n",
        "  model.fit(x_train,y_train)\n",
        "  pred=model.predict(x_test)\n",
        "  pred_prob=model.predict_proba(x_test)[:,1]\n",
        "  print(\"\\n\",model.__class__.__name__)\n",
        "  get_clf_eval(y_test , pred, pred_prob)\n",
        ""
      ],
      "metadata": {
        "colab": {
          "base_uri": "https://localhost:8080/"
        },
        "id": "g2gByoj8k_V-",
        "outputId": "e477b037-ffb7-413a-f615-b328be796375"
      },
      "execution_count": 18,
      "outputs": [
        {
          "output_type": "stream",
          "name": "stdout",
          "text": [
            "\n",
            " LogisticRegression\n",
            "오차 행렬\n",
            "[[56  2]\n",
            " [ 2 83]]\n",
            "정확도: 0.9720, 정밀도: 0.9765, 재현율: 0.9765,    F1: 0.9765, AUC:0.9986\n",
            "\n",
            " KNeighborsClassifier\n",
            "오차 행렬\n",
            "[[56  2]\n",
            " [ 4 81]]\n",
            "정확도: 0.9580, 정밀도: 0.9759, 재현율: 0.9529,    F1: 0.9643, AUC:0.9802\n"
          ]
        },
        {
          "output_type": "stream",
          "name": "stderr",
          "text": [
            "/usr/local/lib/python3.10/dist-packages/sklearn/linear_model/_logistic.py:458: ConvergenceWarning: lbfgs failed to converge (status=1):\n",
            "STOP: TOTAL NO. of ITERATIONS REACHED LIMIT.\n",
            "\n",
            "Increase the number of iterations (max_iter) or scale the data as shown in:\n",
            "    https://scikit-learn.org/stable/modules/preprocessing.html\n",
            "Please also refer to the documentation for alternative solver options:\n",
            "    https://scikit-learn.org/stable/modules/linear_model.html#logistic-regression\n",
            "  n_iter_i = _check_optimize_result(\n"
          ]
        }
      ]
    },
    {
      "cell_type": "code",
      "source": [
        "from sklearn.preprocessing import StandardScaler\n",
        "ss = StandardScaler()\n",
        "ss.fit(data)\n",
        "scaled_data = ss.transform(data)\n",
        "x_train,x_test,y_train,y_test = train_test_split(scaled_data,label)\n"
      ],
      "metadata": {
        "id": "a7kq8OZell32"
      },
      "execution_count": 19,
      "outputs": []
    },
    {
      "cell_type": "code",
      "source": [
        "from xgboost import XGBClassifier"
      ],
      "metadata": {
        "id": "IVT4tvaWmU2-"
      },
      "execution_count": 20,
      "outputs": []
    },
    {
      "cell_type": "code",
      "source": [
        "xgb_wrapper = XGBClassifier(n_estimators=400,\n",
        "                            learning_rate=0.1,\n",
        "                            max_depth=3)\n",
        "xgb_wrapper.fit(x_train, y_train)\n",
        "w_preds = xgb_wrapper.predict(x_test)\n",
        "w_pred_proba = xgb_wrapper.predict_proba(x_test)[:, 1]\n",
        "get_clf_eval(y_test , w_preds, w_pred_proba)\n"
      ],
      "metadata": {
        "colab": {
          "base_uri": "https://localhost:8080/"
        },
        "id": "iH4KbTYnoIjL",
        "outputId": "fd813e56-0281-4009-a330-cb657b868a56"
      },
      "execution_count": 21,
      "outputs": [
        {
          "output_type": "stream",
          "name": "stdout",
          "text": [
            "오차 행렬\n",
            "[[54  5]\n",
            " [ 3 81]]\n",
            "정확도: 0.9441, 정밀도: 0.9419, 재현율: 0.9643,    F1: 0.9529, AUC:0.9863\n"
          ]
        }
      ]
    },
    {
      "cell_type": "markdown",
      "source": [
        "# LightGBM\n",
        "\n",
        "---\n",
        "XGBoost보다 학습에 걸리는 시간이 훨씬 적다,\\\n",
        "메모리 사용량도 상대적으로 적다\\\n",
        "XGBoost 의 예측 성능은 별다른 차이 없음\n",
        "\n",
        "적은 데이터 세트에 적용할 경우 과적합이 발생하기 쉽다\n"
      ],
      "metadata": {
        "id": "LJJpzAqZq5lj"
      }
    },
    {
      "cell_type": "code",
      "source": [
        "import lightgbm\n",
        "from lightgbm import LGBMClassifier\n"
      ],
      "metadata": {
        "id": "s1wumqQEq6Er"
      },
      "execution_count": 22,
      "outputs": []
    },
    {
      "cell_type": "code",
      "source": [
        "lgbm = LGBMClassifier(n_estimators=400, learning_rate=0.05)\n",
        "\n",
        "evals = [(x_tr, y_tr), (x_val, y_val)]\n",
        "lgbm.fit(x_tr, y_tr,\n",
        "                 early_stopping_rounds=50,\n",
        "                 eval_metric=\"logloss\",\n",
        "                 eval_set=evals)\n",
        "preds = lgbm.predict(x_test)\n",
        "pred_proba = lgbm.predict_proba(x_test)[:, 1]\n"
      ],
      "metadata": {
        "id": "AWoKfpAsrgFl"
      },
      "execution_count": null,
      "outputs": []
    },
    {
      "cell_type": "code",
      "source": [
        "get_clf_eval(y_test , pred, pred_prob)"
      ],
      "metadata": {
        "colab": {
          "base_uri": "https://localhost:8080/"
        },
        "id": "hhM1MVpZrkqU",
        "outputId": "3e544292-704c-41de-e841-1ad9a70c377e"
      },
      "execution_count": 26,
      "outputs": [
        {
          "output_type": "stream",
          "name": "stdout",
          "text": [
            "오차 행렬\n",
            "[[21 38]\n",
            " [39 45]]\n",
            "정확도: 0.4615, 정밀도: 0.5422, 재현율: 0.5357,    F1: 0.5389, AUC:0.4202\n"
          ]
        }
      ]
    },
    {
      "cell_type": "code",
      "source": [
        "from lightgbm import plot_importance\n",
        "import matplotlib.pyplot as plt\n",
        "\n",
        "plot_importance(lgbm, ax=plt.gca())\n",
        "plt.show()\n"
      ],
      "metadata": {
        "colab": {
          "base_uri": "https://localhost:8080/",
          "height": 472
        },
        "id": "fGUMiLUswXPf",
        "outputId": "1c94991f-af91-4b98-d1f5-b41855ec081f"
      },
      "execution_count": 39,
      "outputs": [
        {
          "output_type": "display_data",
          "data": {
            "text/plain": [
              "<Figure size 640x480 with 1 Axes>"
            ],
            "image/png": "[encoded data removed]"
          },
          "metadata": {}
        }
      ]
    },
    {
      "cell_type": "markdown",
      "source": [
        "# 베이지안 최적한 기반 하이퍼 파라미터 튜닝\n",
        "\n",
        "---\n",
        "목적 함수 식을 제대로 할 수 없는 블랙 박스 형태의 함수에서\n",
        "\n",
        "최대 또는 최소 함수 반환 값을 만드는 최적 입력값을\n",
        "\n",
        "가능한 적은 시도를 통해 빠르고 효과적으로 찾아주는 방식입니다.\n"
      ],
      "metadata": {
        "id": "aauTqeP_wuP8"
      }
    },
    {
      "cell_type": "code",
      "source": [
        "from hyperopt import hp\n",
        "from hyperopt import fmin, tpe, Trials\n",
        "from hyperopt import hp\n",
        "from sklearn.model_selection import cross_val_score\n",
        "from xgboost import XGBClassifier\n",
        "from hyperopt import STATUS_OK\n",
        "from hyperopt import fmin, tpe, Trials\n"
      ],
      "metadata": {
        "id": "e3pBRKDxxCTz"
      },
      "execution_count": 40,
      "outputs": []
    },
    {
      "cell_type": "code",
      "source": [
        "search_space = {'x': hp.quniform('x', -10, 10, 1),\n",
        "                'y': hp.quniform('y', -15, 15, 1) }\n"
      ],
      "metadata": {
        "id": "LYvnF5e_0jZF"
      },
      "execution_count": 29,
      "outputs": []
    },
    {
      "cell_type": "code",
      "source": [
        "def objective_func(search_space):\n",
        "    x = search_space['x']\n",
        "    y = search_space['y']\n",
        "    retval = x**2 - 20*y\n",
        "\n",
        "    return retval\n"
      ],
      "metadata": {
        "id": "KGqb1xtA0l8Y"
      },
      "execution_count": 30,
      "outputs": []
    },
    {
      "cell_type": "code",
      "source": [
        "trial_val = Trials()\n",
        "best_01 = fmin(fn=objective_func, space=search_space, algo=tpe.suggest, max_evals=300,trials=trial_val)\n",
        "print('best:', best_01)\n"
      ],
      "metadata": {
        "colab": {
          "base_uri": "https://localhost:8080/"
        },
        "id": "A4DDu3j40neC",
        "outputId": "f6c3a2b6-db06-4c93-a183-39082bcf1857"
      },
      "execution_count": 31,
      "outputs": [
        {
          "output_type": "stream",
          "name": "stdout",
          "text": [
            "100%|██████████| 300/300 [00:08<00:00, 37.43trial/s, best loss: -300.0]\n",
            "best: {'x': -0.0, 'y': 15.0}\n"
          ]
        }
      ]
    },
    {
      "cell_type": "code",
      "source": [
        "a=trial_val.results"
      ],
      "metadata": {
        "id": "jMZp1kkP3pNx"
      },
      "execution_count": 32,
      "outputs": []
    },
    {
      "cell_type": "code",
      "source": [
        "trial_val.results"
      ],
      "metadata": {
        "id": "FD0xD1LN5Ask"
      },
      "execution_count": null,
      "outputs": []
    },
    {
      "cell_type": "code",
      "source": [
        "dic =trial_val.vals\n",
        "for n,i in enumerate(trial_val.results):\n",
        "  print(\"x:\",dic['x'][n],\"y:\",dic['y'][n],i)"
      ],
      "metadata": {
        "id": "it5T6w_U3rye"
      },
      "execution_count": null,
      "outputs": []
    },
    {
      "cell_type": "code",
      "source": [
        "cancer = load_breast_cancer()\n",
        "data = cancer.data\n",
        "label = cancer.target\n",
        "ss = StandardScaler()\n",
        "ss.fit(data)\n",
        "scaled_data = ss.transform(data)\n",
        "x_train,x_test,y_train,y_test = train_test_split(scaled_data,label)\n",
        "x_tr,x_val,y_tr,y_val = train_test_split(x_train,y_train)\n"
      ],
      "metadata": {
        "id": "l8hEV664MthY"
      },
      "execution_count": 55,
      "outputs": []
    },
    {
      "cell_type": "code",
      "source": [
        "xgb_space = {'max_depth': hp.quniform('max_depth', 5, 20, 1),\n",
        "             'min_child_weight': hp.quniform('min_child_weight', 1, 2, 1),\n",
        "            'learning_rate': hp.uniform('learning_rate', 0.01, 0.2),\n",
        "            'colsample_bytree': hp.uniform('colsample_bytree', 0.5, 1),\n",
        "                   }\n"
      ],
      "metadata": {
        "id": "CIRvsXvNOLJc"
      },
      "execution_count": 56,
      "outputs": []
    },
    {
      "cell_type": "code",
      "source": [
        "def objective_fun(search_space):\n",
        "    model = XGBClassifier(n_estimators=100,\n",
        "                          max_depth=int(search_space['max_depth']),\n",
        "                          min_child_weight=int(search_space['min_child_weight']),\n",
        "                          learning_rate=search_space['learning_rate'],\n",
        "                          colsample_bytree=search_space['colsample_bytree'],\n",
        "                          eval_metric='logloss')\n",
        "    accuracy = cross_val_score(model,\n",
        "                               x_train, y_train,\n",
        "                               scoring='accuracy',\n",
        "                               cv=3)\n",
        "    return {'loss':-1 * np.mean(accuracy), 'status': STATUS_OK}\n"
      ],
      "metadata": {
        "id": "y4894MlYOuy3"
      },
      "execution_count": 59,
      "outputs": []
    },
    {
      "cell_type": "code",
      "source": [
        "trial_val = Trials()\n",
        "best = fmin(fn=objective_fun,\n",
        "            space=xgb_space,\n",
        "            algo=tpe.suggest,\n",
        "            max_evals=500, # 최대 반복 횟수를 지정합니다.\n",
        "            trials=trial_val, rstate=np.random.default_rng(seed=9)\n",
        "            )\n",
        "print('best:', best)\n"
      ],
      "metadata": {
        "colab": {
          "base_uri": "https://localhost:8080/"
        },
        "id": "HlrYTD2CP69u",
        "outputId": "27735de6-d983-42dd-db95-877024450155"
      },
      "execution_count": 60,
      "outputs": [
        {
          "output_type": "stream",
          "name": "stdout",
          "text": [
            "100%|██████████| 500/500 [02:20<00:00,  3.57trial/s, best loss: -0.971830985915493]\n",
            "best: {'colsample_bytree': 0.5234094913067147, 'learning_rate': 0.14467783348989724, 'max_depth': 15.0, 'min_child_weight': 2.0}\n"
          ]
        }
      ]
    },
    {
      "cell_type": "code",
      "source": [],
      "metadata": {
        "id": "g0vwYFrJRSBO"
      },
      "execution_count": null,
      "outputs": []
    }
  ]
}